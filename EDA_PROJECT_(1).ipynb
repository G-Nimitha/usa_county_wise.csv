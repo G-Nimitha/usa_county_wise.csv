{
  "cells": [
    {
      "cell_type": "markdown",
      "metadata": {
        "id": "view-in-github",
        "colab_type": "text"
      },
      "source": [
        "<a href=\"https://colab.research.google.com/github/G-Nimitha/usa_county_wise.csv/blob/main/EDA_PROJECT_(1).ipynb\" target=\"_parent\"><img src=\"https://colab.research.google.com/assets/colab-badge.svg\" alt=\"Open In Colab\"/></a>"
      ]
    },
    {
      "cell_type": "code",
      "execution_count": null,
      "id": "25fe321b",
      "metadata": {
        "id": "25fe321b"
      },
      "outputs": [],
      "source": [
        "import numpy as np\n",
        "import pandas as pd"
      ]
    },
    {
      "cell_type": "code",
      "execution_count": null,
      "id": "f47fd53d",
      "metadata": {
        "id": "f47fd53d"
      },
      "outputs": [],
      "source": [
        "#reading csv file\n",
        "df = pd.read_csv(\"/Users/nimithareddy/Downloads/archive/usa_county_wise.csv\")"
      ]
    },
    {
      "cell_type": "code",
      "execution_count": null,
      "id": "0726103b",
      "metadata": {
        "id": "0726103b",
        "outputId": "26335374-d888-4120-c386-40e3741f3a03"
      },
      "outputs": [
        {
          "name": "stdout",
          "output_type": "stream",
          "text": [
            "<class 'pandas.core.frame.DataFrame'>\n",
            "RangeIndex: 627920 entries, 0 to 627919\n",
            "Data columns (total 14 columns):\n",
            " #   Column          Non-Null Count   Dtype  \n",
            "---  ------          --------------   -----  \n",
            " 0   UID             627920 non-null  int64  \n",
            " 1   iso2            627920 non-null  object \n",
            " 2   iso3            627920 non-null  object \n",
            " 3   code3           627920 non-null  int64  \n",
            " 4   FIPS            626040 non-null  float64\n",
            " 5   Admin2          626792 non-null  object \n",
            " 6   Province_State  627920 non-null  object \n",
            " 7   Country_Region  627920 non-null  object \n",
            " 8   Lat             627920 non-null  float64\n",
            " 9   Long_           627920 non-null  float64\n",
            " 10  Combined_Key    627920 non-null  object \n",
            " 11  Date            627920 non-null  object \n",
            " 12  Confirmed       627920 non-null  int64  \n",
            " 13  Deaths          627920 non-null  int64  \n",
            "dtypes: float64(3), int64(4), object(7)\n",
            "memory usage: 67.1+ MB\n"
          ]
        }
      ],
      "source": [
        "df.info()"
      ]
    },
    {
      "cell_type": "code",
      "execution_count": null,
      "id": "4b5b8f3f",
      "metadata": {
        "id": "4b5b8f3f",
        "outputId": "a64f4ae3-4577-40ae-d7c9-fa4ce5d96f78"
      },
      "outputs": [
        {
          "data": {
            "text/html": [
              "<div>\n",
              "<style scoped>\n",
              "    .dataframe tbody tr th:only-of-type {\n",
              "        vertical-align: middle;\n",
              "    }\n",
              "\n",
              "    .dataframe tbody tr th {\n",
              "        vertical-align: top;\n",
              "    }\n",
              "\n",
              "    .dataframe thead th {\n",
              "        text-align: right;\n",
              "    }\n",
              "</style>\n",
              "<table border=\"1\" class=\"dataframe\">\n",
              "  <thead>\n",
              "    <tr style=\"text-align: right;\">\n",
              "      <th></th>\n",
              "      <th>UID</th>\n",
              "      <th>code3</th>\n",
              "      <th>FIPS</th>\n",
              "      <th>Lat</th>\n",
              "      <th>Long_</th>\n",
              "      <th>Confirmed</th>\n",
              "      <th>Deaths</th>\n",
              "    </tr>\n",
              "  </thead>\n",
              "  <tbody>\n",
              "    <tr>\n",
              "      <th>count</th>\n",
              "      <td>6.279200e+05</td>\n",
              "      <td>627920.000000</td>\n",
              "      <td>626040.000000</td>\n",
              "      <td>627920.000000</td>\n",
              "      <td>627920.000000</td>\n",
              "      <td>627920.000000</td>\n",
              "      <td>627920.000000</td>\n",
              "    </tr>\n",
              "    <tr>\n",
              "      <th>mean</th>\n",
              "      <td>8.342958e+07</td>\n",
              "      <td>834.491617</td>\n",
              "      <td>33061.684685</td>\n",
              "      <td>36.707212</td>\n",
              "      <td>-88.601474</td>\n",
              "      <td>357.284285</td>\n",
              "      <td>17.536328</td>\n",
              "    </tr>\n",
              "    <tr>\n",
              "      <th>std</th>\n",
              "      <td>4.314702e+06</td>\n",
              "      <td>36.492620</td>\n",
              "      <td>18636.156825</td>\n",
              "      <td>9.061572</td>\n",
              "      <td>21.715747</td>\n",
              "      <td>3487.282694</td>\n",
              "      <td>300.991466</td>\n",
              "    </tr>\n",
              "    <tr>\n",
              "      <th>min</th>\n",
              "      <td>1.600000e+01</td>\n",
              "      <td>16.000000</td>\n",
              "      <td>60.000000</td>\n",
              "      <td>-14.271000</td>\n",
              "      <td>-174.159600</td>\n",
              "      <td>0.000000</td>\n",
              "      <td>0.000000</td>\n",
              "    </tr>\n",
              "    <tr>\n",
              "      <th>25%</th>\n",
              "      <td>8.401811e+07</td>\n",
              "      <td>840.000000</td>\n",
              "      <td>19079.000000</td>\n",
              "      <td>33.895587</td>\n",
              "      <td>-97.790204</td>\n",
              "      <td>0.000000</td>\n",
              "      <td>0.000000</td>\n",
              "    </tr>\n",
              "    <tr>\n",
              "      <th>50%</th>\n",
              "      <td>8.402921e+07</td>\n",
              "      <td>840.000000</td>\n",
              "      <td>31014.000000</td>\n",
              "      <td>38.002344</td>\n",
              "      <td>-89.486710</td>\n",
              "      <td>4.000000</td>\n",
              "      <td>0.000000</td>\n",
              "    </tr>\n",
              "    <tr>\n",
              "      <th>75%</th>\n",
              "      <td>8.404612e+07</td>\n",
              "      <td>840.000000</td>\n",
              "      <td>47131.000000</td>\n",
              "      <td>41.573069</td>\n",
              "      <td>-82.311265</td>\n",
              "      <td>63.000000</td>\n",
              "      <td>1.000000</td>\n",
              "    </tr>\n",
              "    <tr>\n",
              "      <th>max</th>\n",
              "      <td>8.410000e+07</td>\n",
              "      <td>850.000000</td>\n",
              "      <td>99999.000000</td>\n",
              "      <td>69.314792</td>\n",
              "      <td>145.673900</td>\n",
              "      <td>224051.000000</td>\n",
              "      <td>23500.000000</td>\n",
              "    </tr>\n",
              "  </tbody>\n",
              "</table>\n",
              "</div>"
            ],
            "text/plain": [
              "                UID          code3           FIPS            Lat  \\\n",
              "count  6.279200e+05  627920.000000  626040.000000  627920.000000   \n",
              "mean   8.342958e+07     834.491617   33061.684685      36.707212   \n",
              "std    4.314702e+06      36.492620   18636.156825       9.061572   \n",
              "min    1.600000e+01      16.000000      60.000000     -14.271000   \n",
              "25%    8.401811e+07     840.000000   19079.000000      33.895587   \n",
              "50%    8.402921e+07     840.000000   31014.000000      38.002344   \n",
              "75%    8.404612e+07     840.000000   47131.000000      41.573069   \n",
              "max    8.410000e+07     850.000000   99999.000000      69.314792   \n",
              "\n",
              "               Long_      Confirmed         Deaths  \n",
              "count  627920.000000  627920.000000  627920.000000  \n",
              "mean      -88.601474     357.284285      17.536328  \n",
              "std        21.715747    3487.282694     300.991466  \n",
              "min      -174.159600       0.000000       0.000000  \n",
              "25%       -97.790204       0.000000       0.000000  \n",
              "50%       -89.486710       4.000000       0.000000  \n",
              "75%       -82.311265      63.000000       1.000000  \n",
              "max       145.673900  224051.000000   23500.000000  "
            ]
          },
          "execution_count": 4,
          "metadata": {},
          "output_type": "execute_result"
        }
      ],
      "source": [
        "df.describe()"
      ]
    },
    {
      "cell_type": "code",
      "execution_count": null,
      "id": "457a054e",
      "metadata": {
        "id": "457a054e",
        "outputId": "f1815d45-bbe7-4ff3-ee07-b632a4478648"
      },
      "outputs": [
        {
          "data": {
            "text/html": [
              "<div>\n",
              "<style scoped>\n",
              "    .dataframe tbody tr th:only-of-type {\n",
              "        vertical-align: middle;\n",
              "    }\n",
              "\n",
              "    .dataframe tbody tr th {\n",
              "        vertical-align: top;\n",
              "    }\n",
              "\n",
              "    .dataframe thead th {\n",
              "        text-align: right;\n",
              "    }\n",
              "</style>\n",
              "<table border=\"1\" class=\"dataframe\">\n",
              "  <thead>\n",
              "    <tr style=\"text-align: right;\">\n",
              "      <th></th>\n",
              "      <th>UID</th>\n",
              "      <th>iso2</th>\n",
              "      <th>iso3</th>\n",
              "      <th>code3</th>\n",
              "      <th>FIPS</th>\n",
              "      <th>Admin2</th>\n",
              "      <th>Province_State</th>\n",
              "      <th>Country_Region</th>\n",
              "      <th>Lat</th>\n",
              "      <th>Long_</th>\n",
              "      <th>Combined_Key</th>\n",
              "      <th>Date</th>\n",
              "      <th>Confirmed</th>\n",
              "      <th>Deaths</th>\n",
              "    </tr>\n",
              "  </thead>\n",
              "  <tbody>\n",
              "    <tr>\n",
              "      <th>0</th>\n",
              "      <td>16</td>\n",
              "      <td>AS</td>\n",
              "      <td>ASM</td>\n",
              "      <td>16</td>\n",
              "      <td>60.0</td>\n",
              "      <td>NaN</td>\n",
              "      <td>American Samoa</td>\n",
              "      <td>US</td>\n",
              "      <td>-14.271000</td>\n",
              "      <td>-170.132000</td>\n",
              "      <td>American Samoa, US</td>\n",
              "      <td>1/22/20</td>\n",
              "      <td>0</td>\n",
              "      <td>0</td>\n",
              "    </tr>\n",
              "    <tr>\n",
              "      <th>1</th>\n",
              "      <td>316</td>\n",
              "      <td>GU</td>\n",
              "      <td>GUM</td>\n",
              "      <td>316</td>\n",
              "      <td>66.0</td>\n",
              "      <td>NaN</td>\n",
              "      <td>Guam</td>\n",
              "      <td>US</td>\n",
              "      <td>13.444300</td>\n",
              "      <td>144.793700</td>\n",
              "      <td>Guam, US</td>\n",
              "      <td>1/22/20</td>\n",
              "      <td>0</td>\n",
              "      <td>0</td>\n",
              "    </tr>\n",
              "    <tr>\n",
              "      <th>2</th>\n",
              "      <td>580</td>\n",
              "      <td>MP</td>\n",
              "      <td>MNP</td>\n",
              "      <td>580</td>\n",
              "      <td>69.0</td>\n",
              "      <td>NaN</td>\n",
              "      <td>Northern Mariana Islands</td>\n",
              "      <td>US</td>\n",
              "      <td>15.097900</td>\n",
              "      <td>145.673900</td>\n",
              "      <td>Northern Mariana Islands, US</td>\n",
              "      <td>1/22/20</td>\n",
              "      <td>0</td>\n",
              "      <td>0</td>\n",
              "    </tr>\n",
              "    <tr>\n",
              "      <th>3</th>\n",
              "      <td>63072001</td>\n",
              "      <td>PR</td>\n",
              "      <td>PRI</td>\n",
              "      <td>630</td>\n",
              "      <td>72001.0</td>\n",
              "      <td>Adjuntas</td>\n",
              "      <td>Puerto Rico</td>\n",
              "      <td>US</td>\n",
              "      <td>18.180117</td>\n",
              "      <td>-66.754367</td>\n",
              "      <td>Adjuntas, Puerto Rico, US</td>\n",
              "      <td>1/22/20</td>\n",
              "      <td>0</td>\n",
              "      <td>0</td>\n",
              "    </tr>\n",
              "    <tr>\n",
              "      <th>4</th>\n",
              "      <td>63072003</td>\n",
              "      <td>PR</td>\n",
              "      <td>PRI</td>\n",
              "      <td>630</td>\n",
              "      <td>72003.0</td>\n",
              "      <td>Aguada</td>\n",
              "      <td>Puerto Rico</td>\n",
              "      <td>US</td>\n",
              "      <td>18.360255</td>\n",
              "      <td>-67.175131</td>\n",
              "      <td>Aguada, Puerto Rico, US</td>\n",
              "      <td>1/22/20</td>\n",
              "      <td>0</td>\n",
              "      <td>0</td>\n",
              "    </tr>\n",
              "    <tr>\n",
              "      <th>5</th>\n",
              "      <td>63072005</td>\n",
              "      <td>PR</td>\n",
              "      <td>PRI</td>\n",
              "      <td>630</td>\n",
              "      <td>72005.0</td>\n",
              "      <td>Aguadilla</td>\n",
              "      <td>Puerto Rico</td>\n",
              "      <td>US</td>\n",
              "      <td>18.459681</td>\n",
              "      <td>-67.120815</td>\n",
              "      <td>Aguadilla, Puerto Rico, US</td>\n",
              "      <td>1/22/20</td>\n",
              "      <td>0</td>\n",
              "      <td>0</td>\n",
              "    </tr>\n",
              "    <tr>\n",
              "      <th>6</th>\n",
              "      <td>63072007</td>\n",
              "      <td>PR</td>\n",
              "      <td>PRI</td>\n",
              "      <td>630</td>\n",
              "      <td>72007.0</td>\n",
              "      <td>Aguas Buenas</td>\n",
              "      <td>Puerto Rico</td>\n",
              "      <td>US</td>\n",
              "      <td>18.251619</td>\n",
              "      <td>-66.126806</td>\n",
              "      <td>Aguas Buenas, Puerto Rico, US</td>\n",
              "      <td>1/22/20</td>\n",
              "      <td>0</td>\n",
              "      <td>0</td>\n",
              "    </tr>\n",
              "    <tr>\n",
              "      <th>7</th>\n",
              "      <td>63072009</td>\n",
              "      <td>PR</td>\n",
              "      <td>PRI</td>\n",
              "      <td>630</td>\n",
              "      <td>72009.0</td>\n",
              "      <td>Aibonito</td>\n",
              "      <td>Puerto Rico</td>\n",
              "      <td>US</td>\n",
              "      <td>18.131361</td>\n",
              "      <td>-66.264131</td>\n",
              "      <td>Aibonito, Puerto Rico, US</td>\n",
              "      <td>1/22/20</td>\n",
              "      <td>0</td>\n",
              "      <td>0</td>\n",
              "    </tr>\n",
              "    <tr>\n",
              "      <th>8</th>\n",
              "      <td>63072011</td>\n",
              "      <td>PR</td>\n",
              "      <td>PRI</td>\n",
              "      <td>630</td>\n",
              "      <td>72011.0</td>\n",
              "      <td>Anasco</td>\n",
              "      <td>Puerto Rico</td>\n",
              "      <td>US</td>\n",
              "      <td>18.287985</td>\n",
              "      <td>-67.120611</td>\n",
              "      <td>Anasco, Puerto Rico, US</td>\n",
              "      <td>1/22/20</td>\n",
              "      <td>0</td>\n",
              "      <td>0</td>\n",
              "    </tr>\n",
              "    <tr>\n",
              "      <th>9</th>\n",
              "      <td>63072013</td>\n",
              "      <td>PR</td>\n",
              "      <td>PRI</td>\n",
              "      <td>630</td>\n",
              "      <td>72013.0</td>\n",
              "      <td>Arecibo</td>\n",
              "      <td>Puerto Rico</td>\n",
              "      <td>US</td>\n",
              "      <td>18.406631</td>\n",
              "      <td>-66.675077</td>\n",
              "      <td>Arecibo, Puerto Rico, US</td>\n",
              "      <td>1/22/20</td>\n",
              "      <td>0</td>\n",
              "      <td>0</td>\n",
              "    </tr>\n",
              "    <tr>\n",
              "      <th>10</th>\n",
              "      <td>63072015</td>\n",
              "      <td>PR</td>\n",
              "      <td>PRI</td>\n",
              "      <td>630</td>\n",
              "      <td>72015.0</td>\n",
              "      <td>Arroyo</td>\n",
              "      <td>Puerto Rico</td>\n",
              "      <td>US</td>\n",
              "      <td>17.998457</td>\n",
              "      <td>-66.056546</td>\n",
              "      <td>Arroyo, Puerto Rico, US</td>\n",
              "      <td>1/22/20</td>\n",
              "      <td>0</td>\n",
              "      <td>0</td>\n",
              "    </tr>\n",
              "    <tr>\n",
              "      <th>11</th>\n",
              "      <td>63072017</td>\n",
              "      <td>PR</td>\n",
              "      <td>PRI</td>\n",
              "      <td>630</td>\n",
              "      <td>72017.0</td>\n",
              "      <td>Barceloneta</td>\n",
              "      <td>Puerto Rico</td>\n",
              "      <td>US</td>\n",
              "      <td>18.445533</td>\n",
              "      <td>-66.560531</td>\n",
              "      <td>Barceloneta, Puerto Rico, US</td>\n",
              "      <td>1/22/20</td>\n",
              "      <td>0</td>\n",
              "      <td>0</td>\n",
              "    </tr>\n",
              "    <tr>\n",
              "      <th>12</th>\n",
              "      <td>63072019</td>\n",
              "      <td>PR</td>\n",
              "      <td>PRI</td>\n",
              "      <td>630</td>\n",
              "      <td>72019.0</td>\n",
              "      <td>Barranquitas</td>\n",
              "      <td>Puerto Rico</td>\n",
              "      <td>US</td>\n",
              "      <td>18.201592</td>\n",
              "      <td>-66.309630</td>\n",
              "      <td>Barranquitas, Puerto Rico, US</td>\n",
              "      <td>1/22/20</td>\n",
              "      <td>0</td>\n",
              "      <td>0</td>\n",
              "    </tr>\n",
              "    <tr>\n",
              "      <th>13</th>\n",
              "      <td>63072021</td>\n",
              "      <td>PR</td>\n",
              "      <td>PRI</td>\n",
              "      <td>630</td>\n",
              "      <td>72021.0</td>\n",
              "      <td>Bayamon</td>\n",
              "      <td>Puerto Rico</td>\n",
              "      <td>US</td>\n",
              "      <td>18.349460</td>\n",
              "      <td>-66.168435</td>\n",
              "      <td>Bayamon, Puerto Rico, US</td>\n",
              "      <td>1/22/20</td>\n",
              "      <td>0</td>\n",
              "      <td>0</td>\n",
              "    </tr>\n",
              "    <tr>\n",
              "      <th>14</th>\n",
              "      <td>63072023</td>\n",
              "      <td>PR</td>\n",
              "      <td>PRI</td>\n",
              "      <td>630</td>\n",
              "      <td>72023.0</td>\n",
              "      <td>Cabo Rojo</td>\n",
              "      <td>Puerto Rico</td>\n",
              "      <td>US</td>\n",
              "      <td>18.040993</td>\n",
              "      <td>-67.154391</td>\n",
              "      <td>Cabo Rojo, Puerto Rico, US</td>\n",
              "      <td>1/22/20</td>\n",
              "      <td>0</td>\n",
              "      <td>0</td>\n",
              "    </tr>\n",
              "    <tr>\n",
              "      <th>15</th>\n",
              "      <td>63072025</td>\n",
              "      <td>PR</td>\n",
              "      <td>PRI</td>\n",
              "      <td>630</td>\n",
              "      <td>72025.0</td>\n",
              "      <td>Caguas</td>\n",
              "      <td>Puerto Rico</td>\n",
              "      <td>US</td>\n",
              "      <td>18.211615</td>\n",
              "      <td>-66.050779</td>\n",
              "      <td>Caguas, Puerto Rico, US</td>\n",
              "      <td>1/22/20</td>\n",
              "      <td>0</td>\n",
              "      <td>0</td>\n",
              "    </tr>\n",
              "    <tr>\n",
              "      <th>16</th>\n",
              "      <td>63072027</td>\n",
              "      <td>PR</td>\n",
              "      <td>PRI</td>\n",
              "      <td>630</td>\n",
              "      <td>72027.0</td>\n",
              "      <td>Camuy</td>\n",
              "      <td>Puerto Rico</td>\n",
              "      <td>US</td>\n",
              "      <td>18.418578</td>\n",
              "      <td>-66.860206</td>\n",
              "      <td>Camuy, Puerto Rico, US</td>\n",
              "      <td>1/22/20</td>\n",
              "      <td>0</td>\n",
              "      <td>0</td>\n",
              "    </tr>\n",
              "    <tr>\n",
              "      <th>17</th>\n",
              "      <td>63072029</td>\n",
              "      <td>PR</td>\n",
              "      <td>PRI</td>\n",
              "      <td>630</td>\n",
              "      <td>72029.0</td>\n",
              "      <td>Canovanas</td>\n",
              "      <td>Puerto Rico</td>\n",
              "      <td>US</td>\n",
              "      <td>18.328802</td>\n",
              "      <td>-65.887612</td>\n",
              "      <td>Canovanas, Puerto Rico, US</td>\n",
              "      <td>1/22/20</td>\n",
              "      <td>0</td>\n",
              "      <td>0</td>\n",
              "    </tr>\n",
              "    <tr>\n",
              "      <th>18</th>\n",
              "      <td>63072031</td>\n",
              "      <td>PR</td>\n",
              "      <td>PRI</td>\n",
              "      <td>630</td>\n",
              "      <td>72031.0</td>\n",
              "      <td>Carolina</td>\n",
              "      <td>Puerto Rico</td>\n",
              "      <td>US</td>\n",
              "      <td>18.374986</td>\n",
              "      <td>-65.956831</td>\n",
              "      <td>Carolina, Puerto Rico, US</td>\n",
              "      <td>1/22/20</td>\n",
              "      <td>0</td>\n",
              "      <td>0</td>\n",
              "    </tr>\n",
              "    <tr>\n",
              "      <th>19</th>\n",
              "      <td>63072033</td>\n",
              "      <td>PR</td>\n",
              "      <td>PRI</td>\n",
              "      <td>630</td>\n",
              "      <td>72033.0</td>\n",
              "      <td>Catano</td>\n",
              "      <td>Puerto Rico</td>\n",
              "      <td>US</td>\n",
              "      <td>18.437269</td>\n",
              "      <td>-66.143306</td>\n",
              "      <td>Catano, Puerto Rico, US</td>\n",
              "      <td>1/22/20</td>\n",
              "      <td>0</td>\n",
              "      <td>0</td>\n",
              "    </tr>\n",
              "  </tbody>\n",
              "</table>\n",
              "</div>"
            ],
            "text/plain": [
              "         UID iso2 iso3  code3     FIPS        Admin2  \\\n",
              "0         16   AS  ASM     16     60.0           NaN   \n",
              "1        316   GU  GUM    316     66.0           NaN   \n",
              "2        580   MP  MNP    580     69.0           NaN   \n",
              "3   63072001   PR  PRI    630  72001.0      Adjuntas   \n",
              "4   63072003   PR  PRI    630  72003.0        Aguada   \n",
              "5   63072005   PR  PRI    630  72005.0     Aguadilla   \n",
              "6   63072007   PR  PRI    630  72007.0  Aguas Buenas   \n",
              "7   63072009   PR  PRI    630  72009.0      Aibonito   \n",
              "8   63072011   PR  PRI    630  72011.0        Anasco   \n",
              "9   63072013   PR  PRI    630  72013.0       Arecibo   \n",
              "10  63072015   PR  PRI    630  72015.0        Arroyo   \n",
              "11  63072017   PR  PRI    630  72017.0   Barceloneta   \n",
              "12  63072019   PR  PRI    630  72019.0  Barranquitas   \n",
              "13  63072021   PR  PRI    630  72021.0       Bayamon   \n",
              "14  63072023   PR  PRI    630  72023.0     Cabo Rojo   \n",
              "15  63072025   PR  PRI    630  72025.0        Caguas   \n",
              "16  63072027   PR  PRI    630  72027.0         Camuy   \n",
              "17  63072029   PR  PRI    630  72029.0     Canovanas   \n",
              "18  63072031   PR  PRI    630  72031.0      Carolina   \n",
              "19  63072033   PR  PRI    630  72033.0        Catano   \n",
              "\n",
              "              Province_State Country_Region        Lat       Long_  \\\n",
              "0             American Samoa             US -14.271000 -170.132000   \n",
              "1                       Guam             US  13.444300  144.793700   \n",
              "2   Northern Mariana Islands             US  15.097900  145.673900   \n",
              "3                Puerto Rico             US  18.180117  -66.754367   \n",
              "4                Puerto Rico             US  18.360255  -67.175131   \n",
              "5                Puerto Rico             US  18.459681  -67.120815   \n",
              "6                Puerto Rico             US  18.251619  -66.126806   \n",
              "7                Puerto Rico             US  18.131361  -66.264131   \n",
              "8                Puerto Rico             US  18.287985  -67.120611   \n",
              "9                Puerto Rico             US  18.406631  -66.675077   \n",
              "10               Puerto Rico             US  17.998457  -66.056546   \n",
              "11               Puerto Rico             US  18.445533  -66.560531   \n",
              "12               Puerto Rico             US  18.201592  -66.309630   \n",
              "13               Puerto Rico             US  18.349460  -66.168435   \n",
              "14               Puerto Rico             US  18.040993  -67.154391   \n",
              "15               Puerto Rico             US  18.211615  -66.050779   \n",
              "16               Puerto Rico             US  18.418578  -66.860206   \n",
              "17               Puerto Rico             US  18.328802  -65.887612   \n",
              "18               Puerto Rico             US  18.374986  -65.956831   \n",
              "19               Puerto Rico             US  18.437269  -66.143306   \n",
              "\n",
              "                     Combined_Key     Date  Confirmed  Deaths  \n",
              "0              American Samoa, US  1/22/20          0       0  \n",
              "1                        Guam, US  1/22/20          0       0  \n",
              "2    Northern Mariana Islands, US  1/22/20          0       0  \n",
              "3       Adjuntas, Puerto Rico, US  1/22/20          0       0  \n",
              "4         Aguada, Puerto Rico, US  1/22/20          0       0  \n",
              "5      Aguadilla, Puerto Rico, US  1/22/20          0       0  \n",
              "6   Aguas Buenas, Puerto Rico, US  1/22/20          0       0  \n",
              "7       Aibonito, Puerto Rico, US  1/22/20          0       0  \n",
              "8         Anasco, Puerto Rico, US  1/22/20          0       0  \n",
              "9        Arecibo, Puerto Rico, US  1/22/20          0       0  \n",
              "10        Arroyo, Puerto Rico, US  1/22/20          0       0  \n",
              "11   Barceloneta, Puerto Rico, US  1/22/20          0       0  \n",
              "12  Barranquitas, Puerto Rico, US  1/22/20          0       0  \n",
              "13       Bayamon, Puerto Rico, US  1/22/20          0       0  \n",
              "14     Cabo Rojo, Puerto Rico, US  1/22/20          0       0  \n",
              "15        Caguas, Puerto Rico, US  1/22/20          0       0  \n",
              "16         Camuy, Puerto Rico, US  1/22/20          0       0  \n",
              "17     Canovanas, Puerto Rico, US  1/22/20          0       0  \n",
              "18      Carolina, Puerto Rico, US  1/22/20          0       0  \n",
              "19        Catano, Puerto Rico, US  1/22/20          0       0  "
            ]
          },
          "execution_count": 5,
          "metadata": {},
          "output_type": "execute_result"
        }
      ],
      "source": [
        "df.head(20)"
      ]
    },
    {
      "cell_type": "code",
      "execution_count": null,
      "id": "02dac188",
      "metadata": {
        "id": "02dac188",
        "outputId": "7f0499bd-9e3b-43cf-dede-964ac7d56a46"
      },
      "outputs": [
        {
          "data": {
            "text/html": [
              "<div>\n",
              "<style scoped>\n",
              "    .dataframe tbody tr th:only-of-type {\n",
              "        vertical-align: middle;\n",
              "    }\n",
              "\n",
              "    .dataframe tbody tr th {\n",
              "        vertical-align: top;\n",
              "    }\n",
              "\n",
              "    .dataframe thead th {\n",
              "        text-align: right;\n",
              "    }\n",
              "</style>\n",
              "<table border=\"1\" class=\"dataframe\">\n",
              "  <thead>\n",
              "    <tr style=\"text-align: right;\">\n",
              "      <th></th>\n",
              "      <th>UID</th>\n",
              "      <th>iso2</th>\n",
              "      <th>iso3</th>\n",
              "      <th>code3</th>\n",
              "      <th>FIPS</th>\n",
              "      <th>Admin2</th>\n",
              "      <th>Province_State</th>\n",
              "      <th>Country_Region</th>\n",
              "      <th>Lat</th>\n",
              "      <th>Long_</th>\n",
              "      <th>Combined_Key</th>\n",
              "      <th>Date</th>\n",
              "      <th>Confirmed</th>\n",
              "      <th>Deaths</th>\n",
              "    </tr>\n",
              "  </thead>\n",
              "  <tbody>\n",
              "    <tr>\n",
              "      <th>627915</th>\n",
              "      <td>84070016</td>\n",
              "      <td>US</td>\n",
              "      <td>USA</td>\n",
              "      <td>840</td>\n",
              "      <td>NaN</td>\n",
              "      <td>Central Utah</td>\n",
              "      <td>Utah</td>\n",
              "      <td>US</td>\n",
              "      <td>39.372319</td>\n",
              "      <td>-111.575868</td>\n",
              "      <td>Central Utah, Utah, US</td>\n",
              "      <td>7/27/20</td>\n",
              "      <td>347</td>\n",
              "      <td>1</td>\n",
              "    </tr>\n",
              "    <tr>\n",
              "      <th>627916</th>\n",
              "      <td>84070017</td>\n",
              "      <td>US</td>\n",
              "      <td>USA</td>\n",
              "      <td>840</td>\n",
              "      <td>NaN</td>\n",
              "      <td>Southeast Utah</td>\n",
              "      <td>Utah</td>\n",
              "      <td>US</td>\n",
              "      <td>38.996171</td>\n",
              "      <td>-110.701396</td>\n",
              "      <td>Southeast Utah, Utah, US</td>\n",
              "      <td>7/27/20</td>\n",
              "      <td>70</td>\n",
              "      <td>0</td>\n",
              "    </tr>\n",
              "    <tr>\n",
              "      <th>627917</th>\n",
              "      <td>84070018</td>\n",
              "      <td>US</td>\n",
              "      <td>USA</td>\n",
              "      <td>840</td>\n",
              "      <td>NaN</td>\n",
              "      <td>Southwest Utah</td>\n",
              "      <td>Utah</td>\n",
              "      <td>US</td>\n",
              "      <td>37.854472</td>\n",
              "      <td>-111.441876</td>\n",
              "      <td>Southwest Utah, Utah, US</td>\n",
              "      <td>7/27/20</td>\n",
              "      <td>2781</td>\n",
              "      <td>23</td>\n",
              "    </tr>\n",
              "    <tr>\n",
              "      <th>627918</th>\n",
              "      <td>84070019</td>\n",
              "      <td>US</td>\n",
              "      <td>USA</td>\n",
              "      <td>840</td>\n",
              "      <td>NaN</td>\n",
              "      <td>TriCounty</td>\n",
              "      <td>Utah</td>\n",
              "      <td>US</td>\n",
              "      <td>40.124915</td>\n",
              "      <td>-109.517442</td>\n",
              "      <td>TriCounty, Utah, US</td>\n",
              "      <td>7/27/20</td>\n",
              "      <td>142</td>\n",
              "      <td>0</td>\n",
              "    </tr>\n",
              "    <tr>\n",
              "      <th>627919</th>\n",
              "      <td>84070020</td>\n",
              "      <td>US</td>\n",
              "      <td>USA</td>\n",
              "      <td>840</td>\n",
              "      <td>NaN</td>\n",
              "      <td>Weber-Morgan</td>\n",
              "      <td>Utah</td>\n",
              "      <td>US</td>\n",
              "      <td>41.271160</td>\n",
              "      <td>-111.914512</td>\n",
              "      <td>Weber-Morgan, Utah, US</td>\n",
              "      <td>7/27/20</td>\n",
              "      <td>2375</td>\n",
              "      <td>24</td>\n",
              "    </tr>\n",
              "  </tbody>\n",
              "</table>\n",
              "</div>"
            ],
            "text/plain": [
              "             UID iso2 iso3  code3  FIPS          Admin2 Province_State  \\\n",
              "627915  84070016   US  USA    840   NaN    Central Utah           Utah   \n",
              "627916  84070017   US  USA    840   NaN  Southeast Utah           Utah   \n",
              "627917  84070018   US  USA    840   NaN  Southwest Utah           Utah   \n",
              "627918  84070019   US  USA    840   NaN       TriCounty           Utah   \n",
              "627919  84070020   US  USA    840   NaN    Weber-Morgan           Utah   \n",
              "\n",
              "       Country_Region        Lat       Long_              Combined_Key  \\\n",
              "627915             US  39.372319 -111.575868    Central Utah, Utah, US   \n",
              "627916             US  38.996171 -110.701396  Southeast Utah, Utah, US   \n",
              "627917             US  37.854472 -111.441876  Southwest Utah, Utah, US   \n",
              "627918             US  40.124915 -109.517442       TriCounty, Utah, US   \n",
              "627919             US  41.271160 -111.914512    Weber-Morgan, Utah, US   \n",
              "\n",
              "           Date  Confirmed  Deaths  \n",
              "627915  7/27/20        347       1  \n",
              "627916  7/27/20         70       0  \n",
              "627917  7/27/20       2781      23  \n",
              "627918  7/27/20        142       0  \n",
              "627919  7/27/20       2375      24  "
            ]
          },
          "execution_count": 6,
          "metadata": {},
          "output_type": "execute_result"
        }
      ],
      "source": [
        "df.tail()"
      ]
    },
    {
      "cell_type": "code",
      "execution_count": null,
      "id": "ba7bd3c9",
      "metadata": {
        "id": "ba7bd3c9",
        "outputId": "ccd1b4e4-9eee-4525-ddb5-b6ea7f51578a"
      },
      "outputs": [
        {
          "data": {
            "text/plain": [
              "UID                  0\n",
              "iso2                 0\n",
              "iso3                 0\n",
              "code3                0\n",
              "FIPS              1880\n",
              "Admin2            1128\n",
              "Province_State       0\n",
              "Country_Region       0\n",
              "Lat                  0\n",
              "Long_                0\n",
              "Combined_Key         0\n",
              "Date                 0\n",
              "Confirmed            0\n",
              "Deaths               0\n",
              "dtype: int64"
            ]
          },
          "execution_count": 7,
          "metadata": {},
          "output_type": "execute_result"
        }
      ],
      "source": [
        "df.isnull().sum()"
      ]
    },
    {
      "cell_type": "code",
      "execution_count": null,
      "id": "0305538e",
      "metadata": {
        "id": "0305538e",
        "outputId": "b71b8f67-b44e-4b07-afd2-70831500329a"
      },
      "outputs": [
        {
          "data": {
            "text/plain": [
              "(627920, 14)"
            ]
          },
          "execution_count": 8,
          "metadata": {},
          "output_type": "execute_result"
        }
      ],
      "source": [
        "df.shape"
      ]
    },
    {
      "cell_type": "code",
      "execution_count": null,
      "id": "f765cd20",
      "metadata": {
        "id": "f765cd20",
        "outputId": "3192b8ba-3650-43e0-8831-fb66e25423ec"
      },
      "outputs": [
        {
          "data": {
            "text/plain": [
              "8790880"
            ]
          },
          "execution_count": 9,
          "metadata": {},
          "output_type": "execute_result"
        }
      ],
      "source": [
        "df.size"
      ]
    },
    {
      "cell_type": "code",
      "execution_count": null,
      "id": "86d6fe39",
      "metadata": {
        "id": "86d6fe39",
        "outputId": "f9ac9e0e-95d9-432e-c048-5a135a566132"
      },
      "outputs": [
        {
          "data": {
            "text/html": [
              "<div>\n",
              "<style scoped>\n",
              "    .dataframe tbody tr th:only-of-type {\n",
              "        vertical-align: middle;\n",
              "    }\n",
              "\n",
              "    .dataframe tbody tr th {\n",
              "        vertical-align: top;\n",
              "    }\n",
              "\n",
              "    .dataframe thead th {\n",
              "        text-align: right;\n",
              "    }\n",
              "</style>\n",
              "<table border=\"1\" class=\"dataframe\">\n",
              "  <thead>\n",
              "    <tr style=\"text-align: right;\">\n",
              "      <th></th>\n",
              "      <th>UID</th>\n",
              "      <th>iso2</th>\n",
              "      <th>iso3</th>\n",
              "      <th>code3</th>\n",
              "      <th>FIPS</th>\n",
              "      <th>Admin2</th>\n",
              "      <th>Province_State</th>\n",
              "      <th>Country_Region</th>\n",
              "      <th>Lat</th>\n",
              "      <th>Long_</th>\n",
              "      <th>Combined_Key</th>\n",
              "      <th>Date</th>\n",
              "      <th>Confirmed</th>\n",
              "      <th>Deaths</th>\n",
              "    </tr>\n",
              "  </thead>\n",
              "  <tbody>\n",
              "    <tr>\n",
              "      <th>0</th>\n",
              "      <td>16</td>\n",
              "      <td>AS</td>\n",
              "      <td>ASM</td>\n",
              "      <td>16</td>\n",
              "      <td>60.0</td>\n",
              "      <td>NaN</td>\n",
              "      <td>American Samoa</td>\n",
              "      <td>US</td>\n",
              "      <td>-14.271000</td>\n",
              "      <td>-170.132000</td>\n",
              "      <td>American Samoa, US</td>\n",
              "      <td>1/22/20</td>\n",
              "      <td>0</td>\n",
              "      <td>0</td>\n",
              "    </tr>\n",
              "    <tr>\n",
              "      <th>1</th>\n",
              "      <td>316</td>\n",
              "      <td>GU</td>\n",
              "      <td>GUM</td>\n",
              "      <td>316</td>\n",
              "      <td>66.0</td>\n",
              "      <td>NaN</td>\n",
              "      <td>Guam</td>\n",
              "      <td>US</td>\n",
              "      <td>13.444300</td>\n",
              "      <td>144.793700</td>\n",
              "      <td>Guam, US</td>\n",
              "      <td>1/22/20</td>\n",
              "      <td>0</td>\n",
              "      <td>0</td>\n",
              "    </tr>\n",
              "    <tr>\n",
              "      <th>2</th>\n",
              "      <td>580</td>\n",
              "      <td>MP</td>\n",
              "      <td>MNP</td>\n",
              "      <td>580</td>\n",
              "      <td>69.0</td>\n",
              "      <td>NaN</td>\n",
              "      <td>Northern Mariana Islands</td>\n",
              "      <td>US</td>\n",
              "      <td>15.097900</td>\n",
              "      <td>145.673900</td>\n",
              "      <td>Northern Mariana Islands, US</td>\n",
              "      <td>1/22/20</td>\n",
              "      <td>0</td>\n",
              "      <td>0</td>\n",
              "    </tr>\n",
              "    <tr>\n",
              "      <th>3</th>\n",
              "      <td>63072001</td>\n",
              "      <td>PR</td>\n",
              "      <td>PRI</td>\n",
              "      <td>630</td>\n",
              "      <td>72001.0</td>\n",
              "      <td>Adjuntas</td>\n",
              "      <td>Puerto Rico</td>\n",
              "      <td>US</td>\n",
              "      <td>18.180117</td>\n",
              "      <td>-66.754367</td>\n",
              "      <td>Adjuntas, Puerto Rico, US</td>\n",
              "      <td>1/22/20</td>\n",
              "      <td>0</td>\n",
              "      <td>0</td>\n",
              "    </tr>\n",
              "    <tr>\n",
              "      <th>81</th>\n",
              "      <td>850</td>\n",
              "      <td>VI</td>\n",
              "      <td>VIR</td>\n",
              "      <td>850</td>\n",
              "      <td>78.0</td>\n",
              "      <td>NaN</td>\n",
              "      <td>Virgin Islands</td>\n",
              "      <td>US</td>\n",
              "      <td>18.335800</td>\n",
              "      <td>-64.896300</td>\n",
              "      <td>Virgin Islands, US</td>\n",
              "      <td>1/22/20</td>\n",
              "      <td>0</td>\n",
              "      <td>0</td>\n",
              "    </tr>\n",
              "    <tr>\n",
              "      <th>82</th>\n",
              "      <td>84001001</td>\n",
              "      <td>US</td>\n",
              "      <td>USA</td>\n",
              "      <td>840</td>\n",
              "      <td>1001.0</td>\n",
              "      <td>Autauga</td>\n",
              "      <td>Alabama</td>\n",
              "      <td>US</td>\n",
              "      <td>32.539527</td>\n",
              "      <td>-86.644082</td>\n",
              "      <td>Autauga, Alabama, US</td>\n",
              "      <td>1/22/20</td>\n",
              "      <td>0</td>\n",
              "      <td>0</td>\n",
              "    </tr>\n",
              "    <tr>\n",
              "      <th>149</th>\n",
              "      <td>84002013</td>\n",
              "      <td>US</td>\n",
              "      <td>USA</td>\n",
              "      <td>840</td>\n",
              "      <td>2013.0</td>\n",
              "      <td>Aleutians East</td>\n",
              "      <td>Alaska</td>\n",
              "      <td>US</td>\n",
              "      <td>55.322224</td>\n",
              "      <td>-161.972202</td>\n",
              "      <td>Aleutians East, Alaska, US</td>\n",
              "      <td>1/22/20</td>\n",
              "      <td>0</td>\n",
              "      <td>0</td>\n",
              "    </tr>\n",
              "    <tr>\n",
              "      <th>178</th>\n",
              "      <td>84004001</td>\n",
              "      <td>US</td>\n",
              "      <td>USA</td>\n",
              "      <td>840</td>\n",
              "      <td>4001.0</td>\n",
              "      <td>Apache</td>\n",
              "      <td>Arizona</td>\n",
              "      <td>US</td>\n",
              "      <td>35.394650</td>\n",
              "      <td>-109.489238</td>\n",
              "      <td>Apache, Arizona, US</td>\n",
              "      <td>1/22/20</td>\n",
              "      <td>0</td>\n",
              "      <td>0</td>\n",
              "    </tr>\n",
              "    <tr>\n",
              "      <th>193</th>\n",
              "      <td>84005001</td>\n",
              "      <td>US</td>\n",
              "      <td>USA</td>\n",
              "      <td>840</td>\n",
              "      <td>5001.0</td>\n",
              "      <td>Arkansas</td>\n",
              "      <td>Arkansas</td>\n",
              "      <td>US</td>\n",
              "      <td>34.291452</td>\n",
              "      <td>-91.372773</td>\n",
              "      <td>Arkansas, Arkansas, US</td>\n",
              "      <td>1/22/20</td>\n",
              "      <td>0</td>\n",
              "      <td>0</td>\n",
              "    </tr>\n",
              "    <tr>\n",
              "      <th>268</th>\n",
              "      <td>84006001</td>\n",
              "      <td>US</td>\n",
              "      <td>USA</td>\n",
              "      <td>840</td>\n",
              "      <td>6001.0</td>\n",
              "      <td>Alameda</td>\n",
              "      <td>California</td>\n",
              "      <td>US</td>\n",
              "      <td>37.646294</td>\n",
              "      <td>-121.892927</td>\n",
              "      <td>Alameda, California, US</td>\n",
              "      <td>1/22/20</td>\n",
              "      <td>0</td>\n",
              "      <td>0</td>\n",
              "    </tr>\n",
              "    <tr>\n",
              "      <th>326</th>\n",
              "      <td>84008001</td>\n",
              "      <td>US</td>\n",
              "      <td>USA</td>\n",
              "      <td>840</td>\n",
              "      <td>8001.0</td>\n",
              "      <td>Adams</td>\n",
              "      <td>Colorado</td>\n",
              "      <td>US</td>\n",
              "      <td>39.874321</td>\n",
              "      <td>-104.336258</td>\n",
              "      <td>Adams, Colorado, US</td>\n",
              "      <td>1/22/20</td>\n",
              "      <td>0</td>\n",
              "      <td>0</td>\n",
              "    </tr>\n",
              "    <tr>\n",
              "      <th>390</th>\n",
              "      <td>84009001</td>\n",
              "      <td>US</td>\n",
              "      <td>USA</td>\n",
              "      <td>840</td>\n",
              "      <td>9001.0</td>\n",
              "      <td>Fairfield</td>\n",
              "      <td>Connecticut</td>\n",
              "      <td>US</td>\n",
              "      <td>41.268099</td>\n",
              "      <td>-73.388117</td>\n",
              "      <td>Fairfield, Connecticut, US</td>\n",
              "      <td>1/22/20</td>\n",
              "      <td>0</td>\n",
              "      <td>0</td>\n",
              "    </tr>\n",
              "    <tr>\n",
              "      <th>398</th>\n",
              "      <td>84010001</td>\n",
              "      <td>US</td>\n",
              "      <td>USA</td>\n",
              "      <td>840</td>\n",
              "      <td>10001.0</td>\n",
              "      <td>Kent</td>\n",
              "      <td>Delaware</td>\n",
              "      <td>US</td>\n",
              "      <td>39.086466</td>\n",
              "      <td>-75.568849</td>\n",
              "      <td>Kent, Delaware, US</td>\n",
              "      <td>1/22/20</td>\n",
              "      <td>0</td>\n",
              "      <td>0</td>\n",
              "    </tr>\n",
              "    <tr>\n",
              "      <th>401</th>\n",
              "      <td>84011001</td>\n",
              "      <td>US</td>\n",
              "      <td>USA</td>\n",
              "      <td>840</td>\n",
              "      <td>11001.0</td>\n",
              "      <td>District of Columbia</td>\n",
              "      <td>District of Columbia</td>\n",
              "      <td>US</td>\n",
              "      <td>38.904178</td>\n",
              "      <td>-77.016560</td>\n",
              "      <td>District of Columbia,District of Columbia,US</td>\n",
              "      <td>1/22/20</td>\n",
              "      <td>0</td>\n",
              "      <td>0</td>\n",
              "    </tr>\n",
              "    <tr>\n",
              "      <th>402</th>\n",
              "      <td>84012001</td>\n",
              "      <td>US</td>\n",
              "      <td>USA</td>\n",
              "      <td>840</td>\n",
              "      <td>12001.0</td>\n",
              "      <td>Alachua</td>\n",
              "      <td>Florida</td>\n",
              "      <td>US</td>\n",
              "      <td>29.678665</td>\n",
              "      <td>-82.359282</td>\n",
              "      <td>Alachua, Florida, US</td>\n",
              "      <td>1/22/20</td>\n",
              "      <td>0</td>\n",
              "      <td>0</td>\n",
              "    </tr>\n",
              "    <tr>\n",
              "      <th>469</th>\n",
              "      <td>84013001</td>\n",
              "      <td>US</td>\n",
              "      <td>USA</td>\n",
              "      <td>840</td>\n",
              "      <td>13001.0</td>\n",
              "      <td>Appling</td>\n",
              "      <td>Georgia</td>\n",
              "      <td>US</td>\n",
              "      <td>31.748472</td>\n",
              "      <td>-82.289091</td>\n",
              "      <td>Appling, Georgia, US</td>\n",
              "      <td>1/22/20</td>\n",
              "      <td>0</td>\n",
              "      <td>0</td>\n",
              "    </tr>\n",
              "    <tr>\n",
              "      <th>628</th>\n",
              "      <td>84015001</td>\n",
              "      <td>US</td>\n",
              "      <td>USA</td>\n",
              "      <td>840</td>\n",
              "      <td>15001.0</td>\n",
              "      <td>Hawaii</td>\n",
              "      <td>Hawaii</td>\n",
              "      <td>US</td>\n",
              "      <td>19.601212</td>\n",
              "      <td>-155.521017</td>\n",
              "      <td>Hawaii, Hawaii, US</td>\n",
              "      <td>1/22/20</td>\n",
              "      <td>0</td>\n",
              "      <td>0</td>\n",
              "    </tr>\n",
              "    <tr>\n",
              "      <th>633</th>\n",
              "      <td>84016001</td>\n",
              "      <td>US</td>\n",
              "      <td>USA</td>\n",
              "      <td>840</td>\n",
              "      <td>16001.0</td>\n",
              "      <td>Ada</td>\n",
              "      <td>Idaho</td>\n",
              "      <td>US</td>\n",
              "      <td>43.452658</td>\n",
              "      <td>-116.241552</td>\n",
              "      <td>Ada, Idaho, US</td>\n",
              "      <td>1/22/20</td>\n",
              "      <td>0</td>\n",
              "      <td>0</td>\n",
              "    </tr>\n",
              "    <tr>\n",
              "      <th>677</th>\n",
              "      <td>84017001</td>\n",
              "      <td>US</td>\n",
              "      <td>USA</td>\n",
              "      <td>840</td>\n",
              "      <td>17001.0</td>\n",
              "      <td>Adams</td>\n",
              "      <td>Illinois</td>\n",
              "      <td>US</td>\n",
              "      <td>39.988156</td>\n",
              "      <td>-91.187868</td>\n",
              "      <td>Adams, Illinois, US</td>\n",
              "      <td>1/22/20</td>\n",
              "      <td>0</td>\n",
              "      <td>0</td>\n",
              "    </tr>\n",
              "    <tr>\n",
              "      <th>779</th>\n",
              "      <td>84018001</td>\n",
              "      <td>US</td>\n",
              "      <td>USA</td>\n",
              "      <td>840</td>\n",
              "      <td>18001.0</td>\n",
              "      <td>Adams</td>\n",
              "      <td>Indiana</td>\n",
              "      <td>US</td>\n",
              "      <td>40.745765</td>\n",
              "      <td>-84.936714</td>\n",
              "      <td>Adams, Indiana, US</td>\n",
              "      <td>1/22/20</td>\n",
              "      <td>0</td>\n",
              "      <td>0</td>\n",
              "    </tr>\n",
              "    <tr>\n",
              "      <th>871</th>\n",
              "      <td>84019001</td>\n",
              "      <td>US</td>\n",
              "      <td>USA</td>\n",
              "      <td>840</td>\n",
              "      <td>19001.0</td>\n",
              "      <td>Adair</td>\n",
              "      <td>Iowa</td>\n",
              "      <td>US</td>\n",
              "      <td>41.330756</td>\n",
              "      <td>-94.471059</td>\n",
              "      <td>Adair, Iowa, US</td>\n",
              "      <td>1/22/20</td>\n",
              "      <td>0</td>\n",
              "      <td>0</td>\n",
              "    </tr>\n",
              "    <tr>\n",
              "      <th>970</th>\n",
              "      <td>84020001</td>\n",
              "      <td>US</td>\n",
              "      <td>USA</td>\n",
              "      <td>840</td>\n",
              "      <td>20001.0</td>\n",
              "      <td>Allen</td>\n",
              "      <td>Kansas</td>\n",
              "      <td>US</td>\n",
              "      <td>37.885830</td>\n",
              "      <td>-95.300308</td>\n",
              "      <td>Allen, Kansas, US</td>\n",
              "      <td>1/22/20</td>\n",
              "      <td>0</td>\n",
              "      <td>0</td>\n",
              "    </tr>\n",
              "    <tr>\n",
              "      <th>1075</th>\n",
              "      <td>84021001</td>\n",
              "      <td>US</td>\n",
              "      <td>USA</td>\n",
              "      <td>840</td>\n",
              "      <td>21001.0</td>\n",
              "      <td>Adair</td>\n",
              "      <td>Kentucky</td>\n",
              "      <td>US</td>\n",
              "      <td>37.104598</td>\n",
              "      <td>-85.281297</td>\n",
              "      <td>Adair, Kentucky, US</td>\n",
              "      <td>1/22/20</td>\n",
              "      <td>0</td>\n",
              "      <td>0</td>\n",
              "    </tr>\n",
              "    <tr>\n",
              "      <th>1195</th>\n",
              "      <td>84022001</td>\n",
              "      <td>US</td>\n",
              "      <td>USA</td>\n",
              "      <td>840</td>\n",
              "      <td>22001.0</td>\n",
              "      <td>Acadia</td>\n",
              "      <td>Louisiana</td>\n",
              "      <td>US</td>\n",
              "      <td>30.295065</td>\n",
              "      <td>-92.414197</td>\n",
              "      <td>Acadia, Louisiana, US</td>\n",
              "      <td>1/22/20</td>\n",
              "      <td>0</td>\n",
              "      <td>0</td>\n",
              "    </tr>\n",
              "    <tr>\n",
              "      <th>1259</th>\n",
              "      <td>84023001</td>\n",
              "      <td>US</td>\n",
              "      <td>USA</td>\n",
              "      <td>840</td>\n",
              "      <td>23001.0</td>\n",
              "      <td>Androscoggin</td>\n",
              "      <td>Maine</td>\n",
              "      <td>US</td>\n",
              "      <td>44.166475</td>\n",
              "      <td>-70.203806</td>\n",
              "      <td>Androscoggin, Maine, US</td>\n",
              "      <td>1/22/20</td>\n",
              "      <td>0</td>\n",
              "      <td>0</td>\n",
              "    </tr>\n",
              "    <tr>\n",
              "      <th>1275</th>\n",
              "      <td>84024001</td>\n",
              "      <td>US</td>\n",
              "      <td>USA</td>\n",
              "      <td>840</td>\n",
              "      <td>24001.0</td>\n",
              "      <td>Allegany</td>\n",
              "      <td>Maryland</td>\n",
              "      <td>US</td>\n",
              "      <td>39.623576</td>\n",
              "      <td>-78.692805</td>\n",
              "      <td>Allegany, Maryland, US</td>\n",
              "      <td>1/22/20</td>\n",
              "      <td>0</td>\n",
              "      <td>0</td>\n",
              "    </tr>\n",
              "    <tr>\n",
              "      <th>1299</th>\n",
              "      <td>84025001</td>\n",
              "      <td>US</td>\n",
              "      <td>USA</td>\n",
              "      <td>840</td>\n",
              "      <td>25001.0</td>\n",
              "      <td>Barnstable</td>\n",
              "      <td>Massachusetts</td>\n",
              "      <td>US</td>\n",
              "      <td>41.729806</td>\n",
              "      <td>-70.288543</td>\n",
              "      <td>Barnstable, Massachusetts, US</td>\n",
              "      <td>1/22/20</td>\n",
              "      <td>0</td>\n",
              "      <td>0</td>\n",
              "    </tr>\n",
              "    <tr>\n",
              "      <th>1313</th>\n",
              "      <td>84026001</td>\n",
              "      <td>US</td>\n",
              "      <td>USA</td>\n",
              "      <td>840</td>\n",
              "      <td>26001.0</td>\n",
              "      <td>Alcona</td>\n",
              "      <td>Michigan</td>\n",
              "      <td>US</td>\n",
              "      <td>44.684686</td>\n",
              "      <td>-83.595079</td>\n",
              "      <td>Alcona, Michigan, US</td>\n",
              "      <td>1/22/20</td>\n",
              "      <td>0</td>\n",
              "      <td>0</td>\n",
              "    </tr>\n",
              "    <tr>\n",
              "      <th>1396</th>\n",
              "      <td>84027001</td>\n",
              "      <td>US</td>\n",
              "      <td>USA</td>\n",
              "      <td>840</td>\n",
              "      <td>27001.0</td>\n",
              "      <td>Aitkin</td>\n",
              "      <td>Minnesota</td>\n",
              "      <td>US</td>\n",
              "      <td>46.609620</td>\n",
              "      <td>-93.411683</td>\n",
              "      <td>Aitkin, Minnesota, US</td>\n",
              "      <td>1/22/20</td>\n",
              "      <td>0</td>\n",
              "      <td>0</td>\n",
              "    </tr>\n",
              "    <tr>\n",
              "      <th>1483</th>\n",
              "      <td>84028001</td>\n",
              "      <td>US</td>\n",
              "      <td>USA</td>\n",
              "      <td>840</td>\n",
              "      <td>28001.0</td>\n",
              "      <td>Adams</td>\n",
              "      <td>Mississippi</td>\n",
              "      <td>US</td>\n",
              "      <td>31.476698</td>\n",
              "      <td>-91.353260</td>\n",
              "      <td>Adams, Mississippi, US</td>\n",
              "      <td>1/22/20</td>\n",
              "      <td>0</td>\n",
              "      <td>0</td>\n",
              "    </tr>\n",
              "    <tr>\n",
              "      <th>1565</th>\n",
              "      <td>84029001</td>\n",
              "      <td>US</td>\n",
              "      <td>USA</td>\n",
              "      <td>840</td>\n",
              "      <td>29001.0</td>\n",
              "      <td>Adair</td>\n",
              "      <td>Missouri</td>\n",
              "      <td>US</td>\n",
              "      <td>40.190586</td>\n",
              "      <td>-92.600782</td>\n",
              "      <td>Adair, Missouri, US</td>\n",
              "      <td>1/22/20</td>\n",
              "      <td>0</td>\n",
              "      <td>0</td>\n",
              "    </tr>\n",
              "    <tr>\n",
              "      <th>1680</th>\n",
              "      <td>84030001</td>\n",
              "      <td>US</td>\n",
              "      <td>USA</td>\n",
              "      <td>840</td>\n",
              "      <td>30001.0</td>\n",
              "      <td>Beaverhead</td>\n",
              "      <td>Montana</td>\n",
              "      <td>US</td>\n",
              "      <td>45.134344</td>\n",
              "      <td>-112.898469</td>\n",
              "      <td>Beaverhead, Montana, US</td>\n",
              "      <td>1/22/20</td>\n",
              "      <td>0</td>\n",
              "      <td>0</td>\n",
              "    </tr>\n",
              "    <tr>\n",
              "      <th>1736</th>\n",
              "      <td>84031001</td>\n",
              "      <td>US</td>\n",
              "      <td>USA</td>\n",
              "      <td>840</td>\n",
              "      <td>31001.0</td>\n",
              "      <td>Adams</td>\n",
              "      <td>Nebraska</td>\n",
              "      <td>US</td>\n",
              "      <td>40.524494</td>\n",
              "      <td>-98.501178</td>\n",
              "      <td>Adams, Nebraska, US</td>\n",
              "      <td>1/22/20</td>\n",
              "      <td>0</td>\n",
              "      <td>0</td>\n",
              "    </tr>\n",
              "    <tr>\n",
              "      <th>1829</th>\n",
              "      <td>84032001</td>\n",
              "      <td>US</td>\n",
              "      <td>USA</td>\n",
              "      <td>840</td>\n",
              "      <td>32001.0</td>\n",
              "      <td>Churchill</td>\n",
              "      <td>Nevada</td>\n",
              "      <td>US</td>\n",
              "      <td>39.581057</td>\n",
              "      <td>-118.339461</td>\n",
              "      <td>Churchill, Nevada, US</td>\n",
              "      <td>1/22/20</td>\n",
              "      <td>0</td>\n",
              "      <td>0</td>\n",
              "    </tr>\n",
              "    <tr>\n",
              "      <th>1846</th>\n",
              "      <td>84033001</td>\n",
              "      <td>US</td>\n",
              "      <td>USA</td>\n",
              "      <td>840</td>\n",
              "      <td>33001.0</td>\n",
              "      <td>Belknap</td>\n",
              "      <td>New Hampshire</td>\n",
              "      <td>US</td>\n",
              "      <td>43.516373</td>\n",
              "      <td>-71.416842</td>\n",
              "      <td>Belknap, New Hampshire, US</td>\n",
              "      <td>1/22/20</td>\n",
              "      <td>0</td>\n",
              "      <td>0</td>\n",
              "    </tr>\n",
              "    <tr>\n",
              "      <th>1856</th>\n",
              "      <td>84034001</td>\n",
              "      <td>US</td>\n",
              "      <td>USA</td>\n",
              "      <td>840</td>\n",
              "      <td>34001.0</td>\n",
              "      <td>Atlantic</td>\n",
              "      <td>New Jersey</td>\n",
              "      <td>US</td>\n",
              "      <td>39.475387</td>\n",
              "      <td>-74.658485</td>\n",
              "      <td>Atlantic, New Jersey, US</td>\n",
              "      <td>1/22/20</td>\n",
              "      <td>0</td>\n",
              "      <td>0</td>\n",
              "    </tr>\n",
              "    <tr>\n",
              "      <th>1877</th>\n",
              "      <td>84035001</td>\n",
              "      <td>US</td>\n",
              "      <td>USA</td>\n",
              "      <td>840</td>\n",
              "      <td>35001.0</td>\n",
              "      <td>Bernalillo</td>\n",
              "      <td>New Mexico</td>\n",
              "      <td>US</td>\n",
              "      <td>35.051636</td>\n",
              "      <td>-106.670355</td>\n",
              "      <td>Bernalillo, New Mexico, US</td>\n",
              "      <td>1/22/20</td>\n",
              "      <td>0</td>\n",
              "      <td>0</td>\n",
              "    </tr>\n",
              "    <tr>\n",
              "      <th>1910</th>\n",
              "      <td>84036001</td>\n",
              "      <td>US</td>\n",
              "      <td>USA</td>\n",
              "      <td>840</td>\n",
              "      <td>36001.0</td>\n",
              "      <td>Albany</td>\n",
              "      <td>New York</td>\n",
              "      <td>US</td>\n",
              "      <td>42.600603</td>\n",
              "      <td>-73.977239</td>\n",
              "      <td>Albany, New York, US</td>\n",
              "      <td>1/22/20</td>\n",
              "      <td>0</td>\n",
              "      <td>0</td>\n",
              "    </tr>\n",
              "    <tr>\n",
              "      <th>1972</th>\n",
              "      <td>84037001</td>\n",
              "      <td>US</td>\n",
              "      <td>USA</td>\n",
              "      <td>840</td>\n",
              "      <td>37001.0</td>\n",
              "      <td>Alamance</td>\n",
              "      <td>North Carolina</td>\n",
              "      <td>US</td>\n",
              "      <td>36.043470</td>\n",
              "      <td>-79.399761</td>\n",
              "      <td>Alamance, North Carolina, US</td>\n",
              "      <td>1/22/20</td>\n",
              "      <td>0</td>\n",
              "      <td>0</td>\n",
              "    </tr>\n",
              "    <tr>\n",
              "      <th>2072</th>\n",
              "      <td>84038001</td>\n",
              "      <td>US</td>\n",
              "      <td>USA</td>\n",
              "      <td>840</td>\n",
              "      <td>38001.0</td>\n",
              "      <td>Adams</td>\n",
              "      <td>North Dakota</td>\n",
              "      <td>US</td>\n",
              "      <td>46.096869</td>\n",
              "      <td>-102.528540</td>\n",
              "      <td>Adams, North Dakota, US</td>\n",
              "      <td>1/22/20</td>\n",
              "      <td>0</td>\n",
              "      <td>0</td>\n",
              "    </tr>\n",
              "    <tr>\n",
              "      <th>2125</th>\n",
              "      <td>84039001</td>\n",
              "      <td>US</td>\n",
              "      <td>USA</td>\n",
              "      <td>840</td>\n",
              "      <td>39001.0</td>\n",
              "      <td>Adams</td>\n",
              "      <td>Ohio</td>\n",
              "      <td>US</td>\n",
              "      <td>38.845411</td>\n",
              "      <td>-83.471896</td>\n",
              "      <td>Adams, Ohio, US</td>\n",
              "      <td>1/22/20</td>\n",
              "      <td>0</td>\n",
              "      <td>0</td>\n",
              "    </tr>\n",
              "    <tr>\n",
              "      <th>2213</th>\n",
              "      <td>84040001</td>\n",
              "      <td>US</td>\n",
              "      <td>USA</td>\n",
              "      <td>840</td>\n",
              "      <td>40001.0</td>\n",
              "      <td>Adair</td>\n",
              "      <td>Oklahoma</td>\n",
              "      <td>US</td>\n",
              "      <td>35.884942</td>\n",
              "      <td>-94.658593</td>\n",
              "      <td>Adair, Oklahoma, US</td>\n",
              "      <td>1/22/20</td>\n",
              "      <td>0</td>\n",
              "      <td>0</td>\n",
              "    </tr>\n",
              "    <tr>\n",
              "      <th>2290</th>\n",
              "      <td>84041001</td>\n",
              "      <td>US</td>\n",
              "      <td>USA</td>\n",
              "      <td>840</td>\n",
              "      <td>41001.0</td>\n",
              "      <td>Baker</td>\n",
              "      <td>Oregon</td>\n",
              "      <td>US</td>\n",
              "      <td>44.709156</td>\n",
              "      <td>-117.674988</td>\n",
              "      <td>Baker, Oregon, US</td>\n",
              "      <td>1/22/20</td>\n",
              "      <td>0</td>\n",
              "      <td>0</td>\n",
              "    </tr>\n",
              "    <tr>\n",
              "      <th>2326</th>\n",
              "      <td>84042001</td>\n",
              "      <td>US</td>\n",
              "      <td>USA</td>\n",
              "      <td>840</td>\n",
              "      <td>42001.0</td>\n",
              "      <td>Adams</td>\n",
              "      <td>Pennsylvania</td>\n",
              "      <td>US</td>\n",
              "      <td>39.871404</td>\n",
              "      <td>-77.216103</td>\n",
              "      <td>Adams, Pennsylvania, US</td>\n",
              "      <td>1/22/20</td>\n",
              "      <td>0</td>\n",
              "      <td>0</td>\n",
              "    </tr>\n",
              "    <tr>\n",
              "      <th>2393</th>\n",
              "      <td>84044001</td>\n",
              "      <td>US</td>\n",
              "      <td>USA</td>\n",
              "      <td>840</td>\n",
              "      <td>44001.0</td>\n",
              "      <td>Bristol</td>\n",
              "      <td>Rhode Island</td>\n",
              "      <td>US</td>\n",
              "      <td>41.710181</td>\n",
              "      <td>-71.286523</td>\n",
              "      <td>Bristol, Rhode Island, US</td>\n",
              "      <td>1/22/20</td>\n",
              "      <td>0</td>\n",
              "      <td>0</td>\n",
              "    </tr>\n",
              "    <tr>\n",
              "      <th>2398</th>\n",
              "      <td>84045001</td>\n",
              "      <td>US</td>\n",
              "      <td>USA</td>\n",
              "      <td>840</td>\n",
              "      <td>45001.0</td>\n",
              "      <td>Abbeville</td>\n",
              "      <td>South Carolina</td>\n",
              "      <td>US</td>\n",
              "      <td>34.223334</td>\n",
              "      <td>-82.461707</td>\n",
              "      <td>Abbeville, South Carolina, US</td>\n",
              "      <td>1/22/20</td>\n",
              "      <td>0</td>\n",
              "      <td>0</td>\n",
              "    </tr>\n",
              "    <tr>\n",
              "      <th>2444</th>\n",
              "      <td>84046003</td>\n",
              "      <td>US</td>\n",
              "      <td>USA</td>\n",
              "      <td>840</td>\n",
              "      <td>46003.0</td>\n",
              "      <td>Aurora</td>\n",
              "      <td>South Dakota</td>\n",
              "      <td>US</td>\n",
              "      <td>43.717577</td>\n",
              "      <td>-98.560505</td>\n",
              "      <td>Aurora, South Dakota, US</td>\n",
              "      <td>1/22/20</td>\n",
              "      <td>0</td>\n",
              "      <td>0</td>\n",
              "    </tr>\n",
              "    <tr>\n",
              "      <th>2510</th>\n",
              "      <td>84047001</td>\n",
              "      <td>US</td>\n",
              "      <td>USA</td>\n",
              "      <td>840</td>\n",
              "      <td>47001.0</td>\n",
              "      <td>Anderson</td>\n",
              "      <td>Tennessee</td>\n",
              "      <td>US</td>\n",
              "      <td>36.126843</td>\n",
              "      <td>-84.199658</td>\n",
              "      <td>Anderson, Tennessee, US</td>\n",
              "      <td>1/22/20</td>\n",
              "      <td>0</td>\n",
              "      <td>0</td>\n",
              "    </tr>\n",
              "    <tr>\n",
              "      <th>2605</th>\n",
              "      <td>84048001</td>\n",
              "      <td>US</td>\n",
              "      <td>USA</td>\n",
              "      <td>840</td>\n",
              "      <td>48001.0</td>\n",
              "      <td>Anderson</td>\n",
              "      <td>Texas</td>\n",
              "      <td>US</td>\n",
              "      <td>31.815347</td>\n",
              "      <td>-95.653548</td>\n",
              "      <td>Anderson, Texas, US</td>\n",
              "      <td>1/22/20</td>\n",
              "      <td>0</td>\n",
              "      <td>0</td>\n",
              "    </tr>\n",
              "    <tr>\n",
              "      <th>2859</th>\n",
              "      <td>84049001</td>\n",
              "      <td>US</td>\n",
              "      <td>USA</td>\n",
              "      <td>840</td>\n",
              "      <td>49001.0</td>\n",
              "      <td>Beaver</td>\n",
              "      <td>Utah</td>\n",
              "      <td>US</td>\n",
              "      <td>38.356571</td>\n",
              "      <td>-113.234223</td>\n",
              "      <td>Beaver, Utah, US</td>\n",
              "      <td>1/22/20</td>\n",
              "      <td>0</td>\n",
              "      <td>0</td>\n",
              "    </tr>\n",
              "    <tr>\n",
              "      <th>2888</th>\n",
              "      <td>84050001</td>\n",
              "      <td>US</td>\n",
              "      <td>USA</td>\n",
              "      <td>840</td>\n",
              "      <td>50001.0</td>\n",
              "      <td>Addison</td>\n",
              "      <td>Vermont</td>\n",
              "      <td>US</td>\n",
              "      <td>44.032173</td>\n",
              "      <td>-73.141309</td>\n",
              "      <td>Addison, Vermont, US</td>\n",
              "      <td>1/22/20</td>\n",
              "      <td>0</td>\n",
              "      <td>0</td>\n",
              "    </tr>\n",
              "    <tr>\n",
              "      <th>2902</th>\n",
              "      <td>84051001</td>\n",
              "      <td>US</td>\n",
              "      <td>USA</td>\n",
              "      <td>840</td>\n",
              "      <td>51001.0</td>\n",
              "      <td>Accomack</td>\n",
              "      <td>Virginia</td>\n",
              "      <td>US</td>\n",
              "      <td>37.767072</td>\n",
              "      <td>-75.632346</td>\n",
              "      <td>Accomack, Virginia, US</td>\n",
              "      <td>1/22/20</td>\n",
              "      <td>0</td>\n",
              "      <td>0</td>\n",
              "    </tr>\n",
              "    <tr>\n",
              "      <th>3035</th>\n",
              "      <td>84053001</td>\n",
              "      <td>US</td>\n",
              "      <td>USA</td>\n",
              "      <td>840</td>\n",
              "      <td>53001.0</td>\n",
              "      <td>Adams</td>\n",
              "      <td>Washington</td>\n",
              "      <td>US</td>\n",
              "      <td>46.982998</td>\n",
              "      <td>-118.560173</td>\n",
              "      <td>Adams, Washington, US</td>\n",
              "      <td>1/22/20</td>\n",
              "      <td>0</td>\n",
              "      <td>0</td>\n",
              "    </tr>\n",
              "    <tr>\n",
              "      <th>3074</th>\n",
              "      <td>84054001</td>\n",
              "      <td>US</td>\n",
              "      <td>USA</td>\n",
              "      <td>840</td>\n",
              "      <td>54001.0</td>\n",
              "      <td>Barbour</td>\n",
              "      <td>West Virginia</td>\n",
              "      <td>US</td>\n",
              "      <td>39.130722</td>\n",
              "      <td>-80.003509</td>\n",
              "      <td>Barbour, West Virginia, US</td>\n",
              "      <td>1/22/20</td>\n",
              "      <td>0</td>\n",
              "      <td>0</td>\n",
              "    </tr>\n",
              "    <tr>\n",
              "      <th>3129</th>\n",
              "      <td>84055001</td>\n",
              "      <td>US</td>\n",
              "      <td>USA</td>\n",
              "      <td>840</td>\n",
              "      <td>55001.0</td>\n",
              "      <td>Adams</td>\n",
              "      <td>Wisconsin</td>\n",
              "      <td>US</td>\n",
              "      <td>43.969747</td>\n",
              "      <td>-89.767828</td>\n",
              "      <td>Adams, Wisconsin, US</td>\n",
              "      <td>1/22/20</td>\n",
              "      <td>0</td>\n",
              "      <td>0</td>\n",
              "    </tr>\n",
              "    <tr>\n",
              "      <th>3201</th>\n",
              "      <td>84056001</td>\n",
              "      <td>US</td>\n",
              "      <td>USA</td>\n",
              "      <td>840</td>\n",
              "      <td>56001.0</td>\n",
              "      <td>Albany</td>\n",
              "      <td>Wyoming</td>\n",
              "      <td>US</td>\n",
              "      <td>41.654987</td>\n",
              "      <td>-105.723541</td>\n",
              "      <td>Albany, Wyoming, US</td>\n",
              "      <td>1/22/20</td>\n",
              "      <td>0</td>\n",
              "      <td>0</td>\n",
              "    </tr>\n",
              "    <tr>\n",
              "      <th>3276</th>\n",
              "      <td>84088888</td>\n",
              "      <td>US</td>\n",
              "      <td>USA</td>\n",
              "      <td>840</td>\n",
              "      <td>88888.0</td>\n",
              "      <td>NaN</td>\n",
              "      <td>Diamond Princess</td>\n",
              "      <td>US</td>\n",
              "      <td>0.000000</td>\n",
              "      <td>0.000000</td>\n",
              "      <td>Diamond Princess, US</td>\n",
              "      <td>1/22/20</td>\n",
              "      <td>0</td>\n",
              "      <td>0</td>\n",
              "    </tr>\n",
              "    <tr>\n",
              "      <th>3329</th>\n",
              "      <td>84099999</td>\n",
              "      <td>US</td>\n",
              "      <td>USA</td>\n",
              "      <td>840</td>\n",
              "      <td>99999.0</td>\n",
              "      <td>NaN</td>\n",
              "      <td>Grand Princess</td>\n",
              "      <td>US</td>\n",
              "      <td>0.000000</td>\n",
              "      <td>0.000000</td>\n",
              "      <td>Grand Princess, US</td>\n",
              "      <td>1/22/20</td>\n",
              "      <td>0</td>\n",
              "      <td>0</td>\n",
              "    </tr>\n",
              "  </tbody>\n",
              "</table>\n",
              "</div>"
            ],
            "text/plain": [
              "           UID iso2 iso3  code3     FIPS                Admin2  \\\n",
              "0           16   AS  ASM     16     60.0                   NaN   \n",
              "1          316   GU  GUM    316     66.0                   NaN   \n",
              "2          580   MP  MNP    580     69.0                   NaN   \n",
              "3     63072001   PR  PRI    630  72001.0              Adjuntas   \n",
              "81         850   VI  VIR    850     78.0                   NaN   \n",
              "82    84001001   US  USA    840   1001.0               Autauga   \n",
              "149   84002013   US  USA    840   2013.0        Aleutians East   \n",
              "178   84004001   US  USA    840   4001.0                Apache   \n",
              "193   84005001   US  USA    840   5001.0              Arkansas   \n",
              "268   84006001   US  USA    840   6001.0               Alameda   \n",
              "326   84008001   US  USA    840   8001.0                 Adams   \n",
              "390   84009001   US  USA    840   9001.0             Fairfield   \n",
              "398   84010001   US  USA    840  10001.0                  Kent   \n",
              "401   84011001   US  USA    840  11001.0  District of Columbia   \n",
              "402   84012001   US  USA    840  12001.0               Alachua   \n",
              "469   84013001   US  USA    840  13001.0               Appling   \n",
              "628   84015001   US  USA    840  15001.0                Hawaii   \n",
              "633   84016001   US  USA    840  16001.0                   Ada   \n",
              "677   84017001   US  USA    840  17001.0                 Adams   \n",
              "779   84018001   US  USA    840  18001.0                 Adams   \n",
              "871   84019001   US  USA    840  19001.0                 Adair   \n",
              "970   84020001   US  USA    840  20001.0                 Allen   \n",
              "1075  84021001   US  USA    840  21001.0                 Adair   \n",
              "1195  84022001   US  USA    840  22001.0                Acadia   \n",
              "1259  84023001   US  USA    840  23001.0          Androscoggin   \n",
              "1275  84024001   US  USA    840  24001.0              Allegany   \n",
              "1299  84025001   US  USA    840  25001.0            Barnstable   \n",
              "1313  84026001   US  USA    840  26001.0                Alcona   \n",
              "1396  84027001   US  USA    840  27001.0                Aitkin   \n",
              "1483  84028001   US  USA    840  28001.0                 Adams   \n",
              "1565  84029001   US  USA    840  29001.0                 Adair   \n",
              "1680  84030001   US  USA    840  30001.0            Beaverhead   \n",
              "1736  84031001   US  USA    840  31001.0                 Adams   \n",
              "1829  84032001   US  USA    840  32001.0             Churchill   \n",
              "1846  84033001   US  USA    840  33001.0               Belknap   \n",
              "1856  84034001   US  USA    840  34001.0              Atlantic   \n",
              "1877  84035001   US  USA    840  35001.0            Bernalillo   \n",
              "1910  84036001   US  USA    840  36001.0                Albany   \n",
              "1972  84037001   US  USA    840  37001.0              Alamance   \n",
              "2072  84038001   US  USA    840  38001.0                 Adams   \n",
              "2125  84039001   US  USA    840  39001.0                 Adams   \n",
              "2213  84040001   US  USA    840  40001.0                 Adair   \n",
              "2290  84041001   US  USA    840  41001.0                 Baker   \n",
              "2326  84042001   US  USA    840  42001.0                 Adams   \n",
              "2393  84044001   US  USA    840  44001.0               Bristol   \n",
              "2398  84045001   US  USA    840  45001.0             Abbeville   \n",
              "2444  84046003   US  USA    840  46003.0                Aurora   \n",
              "2510  84047001   US  USA    840  47001.0              Anderson   \n",
              "2605  84048001   US  USA    840  48001.0              Anderson   \n",
              "2859  84049001   US  USA    840  49001.0                Beaver   \n",
              "2888  84050001   US  USA    840  50001.0               Addison   \n",
              "2902  84051001   US  USA    840  51001.0              Accomack   \n",
              "3035  84053001   US  USA    840  53001.0                 Adams   \n",
              "3074  84054001   US  USA    840  54001.0               Barbour   \n",
              "3129  84055001   US  USA    840  55001.0                 Adams   \n",
              "3201  84056001   US  USA    840  56001.0                Albany   \n",
              "3276  84088888   US  USA    840  88888.0                   NaN   \n",
              "3329  84099999   US  USA    840  99999.0                   NaN   \n",
              "\n",
              "                Province_State Country_Region        Lat       Long_  \\\n",
              "0               American Samoa             US -14.271000 -170.132000   \n",
              "1                         Guam             US  13.444300  144.793700   \n",
              "2     Northern Mariana Islands             US  15.097900  145.673900   \n",
              "3                  Puerto Rico             US  18.180117  -66.754367   \n",
              "81              Virgin Islands             US  18.335800  -64.896300   \n",
              "82                     Alabama             US  32.539527  -86.644082   \n",
              "149                     Alaska             US  55.322224 -161.972202   \n",
              "178                    Arizona             US  35.394650 -109.489238   \n",
              "193                   Arkansas             US  34.291452  -91.372773   \n",
              "268                 California             US  37.646294 -121.892927   \n",
              "326                   Colorado             US  39.874321 -104.336258   \n",
              "390                Connecticut             US  41.268099  -73.388117   \n",
              "398                   Delaware             US  39.086466  -75.568849   \n",
              "401       District of Columbia             US  38.904178  -77.016560   \n",
              "402                    Florida             US  29.678665  -82.359282   \n",
              "469                    Georgia             US  31.748472  -82.289091   \n",
              "628                     Hawaii             US  19.601212 -155.521017   \n",
              "633                      Idaho             US  43.452658 -116.241552   \n",
              "677                   Illinois             US  39.988156  -91.187868   \n",
              "779                    Indiana             US  40.745765  -84.936714   \n",
              "871                       Iowa             US  41.330756  -94.471059   \n",
              "970                     Kansas             US  37.885830  -95.300308   \n",
              "1075                  Kentucky             US  37.104598  -85.281297   \n",
              "1195                 Louisiana             US  30.295065  -92.414197   \n",
              "1259                     Maine             US  44.166475  -70.203806   \n",
              "1275                  Maryland             US  39.623576  -78.692805   \n",
              "1299             Massachusetts             US  41.729806  -70.288543   \n",
              "1313                  Michigan             US  44.684686  -83.595079   \n",
              "1396                 Minnesota             US  46.609620  -93.411683   \n",
              "1483               Mississippi             US  31.476698  -91.353260   \n",
              "1565                  Missouri             US  40.190586  -92.600782   \n",
              "1680                   Montana             US  45.134344 -112.898469   \n",
              "1736                  Nebraska             US  40.524494  -98.501178   \n",
              "1829                    Nevada             US  39.581057 -118.339461   \n",
              "1846             New Hampshire             US  43.516373  -71.416842   \n",
              "1856                New Jersey             US  39.475387  -74.658485   \n",
              "1877                New Mexico             US  35.051636 -106.670355   \n",
              "1910                  New York             US  42.600603  -73.977239   \n",
              "1972            North Carolina             US  36.043470  -79.399761   \n",
              "2072              North Dakota             US  46.096869 -102.528540   \n",
              "2125                      Ohio             US  38.845411  -83.471896   \n",
              "2213                  Oklahoma             US  35.884942  -94.658593   \n",
              "2290                    Oregon             US  44.709156 -117.674988   \n",
              "2326              Pennsylvania             US  39.871404  -77.216103   \n",
              "2393              Rhode Island             US  41.710181  -71.286523   \n",
              "2398            South Carolina             US  34.223334  -82.461707   \n",
              "2444              South Dakota             US  43.717577  -98.560505   \n",
              "2510                 Tennessee             US  36.126843  -84.199658   \n",
              "2605                     Texas             US  31.815347  -95.653548   \n",
              "2859                      Utah             US  38.356571 -113.234223   \n",
              "2888                   Vermont             US  44.032173  -73.141309   \n",
              "2902                  Virginia             US  37.767072  -75.632346   \n",
              "3035                Washington             US  46.982998 -118.560173   \n",
              "3074             West Virginia             US  39.130722  -80.003509   \n",
              "3129                 Wisconsin             US  43.969747  -89.767828   \n",
              "3201                   Wyoming             US  41.654987 -105.723541   \n",
              "3276          Diamond Princess             US   0.000000    0.000000   \n",
              "3329            Grand Princess             US   0.000000    0.000000   \n",
              "\n",
              "                                      Combined_Key     Date  Confirmed  Deaths  \n",
              "0                               American Samoa, US  1/22/20          0       0  \n",
              "1                                         Guam, US  1/22/20          0       0  \n",
              "2                     Northern Mariana Islands, US  1/22/20          0       0  \n",
              "3                        Adjuntas, Puerto Rico, US  1/22/20          0       0  \n",
              "81                              Virgin Islands, US  1/22/20          0       0  \n",
              "82                            Autauga, Alabama, US  1/22/20          0       0  \n",
              "149                     Aleutians East, Alaska, US  1/22/20          0       0  \n",
              "178                            Apache, Arizona, US  1/22/20          0       0  \n",
              "193                         Arkansas, Arkansas, US  1/22/20          0       0  \n",
              "268                        Alameda, California, US  1/22/20          0       0  \n",
              "326                            Adams, Colorado, US  1/22/20          0       0  \n",
              "390                     Fairfield, Connecticut, US  1/22/20          0       0  \n",
              "398                             Kent, Delaware, US  1/22/20          0       0  \n",
              "401   District of Columbia,District of Columbia,US  1/22/20          0       0  \n",
              "402                           Alachua, Florida, US  1/22/20          0       0  \n",
              "469                           Appling, Georgia, US  1/22/20          0       0  \n",
              "628                             Hawaii, Hawaii, US  1/22/20          0       0  \n",
              "633                                 Ada, Idaho, US  1/22/20          0       0  \n",
              "677                            Adams, Illinois, US  1/22/20          0       0  \n",
              "779                             Adams, Indiana, US  1/22/20          0       0  \n",
              "871                                Adair, Iowa, US  1/22/20          0       0  \n",
              "970                              Allen, Kansas, US  1/22/20          0       0  \n",
              "1075                           Adair, Kentucky, US  1/22/20          0       0  \n",
              "1195                         Acadia, Louisiana, US  1/22/20          0       0  \n",
              "1259                       Androscoggin, Maine, US  1/22/20          0       0  \n",
              "1275                        Allegany, Maryland, US  1/22/20          0       0  \n",
              "1299                 Barnstable, Massachusetts, US  1/22/20          0       0  \n",
              "1313                          Alcona, Michigan, US  1/22/20          0       0  \n",
              "1396                         Aitkin, Minnesota, US  1/22/20          0       0  \n",
              "1483                        Adams, Mississippi, US  1/22/20          0       0  \n",
              "1565                           Adair, Missouri, US  1/22/20          0       0  \n",
              "1680                       Beaverhead, Montana, US  1/22/20          0       0  \n",
              "1736                           Adams, Nebraska, US  1/22/20          0       0  \n",
              "1829                         Churchill, Nevada, US  1/22/20          0       0  \n",
              "1846                    Belknap, New Hampshire, US  1/22/20          0       0  \n",
              "1856                      Atlantic, New Jersey, US  1/22/20          0       0  \n",
              "1877                    Bernalillo, New Mexico, US  1/22/20          0       0  \n",
              "1910                          Albany, New York, US  1/22/20          0       0  \n",
              "1972                  Alamance, North Carolina, US  1/22/20          0       0  \n",
              "2072                       Adams, North Dakota, US  1/22/20          0       0  \n",
              "2125                               Adams, Ohio, US  1/22/20          0       0  \n",
              "2213                           Adair, Oklahoma, US  1/22/20          0       0  \n",
              "2290                             Baker, Oregon, US  1/22/20          0       0  \n",
              "2326                       Adams, Pennsylvania, US  1/22/20          0       0  \n",
              "2393                     Bristol, Rhode Island, US  1/22/20          0       0  \n",
              "2398                 Abbeville, South Carolina, US  1/22/20          0       0  \n",
              "2444                      Aurora, South Dakota, US  1/22/20          0       0  \n",
              "2510                       Anderson, Tennessee, US  1/22/20          0       0  \n",
              "2605                           Anderson, Texas, US  1/22/20          0       0  \n",
              "2859                              Beaver, Utah, US  1/22/20          0       0  \n",
              "2888                          Addison, Vermont, US  1/22/20          0       0  \n",
              "2902                        Accomack, Virginia, US  1/22/20          0       0  \n",
              "3035                         Adams, Washington, US  1/22/20          0       0  \n",
              "3074                    Barbour, West Virginia, US  1/22/20          0       0  \n",
              "3129                          Adams, Wisconsin, US  1/22/20          0       0  \n",
              "3201                           Albany, Wyoming, US  1/22/20          0       0  \n",
              "3276                          Diamond Princess, US  1/22/20          0       0  \n",
              "3329                            Grand Princess, US  1/22/20          0       0  "
            ]
          },
          "execution_count": 10,
          "metadata": {},
          "output_type": "execute_result"
        }
      ],
      "source": [
        "df.drop_duplicates(subset=['Province_State'])"
      ]
    },
    {
      "cell_type": "code",
      "execution_count": null,
      "id": "84a55bed",
      "metadata": {
        "id": "84a55bed"
      },
      "outputs": [],
      "source": [
        "#removing missing values\n",
        "nr=df['FIPS'].replace(np.NaN,df['FIPS'].median(),inplace=True)\n",
        "nr"
      ]
    },
    {
      "cell_type": "code",
      "execution_count": null,
      "id": "dbb8df7c",
      "metadata": {
        "id": "dbb8df7c",
        "outputId": "8e1a37cd-b2c8-4833-e77e-5421e55fe7d8"
      },
      "outputs": [
        {
          "data": {
            "text/plain": [
              "UID                  0\n",
              "iso2                 0\n",
              "iso3                 0\n",
              "code3                0\n",
              "FIPS                 0\n",
              "Admin2            1128\n",
              "Province_State       0\n",
              "Country_Region       0\n",
              "Lat                  0\n",
              "Long_                0\n",
              "Combined_Key         0\n",
              "Date                 0\n",
              "Confirmed            0\n",
              "Deaths               0\n",
              "dtype: int64"
            ]
          },
          "execution_count": 12,
          "metadata": {},
          "output_type": "execute_result"
        }
      ],
      "source": [
        "df.isnull().sum()"
      ]
    },
    {
      "cell_type": "code",
      "execution_count": null,
      "id": "b292c5d5",
      "metadata": {
        "scrolled": true,
        "id": "b292c5d5",
        "outputId": "c91eda45-f30c-49d5-d1d3-c15370d90f92"
      },
      "outputs": [
        {
          "data": {
            "text/plain": [
              "UID                 int64\n",
              "iso2               object\n",
              "iso3               object\n",
              "code3               int64\n",
              "FIPS              float64\n",
              "Admin2             object\n",
              "Province_State     object\n",
              "Country_Region     object\n",
              "Lat               float64\n",
              "Long_             float64\n",
              "Combined_Key       object\n",
              "Date               object\n",
              "Confirmed           int64\n",
              "Deaths              int64\n",
              "dtype: object"
            ]
          },
          "execution_count": 13,
          "metadata": {},
          "output_type": "execute_result"
        }
      ],
      "source": [
        "df.dtypes"
      ]
    },
    {
      "cell_type": "code",
      "execution_count": null,
      "id": "c2f3cb7d",
      "metadata": {
        "id": "c2f3cb7d"
      },
      "outputs": [],
      "source": [
        "import seaborn as sns"
      ]
    },
    {
      "cell_type": "code",
      "execution_count": null,
      "id": "7ba960a4",
      "metadata": {
        "id": "7ba960a4",
        "outputId": "0b5d172f-9d06-4b60-c5a2-0e8afa7f39a9"
      },
      "outputs": [
        {
          "name": "stderr",
          "output_type": "stream",
          "text": [
            "/Users/nimithareddy/opt/anaconda3/lib/python3.9/site-packages/seaborn/_decorators.py:36: FutureWarning: Pass the following variable as a keyword arg: x. From version 0.12, the only valid positional argument will be `data`, and passing other arguments without an explicit keyword will result in an error or misinterpretation.\n",
            "  warnings.warn(\n"
          ]
        },
        {
          "data": {
            "text/plain": [
              "<AxesSubplot:xlabel='Long_'>"
            ]
          },
          "execution_count": 15,
          "metadata": {},
          "output_type": "execute_result"
        },
        {
          "data": {
            "image/png": "[encoded data removed]",
            "text/plain": [
              "<Figure size 432x288 with 1 Axes>"
            ]
          },
          "metadata": {
            "needs_background": "light"
          },
          "output_type": "display_data"
        }
      ],
      "source": [
        "#finding outliers using boxplot\n",
        "sns.boxplot(df['Long_'])"
      ]
    },
    {
      "cell_type": "markdown",
      "id": "66ff9367",
      "metadata": {
        "id": "66ff9367"
      },
      "source": [
        "# Inferential Statistics"
      ]
    },
    {
      "cell_type": "code",
      "execution_count": null,
      "id": "805ee91d",
      "metadata": {
        "id": "805ee91d",
        "outputId": "1e3813f3-d667-49f3-94d0-0c2e2afa2bfb"
      },
      "outputs": [
        {
          "data": {
            "text/plain": [
              "0    0.0\n",
              "dtype: float64"
            ]
          },
          "execution_count": 16,
          "metadata": {},
          "output_type": "execute_result"
        }
      ],
      "source": [
        "df['Long_'].mode()"
      ]
    },
    {
      "cell_type": "code",
      "execution_count": null,
      "id": "2576cbdf",
      "metadata": {
        "id": "2576cbdf"
      },
      "outputs": [],
      "source": [
        "#In the above case, the data type is float because it has decimal places assigned"
      ]
    },
    {
      "cell_type": "code",
      "execution_count": null,
      "id": "dc663723",
      "metadata": {
        "id": "dc663723",
        "outputId": "944a6916-4445-481d-cde1-6626167ba835"
      },
      "outputs": [
        {
          "data": {
            "text/plain": [
              "-88.60147445562131"
            ]
          },
          "execution_count": 18,
          "metadata": {},
          "output_type": "execute_result"
        }
      ],
      "source": [
        "df['Long_'].mean()"
      ]
    },
    {
      "cell_type": "code",
      "execution_count": null,
      "id": "402075ce",
      "metadata": {
        "id": "402075ce",
        "outputId": "2901d960-e515-4a84-b742-5282322fd827"
      },
      "outputs": [
        {
          "data": {
            "text/plain": [
              "-89.48670996999999"
            ]
          },
          "execution_count": 19,
          "metadata": {},
          "output_type": "execute_result"
        }
      ],
      "source": [
        "df['Long_'].median()"
      ]
    },
    {
      "cell_type": "markdown",
      "id": "600da9c6",
      "metadata": {
        "id": "600da9c6"
      },
      "source": [
        "FINDING MEAN MEDIAN AND MODE SKLEARN METHOD"
      ]
    },
    {
      "cell_type": "code",
      "execution_count": null,
      "id": "8b6dda63",
      "metadata": {
        "id": "8b6dda63"
      },
      "outputs": [],
      "source": [
        "from sklearn.impute import SimpleImputer"
      ]
    },
    {
      "cell_type": "code",
      "execution_count": null,
      "id": "0315a692",
      "metadata": {
        "id": "0315a692",
        "outputId": "63a474d2-d032-4c5a-abf5-502671b4cb88"
      },
      "outputs": [
        {
          "name": "stdout",
          "output_type": "stream",
          "text": [
            "[[-170.132    ]\n",
            " [ 144.7937   ]\n",
            " [ 145.6739   ]\n",
            " ...\n",
            " [-111.4418764]\n",
            " [-109.5174415]\n",
            " [-111.9145117]]\n"
          ]
        }
      ],
      "source": [
        "impo = SimpleImputer(strategy='mean')\n",
        "x = df[['Long_']]\n",
        "X = impo.fit_transform(x)\n",
        "print(X)"
      ]
    },
    {
      "cell_type": "code",
      "execution_count": null,
      "id": "fc3fff0e",
      "metadata": {
        "id": "fc3fff0e",
        "outputId": "a04aa865-45db-419d-b5a2-b46cf59c16a7"
      },
      "outputs": [
        {
          "name": "stdout",
          "output_type": "stream",
          "text": [
            "[[-14.271     ]\n",
            " [ 13.4443    ]\n",
            " [ 15.0979    ]\n",
            " ...\n",
            " [ 37.85447192]\n",
            " [ 40.12491499]\n",
            " [ 41.27116049]]\n"
          ]
        }
      ],
      "source": [
        "impo = SimpleImputer(strategy='median')\n",
        "x = df[['Lat']]\n",
        "X = impo.fit_transform(x)\n",
        "print(X)"
      ]
    },
    {
      "cell_type": "code",
      "execution_count": null,
      "id": "3f80b3a5",
      "metadata": {
        "id": "3f80b3a5",
        "outputId": "f2cca93d-834f-45cc-8e7d-8dacf2e8001b"
      },
      "outputs": [
        {
          "name": "stdout",
          "output_type": "stream",
          "text": [
            "[[   60.]\n",
            " [   66.]\n",
            " [   69.]\n",
            " ...\n",
            " [31014.]\n",
            " [31014.]\n",
            " [31014.]]\n"
          ]
        }
      ],
      "source": [
        "impo = SimpleImputer(strategy='most_frequent')\n",
        "x = df[['FIPS']]\n",
        "X = impo.fit_transform(x)\n",
        "print(X)"
      ]
    },
    {
      "cell_type": "code",
      "execution_count": null,
      "id": "4faeaa0f",
      "metadata": {
        "id": "4faeaa0f",
        "outputId": "e02366ea-56cb-4c57-f4b6-f611fd80989b"
      },
      "outputs": [
        {
          "name": "stderr",
          "output_type": "stream",
          "text": [
            "/Users/nimithareddy/opt/anaconda3/lib/python3.9/site-packages/seaborn/_decorators.py:36: FutureWarning: Pass the following variable as a keyword arg: x. From version 0.12, the only valid positional argument will be `data`, and passing other arguments without an explicit keyword will result in an error or misinterpretation.\n",
            "  warnings.warn(\n"
          ]
        },
        {
          "data": {
            "text/plain": [
              "<AxesSubplot:xlabel='Long_'>"
            ]
          },
          "execution_count": 24,
          "metadata": {},
          "output_type": "execute_result"
        },
        {
          "data": {
            "image/png": "[encoded data removed]",
            "text/plain": [
              "<Figure size 432x288 with 1 Axes>"
            ]
          },
          "metadata": {
            "needs_background": "light"
          },
          "output_type": "display_data"
        }
      ],
      "source": [
        "#detecting outliers using boxplot method\n",
        "sns.boxplot(df['Long_'])"
      ]
    },
    {
      "cell_type": "code",
      "execution_count": null,
      "id": "4bbdf058",
      "metadata": {
        "id": "4bbdf058",
        "outputId": "74911fdd-2cd7-46bc-8c49-1fbb17ff6597"
      },
      "outputs": [
        {
          "data": {
            "image/png": "[encoded data removed]",
            "text/plain": [
              "<Figure size 1296x720 with 1 Axes>"
            ]
          },
          "metadata": {
            "needs_background": "light"
          },
          "output_type": "display_data"
        }
      ],
      "source": [
        "import matplotlib.pyplot as plt\n",
        "fig, ax = plt.subplots(figsize = (18,10))\n",
        "ax.scatter(df['Long_'], df['code3'])\n",
        " \n",
        "# x-axis label\n",
        "ax.set_xlabel('Long_')\n",
        " \n",
        "# y-axis label\n",
        "ax.set_ylabel('code3')\n",
        "plt.show()"
      ]
    },
    {
      "cell_type": "code",
      "execution_count": null,
      "id": "00d42664",
      "metadata": {
        "id": "00d42664",
        "outputId": "fe1477ef-4280-4271-8137-1ff2aa620d8e"
      },
      "outputs": [
        {
          "name": "stdout",
          "output_type": "stream",
          "text": [
            "(array([     1,      2,   3341,   3342,   6681,   6682,  10021,  10022,\n",
            "        13361,  13362,  16701,  16702,  20041,  20042,  23381,  23382,\n",
            "        26721,  26722,  30061,  30062,  33401,  33402,  36741,  36742,\n",
            "        40081,  40082,  43421,  43422,  46761,  46762,  50101,  50102,\n",
            "        53441,  53442,  56781,  56782,  60121,  60122,  63461,  63462,\n",
            "        66801,  66802,  70141,  70142,  73481,  73482,  76821,  76822,\n",
            "        80161,  80162,  83501,  83502,  86841,  86842,  90181,  90182,\n",
            "        93521,  93522,  96861,  96862, 100201, 100202, 103541, 103542,\n",
            "       106881, 106882, 110221, 110222, 113561, 113562, 116901, 116902,\n",
            "       120241, 120242, 123581, 123582, 126921, 126922, 130261, 130262,\n",
            "       133601, 133602, 136941, 136942, 140281, 140282, 143621, 143622,\n",
            "       146961, 146962, 150301, 150302, 153641, 153642, 156981, 156982,\n",
            "       160321, 160322, 163661, 163662, 167001, 167002, 170341, 170342,\n",
            "       173681, 173682, 177021, 177022, 180361, 180362, 183701, 183702,\n",
            "       187041, 187042, 190381, 190382, 193721, 193722, 197061, 197062,\n",
            "       200401, 200402, 203741, 203742, 207081, 207082, 210421, 210422,\n",
            "       213761, 213762, 217101, 217102, 220441, 220442, 223781, 223782,\n",
            "       227121, 227122, 230461, 230462, 233801, 233802, 237141, 237142,\n",
            "       240481, 240482, 243821, 243822, 247161, 247162, 250501, 250502,\n",
            "       253841, 253842, 257181, 257182, 260521, 260522, 263861, 263862,\n",
            "       267201, 267202, 270541, 270542, 273881, 273882, 277221, 277222,\n",
            "       280561, 280562, 283901, 283902, 287241, 287242, 290581, 290582,\n",
            "       293921, 293922, 297261, 297262, 300601, 300602, 303941, 303942,\n",
            "       307281, 307282, 310621, 310622, 313961, 313962, 317301, 317302,\n",
            "       320641, 320642, 323981, 323982, 327321, 327322, 330661, 330662,\n",
            "       334001, 334002, 337341, 337342, 340681, 340682, 344021, 344022,\n",
            "       347361, 347362, 350701, 350702, 354041, 354042, 357381, 357382,\n",
            "       360721, 360722, 364061, 364062, 367401, 367402, 370741, 370742,\n",
            "       374081, 374082, 377421, 377422, 380761, 380762, 384101, 384102,\n",
            "       387441, 387442, 390781, 390782, 394121, 394122, 397461, 397462,\n",
            "       400801, 400802, 404141, 404142, 407481, 407482, 410821, 410822,\n",
            "       414161, 414162, 417501, 417502, 420841, 420842, 424181, 424182,\n",
            "       427521, 427522, 430861, 430862, 434201, 434202, 437541, 437542,\n",
            "       440881, 440882, 444221, 444222, 447561, 447562, 450901, 450902,\n",
            "       454241, 454242, 457581, 457582, 460921, 460922, 464261, 464262,\n",
            "       467601, 467602, 470941, 470942, 474281, 474282, 477621, 477622,\n",
            "       480961, 480962, 484301, 484302, 487641, 487642, 490981, 490982,\n",
            "       494321, 494322, 497661, 497662, 501001, 501002, 504341, 504342,\n",
            "       507681, 507682, 511021, 511022, 514361, 514362, 517701, 517702,\n",
            "       521041, 521042, 524381, 524382, 527721, 527722, 531061, 531062,\n",
            "       534401, 534402, 537741, 537742, 541081, 541082, 544421, 544422,\n",
            "       547761, 547762, 551101, 551102, 554441, 554442, 557781, 557782,\n",
            "       561121, 561122, 564461, 564462, 567801, 567802, 571141, 571142,\n",
            "       574481, 574482, 577821, 577822, 581161, 581162, 584501, 584502,\n",
            "       587841, 587842, 591181, 591182, 594521, 594522, 597861, 597862,\n",
            "       601201, 601202, 604541, 604542, 607881, 607882, 611221, 611222,\n",
            "       614561, 614562, 617901, 617902, 621241, 621242, 624581, 624582]),)\n"
          ]
        }
      ],
      "source": [
        "#detecting position of outliers\n",
        "print(np.where(df['Long_']>0))"
      ]
    },
    {
      "cell_type": "code",
      "execution_count": null,
      "id": "f3b823f5",
      "metadata": {
        "id": "f3b823f5",
        "outputId": "b3b51ee9-ad70-4b00-b1c0-4cf6c29f1ff2"
      },
      "outputs": [
        {
          "name": "stdout",
          "output_type": "stream",
          "text": [
            "0          3.754446\n",
            "1         10.747747\n",
            "2         10.788280\n",
            "3          1.006050\n",
            "4          0.986674\n",
            "            ...    \n",
            "627915     1.057961\n",
            "627916     1.017692\n",
            "627917     1.051791\n",
            "627918     0.963171\n",
            "627919     1.073555\n",
            "Name: Long_, Length: 627920, dtype: float64\n"
          ]
        }
      ],
      "source": [
        "#detection of outliers using z-zscore method\n",
        "from scipy import stats\n",
        "import numpy as np\n",
        "z=np.abs(stats.zscore(df['Long_']))\n",
        "print(z)"
      ]
    },
    {
      "cell_type": "code",
      "execution_count": null,
      "id": "3378ff66",
      "metadata": {
        "id": "3378ff66"
      },
      "outputs": [],
      "source": [
        "#detecting outliers using IQR method\n",
        "\n",
        "Q1=np.percentile(df['Long_'],25,interpolation = 'midpoint')\n",
        "Q3=np.percentile(df['Long_'],75,interpolation = 'midpoint')\n",
        "IQR = Q3-Q1"
      ]
    },
    {
      "cell_type": "code",
      "execution_count": null,
      "id": "1a5770ec",
      "metadata": {
        "id": "1a5770ec",
        "outputId": "214e483a-b4db-4bc2-a959-5c424a9e87c3"
      },
      "outputs": [
        {
          "name": "stdout",
          "output_type": "stream",
          "text": [
            "Upper bound: 0         False\n",
            "1          True\n",
            "2          True\n",
            "3         False\n",
            "4         False\n",
            "          ...  \n",
            "627915    False\n",
            "627916    False\n",
            "627917    False\n",
            "627918    False\n",
            "627919    False\n",
            "Name: Long_, Length: 627920, dtype: bool\n",
            "(array([     1,      2,   3224, ..., 627909, 627912, 627913]),)\n",
            "Lower bound: 0          True\n",
            "1         False\n",
            "2         False\n",
            "3         False\n",
            "4         False\n",
            "          ...  \n",
            "627915    False\n",
            "627916    False\n",
            "627917    False\n",
            "627918    False\n",
            "627919    False\n",
            "Name: Long_, Length: 627920, dtype: bool\n",
            "(array([     0,    149,    150, ..., 627648, 627649, 627651]),)\n"
          ]
        }
      ],
      "source": [
        "upper = df['Long_'] >=(Q3+1.5*IQR)\n",
        "print(\"Upper bound:\",upper)\n",
        "print(np.where(upper))\n",
        "\n",
        "lower = df['Long_'] <= (Q1-1.5*IQR)\n",
        "print(\"Lower bound:\",lower)\n",
        "print(np.where(lower))"
      ]
    },
    {
      "cell_type": "code",
      "execution_count": null,
      "id": "d67da858",
      "metadata": {
        "id": "d67da858",
        "outputId": "29ea27ab-c991-4897-8c1e-f6418462f9f9"
      },
      "outputs": [
        {
          "name": "stdout",
          "output_type": "stream",
          "text": [
            "Old Shape:  (627920, 14)\n",
            "New Shape:  (587500, 14)\n"
          ]
        }
      ],
      "source": [
        "Q1=np.percentile(df['Long_'],25,interpolation = 'midpoint')\n",
        "Q3=np.percentile(df['Long_'],75,interpolation = 'midpoint')\n",
        "IQR = Q3-Q1\n",
        "print(\"Old Shape: \",df.shape)\n",
        "\n",
        "upper = np.where(df['Long_'] >=(Q3+1.5*IQR))\n",
        "\n",
        "lower = np.where(df['Long_'] <= (Q1-1.5*IQR))\n",
        "df.drop(upper[0],inplace=True)\n",
        "df.drop(lower[0],inplace=True)\n",
        "print(\"New Shape: \",df.shape)"
      ]
    },
    {
      "cell_type": "code",
      "execution_count": null,
      "id": "26453c83",
      "metadata": {
        "id": "26453c83",
        "outputId": "9bbd2e3d-a276-4673-fc4e-927a50a5704f"
      },
      "outputs": [
        {
          "name": "stderr",
          "output_type": "stream",
          "text": [
            "/Users/nimithareddy/opt/anaconda3/lib/python3.9/site-packages/seaborn/_decorators.py:36: FutureWarning: Pass the following variable as a keyword arg: x. From version 0.12, the only valid positional argument will be `data`, and passing other arguments without an explicit keyword will result in an error or misinterpretation.\n",
            "  warnings.warn(\n"
          ]
        },
        {
          "data": {
            "text/plain": [
              "<AxesSubplot:xlabel='Long_'>"
            ]
          },
          "execution_count": 31,
          "metadata": {},
          "output_type": "execute_result"
        },
        {
          "data": {
            "image/png": "[encoded data removed]",
            "text/plain": [
              "<Figure size 432x288 with 1 Axes>"
            ]
          },
          "metadata": {
            "needs_background": "light"
          },
          "output_type": "display_data"
        }
      ],
      "source": [
        "sns.boxplot(df['Long_'])"
      ]
    },
    {
      "cell_type": "markdown",
      "id": "8359a478",
      "metadata": {
        "id": "8359a478"
      },
      "source": [
        "# Univariate Numerical Analysis"
      ]
    },
    {
      "cell_type": "markdown",
      "id": "63f1ab4b",
      "metadata": {
        "id": "63f1ab4b"
      },
      "source": [
        "1.Histplot"
      ]
    },
    {
      "cell_type": "code",
      "execution_count": null,
      "id": "f24618db",
      "metadata": {
        "id": "f24618db",
        "outputId": "1aee55d4-9a14-476f-8a3c-902769d6b29f"
      },
      "outputs": [
        {
          "data": {
            "text/plain": [
              "<AxesSubplot:xlabel='Long_', ylabel='Count'>"
            ]
          },
          "execution_count": 32,
          "metadata": {},
          "output_type": "execute_result"
        },
        {
          "data": {
            "image/png": "[encoded data removed]",
            "text/plain": [
              "<Figure size 432x288 with 1 Axes>"
            ]
          },
          "metadata": {
            "needs_background": "light"
          },
          "output_type": "display_data"
        }
      ],
      "source": [
        "sns.histplot(df['Long_'])"
      ]
    },
    {
      "cell_type": "code",
      "execution_count": null,
      "id": "cdb1714c",
      "metadata": {
        "id": "cdb1714c"
      },
      "outputs": [],
      "source": [
        "#Importing Matplot library in order to visualise the data in barplot\n",
        "\n",
        "import matplotlib.pyplot as plt\n",
        "\n",
        "cols = 5\n",
        "rows = 5\n",
        "num_cols = df.select_dtypes(exclude='object').columns\n",
        "fig = plt.figure( figsize=(cols*5, rows*5))\n",
        "for i, col in enumerate(num_cols):\n",
        "#for i in num_cols:    \n",
        "    ax=fig.add_subplot(rows,cols,i+1)\n",
        "    \n",
        "    sns.histplot(x = df[col], ax = ax)\n",
        "    \n",
        "fig.tight_layout()  \n",
        "plt.show()\n",
        "\n",
        "#Here, the numerical columns must be selected in order to visualise the histplot. For that, Datatypes like 'Object'\n",
        "#(i.e, categorical) need to be excluded from the process of importing.\n",
        "# Note: 'plt.show()' is a mandatory command in order to print the executed process."
      ]
    },
    {
      "cell_type": "markdown",
      "id": "8affcfdc",
      "metadata": {
        "id": "8affcfdc"
      },
      "source": [
        "2.Kernal Density Plot"
      ]
    },
    {
      "cell_type": "code",
      "execution_count": null,
      "id": "08708fe6",
      "metadata": {
        "id": "08708fe6"
      },
      "outputs": [],
      "source": [
        "sns.kdeplot(x='Long_',data=df,hue='Country_Region')"
      ]
    },
    {
      "cell_type": "code",
      "execution_count": null,
      "id": "4f9f55ac",
      "metadata": {
        "id": "4f9f55ac"
      },
      "outputs": [],
      "source": [
        "#displaying histplot and kde plot \n",
        "\n",
        "sns.histplot(df['Long_'],kde=True)"
      ]
    },
    {
      "cell_type": "markdown",
      "id": "fe2ee54e",
      "metadata": {
        "id": "fe2ee54e"
      },
      "source": [
        "3.Rug Plot"
      ]
    },
    {
      "cell_type": "code",
      "execution_count": null,
      "id": "cdc912fa",
      "metadata": {
        "id": "cdc912fa"
      },
      "outputs": [],
      "source": [
        "sns.rugplot(df['Long_'],height=0.07,color='blue')"
      ]
    },
    {
      "cell_type": "code",
      "execution_count": null,
      "id": "63c38b82",
      "metadata": {
        "id": "63c38b82"
      },
      "outputs": [],
      "source": [
        "#displaying histplot and kde plot \n",
        "sns.rugplot(df['Long_'],height=0.07,color='blue')\n",
        "sns.histplot(df['Long_'],kde=True)"
      ]
    },
    {
      "cell_type": "markdown",
      "id": "258ed24a",
      "metadata": {
        "id": "258ed24a"
      },
      "source": [
        "4.Boxplot"
      ]
    },
    {
      "cell_type": "code",
      "execution_count": null,
      "id": "2de160ce",
      "metadata": {
        "id": "2de160ce"
      },
      "outputs": [],
      "source": [
        "sns.boxplot(x='Long_',data=df)"
      ]
    },
    {
      "cell_type": "code",
      "execution_count": null,
      "id": "a2c99730",
      "metadata": {
        "id": "a2c99730"
      },
      "outputs": [],
      "source": [
        "sns.boxplot(data=df.loc[:,['Long_','FIPS']])"
      ]
    },
    {
      "cell_type": "code",
      "execution_count": null,
      "id": "cca5a022",
      "metadata": {
        "id": "cca5a022"
      },
      "outputs": [],
      "source": [
        "import matplotlib.pyplot as plt\n",
        "\n",
        "cols = 5\n",
        "rows = 5\n",
        "num_cols = df.select_dtypes(exclude='object').columns\n",
        "fig = plt.figure( figsize=(cols*5, rows*5))\n",
        "for i, col in enumerate(num_cols):\n",
        "#for i in num_cols:    \n",
        "    ax=fig.add_subplot(rows,cols,i+1)\n",
        "    \n",
        "    sns.histplot(x = df[col], ax = ax)\n",
        "    \n",
        "fig.tight_layout()  \n",
        "plt.show()\n",
        "\n",
        "#Here, the numerical columns must be selected in order to visualise the histplot. For that, Datatypes like 'Object'\n",
        "#(i.e, categorical) need to be excluded from the process of importing.\n",
        "# Note: 'plt.show()' is a mandatory command in order to print the executed process."
      ]
    },
    {
      "cell_type": "markdown",
      "id": "0436f372",
      "metadata": {
        "id": "0436f372"
      },
      "source": [
        "5.Violin plot"
      ]
    },
    {
      "cell_type": "code",
      "execution_count": null,
      "id": "feeb9685",
      "metadata": {
        "id": "feeb9685",
        "outputId": "1713ef5d-ae9f-4013-c103-b07d018cbe15"
      },
      "outputs": [
        {
          "data": {
            "text/plain": [
              "<AxesSubplot:xlabel='Long_'>"
            ]
          },
          "execution_count": 84,
          "metadata": {},
          "output_type": "execute_result"
        },
        {
          "data": {
            "image/png": "[encoded data removed]",
            "text/plain": [
              "<Figure size 432x288 with 1 Axes>"
            ]
          },
          "metadata": {
            "needs_background": "light"
          },
          "output_type": "display_data"
        }
      ],
      "source": [
        "sns.violinplot(x='Long_',data=df)"
      ]
    },
    {
      "cell_type": "markdown",
      "id": "81e3d7e0",
      "metadata": {
        "id": "81e3d7e0"
      },
      "source": [
        "6.strip plot"
      ]
    },
    {
      "cell_type": "code",
      "execution_count": null,
      "id": "8cf75289",
      "metadata": {
        "id": "8cf75289",
        "outputId": "66db8fcb-982b-48e5-eae2-d13beee94eb5"
      },
      "outputs": [
        {
          "name": "stderr",
          "output_type": "stream",
          "text": [
            "/Users/nimithareddy/opt/anaconda3/lib/python3.9/site-packages/seaborn/_decorators.py:36: FutureWarning: Pass the following variable as a keyword arg: x. From version 0.12, the only valid positional argument will be `data`, and passing other arguments without an explicit keyword will result in an error or misinterpretation.\n",
            "  warnings.warn(\n"
          ]
        },
        {
          "data": {
            "text/plain": [
              "<AxesSubplot:xlabel='Long_'>"
            ]
          },
          "execution_count": 85,
          "metadata": {},
          "output_type": "execute_result"
        },
        {
          "data": {
            "image/png": "[encoded data removed]",
            "text/plain": [
              "<Figure size 432x288 with 1 Axes>"
            ]
          },
          "metadata": {
            "needs_background": "light"
          },
          "output_type": "display_data"
        }
      ],
      "source": [
        "sns.stripplot(df['Long_'])"
      ]
    },
    {
      "cell_type": "code",
      "execution_count": null,
      "id": "db1336bc",
      "metadata": {
        "id": "db1336bc",
        "outputId": "d6cea4ca-9738-4085-a9f7-0cac3609c833"
      },
      "outputs": [
        {
          "name": "stderr",
          "output_type": "stream",
          "text": [
            "/Users/nimithareddy/opt/anaconda3/lib/python3.9/site-packages/seaborn/_decorators.py:36: FutureWarning: Pass the following variable as a keyword arg: x. From version 0.12, the only valid positional argument will be `data`, and passing other arguments without an explicit keyword will result in an error or misinterpretation.\n",
            "  warnings.warn(\n"
          ]
        },
        {
          "data": {
            "text/plain": [
              "<AxesSubplot:xlabel='FIPS'>"
            ]
          },
          "execution_count": 88,
          "metadata": {},
          "output_type": "execute_result"
        },
        {
          "data": {
            "image/png": "[encoded data removed]",
            "text/plain": [
              "<Figure size 432x288 with 1 Axes>"
            ]
          },
          "metadata": {
            "needs_background": "light"
          },
          "output_type": "display_data"
        }
      ],
      "source": [
        "sns.stripplot(df['FIPS'])"
      ]
    },
    {
      "cell_type": "markdown",
      "id": "0c540ee5",
      "metadata": {
        "id": "0c540ee5"
      },
      "source": [
        "# Univariate Categorical"
      ]
    },
    {
      "cell_type": "code",
      "execution_count": null,
      "id": "9af071bb",
      "metadata": {
        "id": "9af071bb"
      },
      "outputs": [],
      "source": [
        "import pandas as pd\n",
        "import numpy as np\n",
        "import seaborn as sns"
      ]
    },
    {
      "cell_type": "code",
      "execution_count": null,
      "id": "a82b05b3",
      "metadata": {
        "id": "a82b05b3"
      },
      "outputs": [],
      "source": [
        "df = pd.read_csv(\"/Users/nimithareddy/Downloads/archive/usa_county_wise.csv\")"
      ]
    },
    {
      "cell_type": "code",
      "execution_count": null,
      "id": "c85c823d",
      "metadata": {
        "id": "c85c823d",
        "outputId": "65615f13-fb33-4a68-ded9-0184d7bc6ce2"
      },
      "outputs": [
        {
          "data": {
            "text/html": [
              "<div>\n",
              "<style scoped>\n",
              "    .dataframe tbody tr th:only-of-type {\n",
              "        vertical-align: middle;\n",
              "    }\n",
              "\n",
              "    .dataframe tbody tr th {\n",
              "        vertical-align: top;\n",
              "    }\n",
              "\n",
              "    .dataframe thead th {\n",
              "        text-align: right;\n",
              "    }\n",
              "</style>\n",
              "<table border=\"1\" class=\"dataframe\">\n",
              "  <thead>\n",
              "    <tr style=\"text-align: right;\">\n",
              "      <th></th>\n",
              "      <th>iso2</th>\n",
              "      <th>iso3</th>\n",
              "      <th>Admin2</th>\n",
              "      <th>Province_State</th>\n",
              "      <th>Country_Region</th>\n",
              "      <th>Combined_Key</th>\n",
              "      <th>Date</th>\n",
              "    </tr>\n",
              "  </thead>\n",
              "  <tbody>\n",
              "    <tr>\n",
              "      <th>count</th>\n",
              "      <td>627920</td>\n",
              "      <td>627920</td>\n",
              "      <td>626792</td>\n",
              "      <td>627920</td>\n",
              "      <td>627920</td>\n",
              "      <td>627920</td>\n",
              "      <td>627920</td>\n",
              "    </tr>\n",
              "    <tr>\n",
              "      <th>unique</th>\n",
              "      <td>6</td>\n",
              "      <td>6</td>\n",
              "      <td>1978</td>\n",
              "      <td>58</td>\n",
              "      <td>1</td>\n",
              "      <td>3340</td>\n",
              "      <td>188</td>\n",
              "    </tr>\n",
              "    <tr>\n",
              "      <th>top</th>\n",
              "      <td>US</td>\n",
              "      <td>USA</td>\n",
              "      <td>Unassigned</td>\n",
              "      <td>Texas</td>\n",
              "      <td>US</td>\n",
              "      <td>American Samoa, US</td>\n",
              "      <td>1/22/20</td>\n",
              "    </tr>\n",
              "    <tr>\n",
              "      <th>freq</th>\n",
              "      <td>612128</td>\n",
              "      <td>612128</td>\n",
              "      <td>9776</td>\n",
              "      <td>48128</td>\n",
              "      <td>627920</td>\n",
              "      <td>188</td>\n",
              "      <td>3340</td>\n",
              "    </tr>\n",
              "  </tbody>\n",
              "</table>\n",
              "</div>"
            ],
            "text/plain": [
              "          iso2    iso3      Admin2 Province_State Country_Region  \\\n",
              "count   627920  627920      626792         627920         627920   \n",
              "unique       6       6        1978             58              1   \n",
              "top         US     USA  Unassigned          Texas             US   \n",
              "freq    612128  612128        9776          48128         627920   \n",
              "\n",
              "              Combined_Key     Date  \n",
              "count               627920   627920  \n",
              "unique                3340      188  \n",
              "top     American Samoa, US  1/22/20  \n",
              "freq                   188     3340  "
            ]
          },
          "execution_count": 91,
          "metadata": {},
          "output_type": "execute_result"
        }
      ],
      "source": [
        "df.describe(include='object')"
      ]
    },
    {
      "cell_type": "markdown",
      "id": "2285f1db",
      "metadata": {
        "id": "2285f1db"
      },
      "source": [
        "1.Count Plot"
      ]
    },
    {
      "cell_type": "code",
      "execution_count": null,
      "id": "c852b5f4",
      "metadata": {
        "id": "c852b5f4",
        "outputId": "e138d1b1-759b-4614-d421-bc63574b5750"
      },
      "outputs": [
        {
          "name": "stderr",
          "output_type": "stream",
          "text": [
            "/var/folders/md/5fd6jwnn473_ltmsmh5nn9w80000gn/T/ipykernel_7500/1495040097.py:12: UserWarning: Tight layout not applied. tight_layout cannot make axes width small enough to accommodate all axes decorations\n",
            "  fig.tight_layout()\n"
          ]
        },
        {
          "data": {
            "image/png": "[encoded data removed]",
            "text/plain": [
              "<Figure size 720x432 with 7 Axes>"
            ]
          },
          "metadata": {
            "needs_background": "light"
          },
          "output_type": "display_data"
        }
      ],
      "source": [
        "import matplotlib.pyplot as plt\n",
        "cols = 7\n",
        "rows = 1\n",
        "fig = plt.figure(figsize= (10,6))\n",
        "all_categs = df.select_dtypes(include='object')\n",
        "cat_cols = all_categs.columns[all_categs.nunique() < 5000]\n",
        "for i, col in enumerate(cat_cols):\n",
        "    ax=fig.add_subplot(rows, cols, i+1)\n",
        "    sns.countplot(x=df[col], ax=ax)\n",
        "    plt.xticks(rotation=0, ha='right')\n",
        "    \n",
        "fig.tight_layout()  \n",
        "plt.show()"
      ]
    },
    {
      "cell_type": "markdown",
      "id": "469d0ff9",
      "metadata": {
        "id": "469d0ff9"
      },
      "source": [
        "2.Pie Chart"
      ]
    },
    {
      "cell_type": "code",
      "execution_count": null,
      "id": "8d216f6b",
      "metadata": {
        "id": "8d216f6b",
        "outputId": "15483156-9a14-4388-ebfb-648d1f402d96"
      },
      "outputs": [
        {
          "data": {
            "text/plain": [
              "([<matplotlib.patches.Wedge at 0x7f7bbde3cac0>],\n",
              " [Text(-1.1, 1.3471114790620887e-16, 'US')],\n",
              " [Text(-0.6, 7.347880794884119e-17, '100%')])"
            ]
          },
          "execution_count": 100,
          "metadata": {},
          "output_type": "execute_result"
        },
        {
          "data": {
            "image/png": "[encoded data removed]",
            "text/plain": [
              "<Figure size 432x288 with 1 Axes>"
            ]
          },
          "metadata": {},
          "output_type": "display_data"
        }
      ],
      "source": [
        "data=df['Country_Region'].value_counts()\n",
        "plt.pie(data, labels=data.index, autopct=\"%.0f%%\")"
      ]
    },
    {
      "cell_type": "markdown",
      "id": "e23fe52c",
      "metadata": {
        "id": "e23fe52c"
      },
      "source": [
        "# Univariate categorical unordered"
      ]
    },
    {
      "cell_type": "code",
      "execution_count": null,
      "id": "e4266732",
      "metadata": {
        "id": "e4266732",
        "outputId": "b1182779-833c-473d-b826-e3d9f39d7cc9"
      },
      "outputs": [
        {
          "data": {
            "text/plain": [
              "UID                 int64\n",
              "iso2               object\n",
              "iso3               object\n",
              "code3               int64\n",
              "FIPS              float64\n",
              "Admin2             object\n",
              "Province_State     object\n",
              "Country_Region     object\n",
              "Lat               float64\n",
              "Long_             float64\n",
              "Combined_Key       object\n",
              "Date               object\n",
              "Confirmed           int64\n",
              "Deaths              int64\n",
              "dtype: object"
            ]
          },
          "execution_count": 101,
          "metadata": {},
          "output_type": "execute_result"
        }
      ],
      "source": [
        "df.dtypes"
      ]
    },
    {
      "cell_type": "code",
      "execution_count": null,
      "id": "b94823a7",
      "metadata": {
        "id": "b94823a7",
        "outputId": "730300da-2d92-48ad-e077-9916060d2ecb"
      },
      "outputs": [
        {
          "data": {
            "text/plain": [
              "US    612128\n",
              "PR     15040\n",
              "AS       188\n",
              "GU       188\n",
              "MP       188\n",
              "VI       188\n",
              "Name: iso2, dtype: int64"
            ]
          },
          "execution_count": 103,
          "metadata": {},
          "output_type": "execute_result"
        }
      ],
      "source": [
        "df['iso2'].value_counts()"
      ]
    },
    {
      "cell_type": "code",
      "execution_count": null,
      "id": "9dcfb755",
      "metadata": {
        "id": "9dcfb755",
        "outputId": "f5e303b6-32d5-4efe-ef08-ace27f1c38db"
      },
      "outputs": [
        {
          "data": {
            "image/png": "[encoded data removed]",
            "text/plain": [
              "<Figure size 432x288 with 1 Axes>"
            ]
          },
          "metadata": {
            "needs_background": "light"
          },
          "output_type": "display_data"
        }
      ],
      "source": [
        "# plotting barplot\n",
        "df['iso2'].value_counts().plot.barh()\n",
        "plt.show()"
      ]
    },
    {
      "cell_type": "markdown",
      "id": "569fa9b0",
      "metadata": {
        "id": "569fa9b0"
      },
      "source": [
        "normalization on a barchart"
      ]
    },
    {
      "cell_type": "code",
      "execution_count": null,
      "id": "ba0acbd3",
      "metadata": {
        "id": "ba0acbd3",
        "outputId": "ad282478-a341-4f3e-ecfa-b7c6b0bec970"
      },
      "outputs": [
        {
          "data": {
            "text/plain": [
              "US    0.974850\n",
              "PR    0.023952\n",
              "AS    0.000299\n",
              "GU    0.000299\n",
              "MP    0.000299\n",
              "VI    0.000299\n",
              "Name: iso2, dtype: float64"
            ]
          },
          "execution_count": 111,
          "metadata": {},
          "output_type": "execute_result"
        }
      ],
      "source": [
        "df['iso2'].value_counts(normalize=True)"
      ]
    },
    {
      "cell_type": "code",
      "execution_count": null,
      "id": "252cbf74",
      "metadata": {
        "id": "252cbf74",
        "outputId": "7c3afd79-febb-4a84-c71c-a333ad59ac51"
      },
      "outputs": [
        {
          "data": {
            "text/plain": [
              "<AxesSubplot:>"
            ]
          },
          "execution_count": 112,
          "metadata": {},
          "output_type": "execute_result"
        },
        {
          "data": {
            "image/png": "[encoded data removed]",
            "text/plain": [
              "<Figure size 432x288 with 1 Axes>"
            ]
          },
          "metadata": {
            "needs_background": "light"
          },
          "output_type": "display_data"
        }
      ],
      "source": [
        "df['iso2'].value_counts(normalize=True).plot.barh()"
      ]
    },
    {
      "cell_type": "markdown",
      "id": "82ed6790",
      "metadata": {
        "id": "82ed6790"
      },
      "source": [
        "Normalization on piechart"
      ]
    },
    {
      "cell_type": "code",
      "execution_count": null,
      "id": "ad2e4ac5",
      "metadata": {
        "id": "ad2e4ac5",
        "outputId": "f52aa0ed-8d74-45d6-c238-438241d11cd4"
      },
      "outputs": [
        {
          "data": {
            "text/plain": [
              "USA    612128\n",
              "PRI     15040\n",
              "ASM       188\n",
              "GUM       188\n",
              "MNP       188\n",
              "VIR       188\n",
              "Name: iso3, dtype: int64"
            ]
          },
          "execution_count": 113,
          "metadata": {},
          "output_type": "execute_result"
        }
      ],
      "source": [
        "df['iso3'].value_counts()"
      ]
    },
    {
      "cell_type": "code",
      "execution_count": null,
      "id": "f3cf2f13",
      "metadata": {
        "id": "f3cf2f13",
        "outputId": "433d32e2-6753-4866-9b31-630e16f42ef8"
      },
      "outputs": [
        {
          "data": {
            "text/plain": [
              "<AxesSubplot:ylabel='iso3'>"
            ]
          },
          "execution_count": 114,
          "metadata": {},
          "output_type": "execute_result"
        },
        {
          "data": {
            "image/png": "[encoded data removed]",
            "text/plain": [
              "<Figure size 432x288 with 1 Axes>"
            ]
          },
          "metadata": {},
          "output_type": "display_data"
        }
      ],
      "source": [
        "df['iso3'].value_counts().plot.pie()"
      ]
    },
    {
      "cell_type": "code",
      "execution_count": null,
      "id": "67661487",
      "metadata": {
        "id": "67661487",
        "outputId": "8812d6af-d3d3-4f62-c5a9-4aae21b1ab45"
      },
      "outputs": [
        {
          "data": {
            "text/plain": [
              "USA    0.974850\n",
              "PRI    0.023952\n",
              "ASM    0.000299\n",
              "GUM    0.000299\n",
              "MNP    0.000299\n",
              "VIR    0.000299\n",
              "Name: iso3, dtype: float64"
            ]
          },
          "execution_count": 115,
          "metadata": {},
          "output_type": "execute_result"
        }
      ],
      "source": [
        "df['iso3'].value_counts(normalize=True)"
      ]
    },
    {
      "cell_type": "code",
      "execution_count": null,
      "id": "b9a28c9b",
      "metadata": {
        "id": "b9a28c9b",
        "outputId": "b6512b22-8683-48c2-a24a-4c5049d1895e"
      },
      "outputs": [
        {
          "data": {
            "text/plain": [
              "<AxesSubplot:ylabel='iso3'>"
            ]
          },
          "execution_count": 117,
          "metadata": {},
          "output_type": "execute_result"
        },
        {
          "data": {
            "image/png": "[encoded data removed]",
            "text/plain": [
              "<Figure size 432x288 with 1 Axes>"
            ]
          },
          "metadata": {},
          "output_type": "display_data"
        }
      ],
      "source": [
        "df['iso3'].value_counts(normalize=True).plot.pie()"
      ]
    },
    {
      "cell_type": "code",
      "execution_count": null,
      "id": "a7598f3b",
      "metadata": {
        "id": "a7598f3b",
        "outputId": "81a7b268-3da3-47db-af1f-a27835e7999d"
      },
      "outputs": [
        {
          "data": {
            "image/png": "[encoded data removed]",
            "text/plain": [
              "<Figure size 432x288 with 1 Axes>"
            ]
          },
          "metadata": {
            "needs_background": "light"
          },
          "output_type": "display_data"
        }
      ],
      "source": [
        "df['iso2'].value_counts(normalize=True).plot.bar()\n",
        "plt.show()"
      ]
    },
    {
      "cell_type": "code",
      "execution_count": null,
      "id": "16029d9b",
      "metadata": {
        "id": "16029d9b",
        "outputId": "5b331953-3d3f-4bfb-ff83-ae39e4399647"
      },
      "outputs": [
        {
          "data": {
            "text/plain": [
              "<AxesSubplot:>"
            ]
          },
          "execution_count": 121,
          "metadata": {},
          "output_type": "execute_result"
        },
        {
          "data": {
            "image/png": "[encoded data removed]",
            "text/plain": [
              "<Figure size 432x288 with 1 Axes>"
            ]
          },
          "metadata": {
            "needs_background": "light"
          },
          "output_type": "display_data"
        }
      ],
      "source": [
        "#removing PR coulum\n",
        "df[~(df['iso2']==\"PR\")].iso2.value_counts(normalize=True).plot.bar()"
      ]
    },
    {
      "cell_type": "code",
      "execution_count": null,
      "id": "406eea40",
      "metadata": {
        "id": "406eea40"
      },
      "outputs": [],
      "source": []
    }
  ],
  "metadata": {
    "kernelspec": {
      "display_name": "Python 3 (ipykernel)",
      "language": "python",
      "name": "python3"
    },
    "language_info": {
      "codemirror_mode": {
        "name": "ipython",
        "version": 3
      },
      "file_extension": ".py",
      "mimetype": "text/x-python",
      "name": "python",
      "nbconvert_exporter": "python",
      "pygments_lexer": "ipython3",
      "version": "3.9.7"
    },
    "colab": {
      "provenance": [],
      "include_colab_link": true
    }
  },
  "nbformat": 4,
  "nbformat_minor": 5
}