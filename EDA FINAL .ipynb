{
 "cells": [
  {
   "cell_type": "markdown",
   "id": "1dca2467",
   "metadata": {},
   "source": [
    "# EDA PROJECT"
   ]
  },
  {
   "cell_type": "markdown",
   "id": "140cf7c7",
   "metadata": {},
   "source": [
    "# My Dataset\n",
    "COVID-19 Dataset Number of Confirmed, Death and Recovered cases every day across the globe."
   ]
  },
  {
   "cell_type": "markdown",
   "id": "075ef298",
   "metadata": {},
   "source": [
    "# Importing required Libraries"
   ]
  },
  {
   "cell_type": "code",
   "execution_count": 1,
   "id": "ea978f6a",
   "metadata": {},
   "outputs": [],
   "source": [
    "import pandas as pd\n",
    "import numpy as np\n",
    "import seaborn as sns\n",
    "import matplotlib.pyplot as plt\n",
    "import warnings\n",
    "warnings.filterwarnings('ignore')"
   ]
  },
  {
   "cell_type": "markdown",
   "id": "46a36a64",
   "metadata": {},
   "source": [
    "# Knowing the dataset"
   ]
  },
  {
   "cell_type": "code",
   "execution_count": 2,
   "id": "5c18e19a",
   "metadata": {},
   "outputs": [
    {
     "data": {
      "text/html": [
       "<div>\n",
       "<style scoped>\n",
       "    .dataframe tbody tr th:only-of-type {\n",
       "        vertical-align: middle;\n",
       "    }\n",
       "\n",
       "    .dataframe tbody tr th {\n",
       "        vertical-align: top;\n",
       "    }\n",
       "\n",
       "    .dataframe thead th {\n",
       "        text-align: right;\n",
       "    }\n",
       "</style>\n",
       "<table border=\"1\" class=\"dataframe\">\n",
       "  <thead>\n",
       "    <tr style=\"text-align: right;\">\n",
       "      <th></th>\n",
       "      <th>UID</th>\n",
       "      <th>iso2</th>\n",
       "      <th>iso3</th>\n",
       "      <th>code3</th>\n",
       "      <th>FIPS</th>\n",
       "      <th>Admin2</th>\n",
       "      <th>Province_State</th>\n",
       "      <th>Country_Region</th>\n",
       "      <th>Lat</th>\n",
       "      <th>Long_</th>\n",
       "      <th>Combined_Key</th>\n",
       "      <th>Date</th>\n",
       "      <th>Confirmed</th>\n",
       "      <th>Deaths</th>\n",
       "    </tr>\n",
       "  </thead>\n",
       "  <tbody>\n",
       "    <tr>\n",
       "      <th>0</th>\n",
       "      <td>16</td>\n",
       "      <td>AS</td>\n",
       "      <td>ASM</td>\n",
       "      <td>16</td>\n",
       "      <td>60.0</td>\n",
       "      <td>NaN</td>\n",
       "      <td>American Samoa</td>\n",
       "      <td>US</td>\n",
       "      <td>-14.271000</td>\n",
       "      <td>-170.132000</td>\n",
       "      <td>American Samoa, US</td>\n",
       "      <td>1/22/20</td>\n",
       "      <td>0</td>\n",
       "      <td>0</td>\n",
       "    </tr>\n",
       "    <tr>\n",
       "      <th>1</th>\n",
       "      <td>316</td>\n",
       "      <td>GU</td>\n",
       "      <td>GUM</td>\n",
       "      <td>316</td>\n",
       "      <td>66.0</td>\n",
       "      <td>NaN</td>\n",
       "      <td>Guam</td>\n",
       "      <td>US</td>\n",
       "      <td>13.444300</td>\n",
       "      <td>144.793700</td>\n",
       "      <td>Guam, US</td>\n",
       "      <td>1/22/20</td>\n",
       "      <td>0</td>\n",
       "      <td>0</td>\n",
       "    </tr>\n",
       "    <tr>\n",
       "      <th>2</th>\n",
       "      <td>580</td>\n",
       "      <td>MP</td>\n",
       "      <td>MNP</td>\n",
       "      <td>580</td>\n",
       "      <td>69.0</td>\n",
       "      <td>NaN</td>\n",
       "      <td>Northern Mariana Islands</td>\n",
       "      <td>US</td>\n",
       "      <td>15.097900</td>\n",
       "      <td>145.673900</td>\n",
       "      <td>Northern Mariana Islands, US</td>\n",
       "      <td>1/22/20</td>\n",
       "      <td>0</td>\n",
       "      <td>0</td>\n",
       "    </tr>\n",
       "    <tr>\n",
       "      <th>3</th>\n",
       "      <td>63072001</td>\n",
       "      <td>PR</td>\n",
       "      <td>PRI</td>\n",
       "      <td>630</td>\n",
       "      <td>72001.0</td>\n",
       "      <td>Adjuntas</td>\n",
       "      <td>Puerto Rico</td>\n",
       "      <td>US</td>\n",
       "      <td>18.180117</td>\n",
       "      <td>-66.754367</td>\n",
       "      <td>Adjuntas, Puerto Rico, US</td>\n",
       "      <td>1/22/20</td>\n",
       "      <td>0</td>\n",
       "      <td>0</td>\n",
       "    </tr>\n",
       "    <tr>\n",
       "      <th>4</th>\n",
       "      <td>63072003</td>\n",
       "      <td>PR</td>\n",
       "      <td>PRI</td>\n",
       "      <td>630</td>\n",
       "      <td>72003.0</td>\n",
       "      <td>Aguada</td>\n",
       "      <td>Puerto Rico</td>\n",
       "      <td>US</td>\n",
       "      <td>18.360255</td>\n",
       "      <td>-67.175131</td>\n",
       "      <td>Aguada, Puerto Rico, US</td>\n",
       "      <td>1/22/20</td>\n",
       "      <td>0</td>\n",
       "      <td>0</td>\n",
       "    </tr>\n",
       "    <tr>\n",
       "      <th>...</th>\n",
       "      <td>...</td>\n",
       "      <td>...</td>\n",
       "      <td>...</td>\n",
       "      <td>...</td>\n",
       "      <td>...</td>\n",
       "      <td>...</td>\n",
       "      <td>...</td>\n",
       "      <td>...</td>\n",
       "      <td>...</td>\n",
       "      <td>...</td>\n",
       "      <td>...</td>\n",
       "      <td>...</td>\n",
       "      <td>...</td>\n",
       "      <td>...</td>\n",
       "    </tr>\n",
       "    <tr>\n",
       "      <th>627915</th>\n",
       "      <td>84070016</td>\n",
       "      <td>US</td>\n",
       "      <td>USA</td>\n",
       "      <td>840</td>\n",
       "      <td>NaN</td>\n",
       "      <td>Central Utah</td>\n",
       "      <td>Utah</td>\n",
       "      <td>US</td>\n",
       "      <td>39.372319</td>\n",
       "      <td>-111.575868</td>\n",
       "      <td>Central Utah, Utah, US</td>\n",
       "      <td>7/27/20</td>\n",
       "      <td>347</td>\n",
       "      <td>1</td>\n",
       "    </tr>\n",
       "    <tr>\n",
       "      <th>627916</th>\n",
       "      <td>84070017</td>\n",
       "      <td>US</td>\n",
       "      <td>USA</td>\n",
       "      <td>840</td>\n",
       "      <td>NaN</td>\n",
       "      <td>Southeast Utah</td>\n",
       "      <td>Utah</td>\n",
       "      <td>US</td>\n",
       "      <td>38.996171</td>\n",
       "      <td>-110.701396</td>\n",
       "      <td>Southeast Utah, Utah, US</td>\n",
       "      <td>7/27/20</td>\n",
       "      <td>70</td>\n",
       "      <td>0</td>\n",
       "    </tr>\n",
       "    <tr>\n",
       "      <th>627917</th>\n",
       "      <td>84070018</td>\n",
       "      <td>US</td>\n",
       "      <td>USA</td>\n",
       "      <td>840</td>\n",
       "      <td>NaN</td>\n",
       "      <td>Southwest Utah</td>\n",
       "      <td>Utah</td>\n",
       "      <td>US</td>\n",
       "      <td>37.854472</td>\n",
       "      <td>-111.441876</td>\n",
       "      <td>Southwest Utah, Utah, US</td>\n",
       "      <td>7/27/20</td>\n",
       "      <td>2781</td>\n",
       "      <td>23</td>\n",
       "    </tr>\n",
       "    <tr>\n",
       "      <th>627918</th>\n",
       "      <td>84070019</td>\n",
       "      <td>US</td>\n",
       "      <td>USA</td>\n",
       "      <td>840</td>\n",
       "      <td>NaN</td>\n",
       "      <td>TriCounty</td>\n",
       "      <td>Utah</td>\n",
       "      <td>US</td>\n",
       "      <td>40.124915</td>\n",
       "      <td>-109.517442</td>\n",
       "      <td>TriCounty, Utah, US</td>\n",
       "      <td>7/27/20</td>\n",
       "      <td>142</td>\n",
       "      <td>0</td>\n",
       "    </tr>\n",
       "    <tr>\n",
       "      <th>627919</th>\n",
       "      <td>84070020</td>\n",
       "      <td>US</td>\n",
       "      <td>USA</td>\n",
       "      <td>840</td>\n",
       "      <td>NaN</td>\n",
       "      <td>Weber-Morgan</td>\n",
       "      <td>Utah</td>\n",
       "      <td>US</td>\n",
       "      <td>41.271160</td>\n",
       "      <td>-111.914512</td>\n",
       "      <td>Weber-Morgan, Utah, US</td>\n",
       "      <td>7/27/20</td>\n",
       "      <td>2375</td>\n",
       "      <td>24</td>\n",
       "    </tr>\n",
       "  </tbody>\n",
       "</table>\n",
       "<p>627920 rows × 14 columns</p>\n",
       "</div>"
      ],
      "text/plain": [
       "             UID iso2 iso3  code3     FIPS          Admin2  \\\n",
       "0             16   AS  ASM     16     60.0             NaN   \n",
       "1            316   GU  GUM    316     66.0             NaN   \n",
       "2            580   MP  MNP    580     69.0             NaN   \n",
       "3       63072001   PR  PRI    630  72001.0        Adjuntas   \n",
       "4       63072003   PR  PRI    630  72003.0          Aguada   \n",
       "...          ...  ...  ...    ...      ...             ...   \n",
       "627915  84070016   US  USA    840      NaN    Central Utah   \n",
       "627916  84070017   US  USA    840      NaN  Southeast Utah   \n",
       "627917  84070018   US  USA    840      NaN  Southwest Utah   \n",
       "627918  84070019   US  USA    840      NaN       TriCounty   \n",
       "627919  84070020   US  USA    840      NaN    Weber-Morgan   \n",
       "\n",
       "                  Province_State Country_Region        Lat       Long_  \\\n",
       "0                 American Samoa             US -14.271000 -170.132000   \n",
       "1                           Guam             US  13.444300  144.793700   \n",
       "2       Northern Mariana Islands             US  15.097900  145.673900   \n",
       "3                    Puerto Rico             US  18.180117  -66.754367   \n",
       "4                    Puerto Rico             US  18.360255  -67.175131   \n",
       "...                          ...            ...        ...         ...   \n",
       "627915                      Utah             US  39.372319 -111.575868   \n",
       "627916                      Utah             US  38.996171 -110.701396   \n",
       "627917                      Utah             US  37.854472 -111.441876   \n",
       "627918                      Utah             US  40.124915 -109.517442   \n",
       "627919                      Utah             US  41.271160 -111.914512   \n",
       "\n",
       "                        Combined_Key     Date  Confirmed  Deaths  \n",
       "0                 American Samoa, US  1/22/20          0       0  \n",
       "1                           Guam, US  1/22/20          0       0  \n",
       "2       Northern Mariana Islands, US  1/22/20          0       0  \n",
       "3          Adjuntas, Puerto Rico, US  1/22/20          0       0  \n",
       "4            Aguada, Puerto Rico, US  1/22/20          0       0  \n",
       "...                              ...      ...        ...     ...  \n",
       "627915        Central Utah, Utah, US  7/27/20        347       1  \n",
       "627916      Southeast Utah, Utah, US  7/27/20         70       0  \n",
       "627917      Southwest Utah, Utah, US  7/27/20       2781      23  \n",
       "627918           TriCounty, Utah, US  7/27/20        142       0  \n",
       "627919        Weber-Morgan, Utah, US  7/27/20       2375      24  \n",
       "\n",
       "[627920 rows x 14 columns]"
      ]
     },
     "execution_count": 2,
     "metadata": {},
     "output_type": "execute_result"
    }
   ],
   "source": [
    "df = pd.read_csv(\"/Users/nimithareddy/Downloads/archive/usa_county_wise.csv\")\n",
    "df"
   ]
  },
  {
   "cell_type": "markdown",
   "id": "99bf6ae4",
   "metadata": {},
   "source": [
    "# Checking the top 10 rows of the dataset\n"
   ]
  },
  {
   "cell_type": "code",
   "execution_count": 21,
   "id": "9f103b4c",
   "metadata": {},
   "outputs": [
    {
     "data": {
      "text/html": [
       "<div>\n",
       "<style scoped>\n",
       "    .dataframe tbody tr th:only-of-type {\n",
       "        vertical-align: middle;\n",
       "    }\n",
       "\n",
       "    .dataframe tbody tr th {\n",
       "        vertical-align: top;\n",
       "    }\n",
       "\n",
       "    .dataframe thead th {\n",
       "        text-align: right;\n",
       "    }\n",
       "</style>\n",
       "<table border=\"1\" class=\"dataframe\">\n",
       "  <thead>\n",
       "    <tr style=\"text-align: right;\">\n",
       "      <th></th>\n",
       "      <th>UID</th>\n",
       "      <th>iso2</th>\n",
       "      <th>iso3</th>\n",
       "      <th>code3</th>\n",
       "      <th>FIPS</th>\n",
       "      <th>Admin2</th>\n",
       "      <th>Province_State</th>\n",
       "      <th>Country_Region</th>\n",
       "      <th>Lat</th>\n",
       "      <th>Long_</th>\n",
       "      <th>Combined_Key</th>\n",
       "      <th>Date</th>\n",
       "      <th>Confirmed</th>\n",
       "      <th>Deaths</th>\n",
       "    </tr>\n",
       "  </thead>\n",
       "  <tbody>\n",
       "    <tr>\n",
       "      <th>0</th>\n",
       "      <td>16</td>\n",
       "      <td>AS</td>\n",
       "      <td>ASM</td>\n",
       "      <td>16</td>\n",
       "      <td>60.0</td>\n",
       "      <td>NaN</td>\n",
       "      <td>American Samoa</td>\n",
       "      <td>US</td>\n",
       "      <td>-14.271000</td>\n",
       "      <td>-170.132000</td>\n",
       "      <td>American Samoa, US</td>\n",
       "      <td>1/22/20</td>\n",
       "      <td>0</td>\n",
       "      <td>0</td>\n",
       "    </tr>\n",
       "    <tr>\n",
       "      <th>1</th>\n",
       "      <td>316</td>\n",
       "      <td>GU</td>\n",
       "      <td>GUM</td>\n",
       "      <td>316</td>\n",
       "      <td>66.0</td>\n",
       "      <td>NaN</td>\n",
       "      <td>Guam</td>\n",
       "      <td>US</td>\n",
       "      <td>13.444300</td>\n",
       "      <td>144.793700</td>\n",
       "      <td>Guam, US</td>\n",
       "      <td>1/22/20</td>\n",
       "      <td>0</td>\n",
       "      <td>0</td>\n",
       "    </tr>\n",
       "    <tr>\n",
       "      <th>2</th>\n",
       "      <td>580</td>\n",
       "      <td>MP</td>\n",
       "      <td>MNP</td>\n",
       "      <td>580</td>\n",
       "      <td>69.0</td>\n",
       "      <td>NaN</td>\n",
       "      <td>Northern Mariana Islands</td>\n",
       "      <td>US</td>\n",
       "      <td>15.097900</td>\n",
       "      <td>145.673900</td>\n",
       "      <td>Northern Mariana Islands, US</td>\n",
       "      <td>1/22/20</td>\n",
       "      <td>0</td>\n",
       "      <td>0</td>\n",
       "    </tr>\n",
       "    <tr>\n",
       "      <th>3</th>\n",
       "      <td>63072001</td>\n",
       "      <td>PR</td>\n",
       "      <td>PRI</td>\n",
       "      <td>630</td>\n",
       "      <td>72001.0</td>\n",
       "      <td>Adjuntas</td>\n",
       "      <td>Puerto Rico</td>\n",
       "      <td>US</td>\n",
       "      <td>18.180117</td>\n",
       "      <td>-66.754367</td>\n",
       "      <td>Adjuntas, Puerto Rico, US</td>\n",
       "      <td>1/22/20</td>\n",
       "      <td>0</td>\n",
       "      <td>0</td>\n",
       "    </tr>\n",
       "    <tr>\n",
       "      <th>4</th>\n",
       "      <td>63072003</td>\n",
       "      <td>PR</td>\n",
       "      <td>PRI</td>\n",
       "      <td>630</td>\n",
       "      <td>72003.0</td>\n",
       "      <td>Aguada</td>\n",
       "      <td>Puerto Rico</td>\n",
       "      <td>US</td>\n",
       "      <td>18.360255</td>\n",
       "      <td>-67.175131</td>\n",
       "      <td>Aguada, Puerto Rico, US</td>\n",
       "      <td>1/22/20</td>\n",
       "      <td>0</td>\n",
       "      <td>0</td>\n",
       "    </tr>\n",
       "    <tr>\n",
       "      <th>5</th>\n",
       "      <td>63072005</td>\n",
       "      <td>PR</td>\n",
       "      <td>PRI</td>\n",
       "      <td>630</td>\n",
       "      <td>72005.0</td>\n",
       "      <td>Aguadilla</td>\n",
       "      <td>Puerto Rico</td>\n",
       "      <td>US</td>\n",
       "      <td>18.459681</td>\n",
       "      <td>-67.120815</td>\n",
       "      <td>Aguadilla, Puerto Rico, US</td>\n",
       "      <td>1/22/20</td>\n",
       "      <td>0</td>\n",
       "      <td>0</td>\n",
       "    </tr>\n",
       "    <tr>\n",
       "      <th>6</th>\n",
       "      <td>63072007</td>\n",
       "      <td>PR</td>\n",
       "      <td>PRI</td>\n",
       "      <td>630</td>\n",
       "      <td>72007.0</td>\n",
       "      <td>Aguas Buenas</td>\n",
       "      <td>Puerto Rico</td>\n",
       "      <td>US</td>\n",
       "      <td>18.251619</td>\n",
       "      <td>-66.126806</td>\n",
       "      <td>Aguas Buenas, Puerto Rico, US</td>\n",
       "      <td>1/22/20</td>\n",
       "      <td>0</td>\n",
       "      <td>0</td>\n",
       "    </tr>\n",
       "    <tr>\n",
       "      <th>7</th>\n",
       "      <td>63072009</td>\n",
       "      <td>PR</td>\n",
       "      <td>PRI</td>\n",
       "      <td>630</td>\n",
       "      <td>72009.0</td>\n",
       "      <td>Aibonito</td>\n",
       "      <td>Puerto Rico</td>\n",
       "      <td>US</td>\n",
       "      <td>18.131361</td>\n",
       "      <td>-66.264131</td>\n",
       "      <td>Aibonito, Puerto Rico, US</td>\n",
       "      <td>1/22/20</td>\n",
       "      <td>0</td>\n",
       "      <td>0</td>\n",
       "    </tr>\n",
       "    <tr>\n",
       "      <th>8</th>\n",
       "      <td>63072011</td>\n",
       "      <td>PR</td>\n",
       "      <td>PRI</td>\n",
       "      <td>630</td>\n",
       "      <td>72011.0</td>\n",
       "      <td>Anasco</td>\n",
       "      <td>Puerto Rico</td>\n",
       "      <td>US</td>\n",
       "      <td>18.287985</td>\n",
       "      <td>-67.120611</td>\n",
       "      <td>Anasco, Puerto Rico, US</td>\n",
       "      <td>1/22/20</td>\n",
       "      <td>0</td>\n",
       "      <td>0</td>\n",
       "    </tr>\n",
       "    <tr>\n",
       "      <th>9</th>\n",
       "      <td>63072013</td>\n",
       "      <td>PR</td>\n",
       "      <td>PRI</td>\n",
       "      <td>630</td>\n",
       "      <td>72013.0</td>\n",
       "      <td>Arecibo</td>\n",
       "      <td>Puerto Rico</td>\n",
       "      <td>US</td>\n",
       "      <td>18.406631</td>\n",
       "      <td>-66.675077</td>\n",
       "      <td>Arecibo, Puerto Rico, US</td>\n",
       "      <td>1/22/20</td>\n",
       "      <td>0</td>\n",
       "      <td>0</td>\n",
       "    </tr>\n",
       "  </tbody>\n",
       "</table>\n",
       "</div>"
      ],
      "text/plain": [
       "        UID iso2 iso3  code3     FIPS        Admin2            Province_State  \\\n",
       "0        16   AS  ASM     16     60.0           NaN            American Samoa   \n",
       "1       316   GU  GUM    316     66.0           NaN                      Guam   \n",
       "2       580   MP  MNP    580     69.0           NaN  Northern Mariana Islands   \n",
       "3  63072001   PR  PRI    630  72001.0      Adjuntas               Puerto Rico   \n",
       "4  63072003   PR  PRI    630  72003.0        Aguada               Puerto Rico   \n",
       "5  63072005   PR  PRI    630  72005.0     Aguadilla               Puerto Rico   \n",
       "6  63072007   PR  PRI    630  72007.0  Aguas Buenas               Puerto Rico   \n",
       "7  63072009   PR  PRI    630  72009.0      Aibonito               Puerto Rico   \n",
       "8  63072011   PR  PRI    630  72011.0        Anasco               Puerto Rico   \n",
       "9  63072013   PR  PRI    630  72013.0       Arecibo               Puerto Rico   \n",
       "\n",
       "  Country_Region        Lat       Long_                   Combined_Key  \\\n",
       "0             US -14.271000 -170.132000             American Samoa, US   \n",
       "1             US  13.444300  144.793700                       Guam, US   \n",
       "2             US  15.097900  145.673900   Northern Mariana Islands, US   \n",
       "3             US  18.180117  -66.754367      Adjuntas, Puerto Rico, US   \n",
       "4             US  18.360255  -67.175131        Aguada, Puerto Rico, US   \n",
       "5             US  18.459681  -67.120815     Aguadilla, Puerto Rico, US   \n",
       "6             US  18.251619  -66.126806  Aguas Buenas, Puerto Rico, US   \n",
       "7             US  18.131361  -66.264131      Aibonito, Puerto Rico, US   \n",
       "8             US  18.287985  -67.120611        Anasco, Puerto Rico, US   \n",
       "9             US  18.406631  -66.675077       Arecibo, Puerto Rico, US   \n",
       "\n",
       "      Date  Confirmed  Deaths  \n",
       "0  1/22/20          0       0  \n",
       "1  1/22/20          0       0  \n",
       "2  1/22/20          0       0  \n",
       "3  1/22/20          0       0  \n",
       "4  1/22/20          0       0  \n",
       "5  1/22/20          0       0  \n",
       "6  1/22/20          0       0  \n",
       "7  1/22/20          0       0  \n",
       "8  1/22/20          0       0  \n",
       "9  1/22/20          0       0  "
      ]
     },
     "execution_count": 21,
     "metadata": {},
     "output_type": "execute_result"
    }
   ],
   "source": [
    "df.head(10)"
   ]
  },
  {
   "cell_type": "markdown",
   "id": "72f50595",
   "metadata": {},
   "source": [
    "#  Checking the last 10 rows of the dataset"
   ]
  },
  {
   "cell_type": "code",
   "execution_count": 22,
   "id": "a14aa244",
   "metadata": {},
   "outputs": [
    {
     "data": {
      "text/html": [
       "<div>\n",
       "<style scoped>\n",
       "    .dataframe tbody tr th:only-of-type {\n",
       "        vertical-align: middle;\n",
       "    }\n",
       "\n",
       "    .dataframe tbody tr th {\n",
       "        vertical-align: top;\n",
       "    }\n",
       "\n",
       "    .dataframe thead th {\n",
       "        text-align: right;\n",
       "    }\n",
       "</style>\n",
       "<table border=\"1\" class=\"dataframe\">\n",
       "  <thead>\n",
       "    <tr style=\"text-align: right;\">\n",
       "      <th></th>\n",
       "      <th>UID</th>\n",
       "      <th>iso2</th>\n",
       "      <th>iso3</th>\n",
       "      <th>code3</th>\n",
       "      <th>FIPS</th>\n",
       "      <th>Admin2</th>\n",
       "      <th>Province_State</th>\n",
       "      <th>Country_Region</th>\n",
       "      <th>Lat</th>\n",
       "      <th>Long_</th>\n",
       "      <th>Combined_Key</th>\n",
       "      <th>Date</th>\n",
       "      <th>Confirmed</th>\n",
       "      <th>Deaths</th>\n",
       "    </tr>\n",
       "  </thead>\n",
       "  <tbody>\n",
       "    <tr>\n",
       "      <th>627910</th>\n",
       "      <td>84070002</td>\n",
       "      <td>US</td>\n",
       "      <td>USA</td>\n",
       "      <td>840</td>\n",
       "      <td>NaN</td>\n",
       "      <td>Dukes and Nantucket</td>\n",
       "      <td>Massachusetts</td>\n",
       "      <td>US</td>\n",
       "      <td>41.406747</td>\n",
       "      <td>-70.687635</td>\n",
       "      <td>Dukes and Nantucket,Massachusetts,US</td>\n",
       "      <td>7/27/20</td>\n",
       "      <td>95</td>\n",
       "      <td>24</td>\n",
       "    </tr>\n",
       "    <tr>\n",
       "      <th>627911</th>\n",
       "      <td>84070003</td>\n",
       "      <td>US</td>\n",
       "      <td>USA</td>\n",
       "      <td>840</td>\n",
       "      <td>NaN</td>\n",
       "      <td>Kansas City</td>\n",
       "      <td>Missouri</td>\n",
       "      <td>US</td>\n",
       "      <td>39.099700</td>\n",
       "      <td>-94.578600</td>\n",
       "      <td>Kansas City,Missouri,US</td>\n",
       "      <td>7/27/20</td>\n",
       "      <td>4949</td>\n",
       "      <td>3</td>\n",
       "    </tr>\n",
       "    <tr>\n",
       "      <th>627912</th>\n",
       "      <td>84070004</td>\n",
       "      <td>US</td>\n",
       "      <td>USA</td>\n",
       "      <td>840</td>\n",
       "      <td>NaN</td>\n",
       "      <td>Michigan Department of Corrections (MDOC)</td>\n",
       "      <td>Michigan</td>\n",
       "      <td>US</td>\n",
       "      <td>0.000000</td>\n",
       "      <td>0.000000</td>\n",
       "      <td>Michigan Department of Corrections (MDOC), Mic...</td>\n",
       "      <td>7/27/20</td>\n",
       "      <td>4124</td>\n",
       "      <td>68</td>\n",
       "    </tr>\n",
       "    <tr>\n",
       "      <th>627913</th>\n",
       "      <td>84070005</td>\n",
       "      <td>US</td>\n",
       "      <td>USA</td>\n",
       "      <td>840</td>\n",
       "      <td>NaN</td>\n",
       "      <td>Federal Correctional Institution (FCI)</td>\n",
       "      <td>Michigan</td>\n",
       "      <td>US</td>\n",
       "      <td>0.000000</td>\n",
       "      <td>0.000000</td>\n",
       "      <td>Federal Correctional Institution (FCI), Michig...</td>\n",
       "      <td>7/27/20</td>\n",
       "      <td>192</td>\n",
       "      <td>5</td>\n",
       "    </tr>\n",
       "    <tr>\n",
       "      <th>627914</th>\n",
       "      <td>84070015</td>\n",
       "      <td>US</td>\n",
       "      <td>USA</td>\n",
       "      <td>840</td>\n",
       "      <td>NaN</td>\n",
       "      <td>Bear River</td>\n",
       "      <td>Utah</td>\n",
       "      <td>US</td>\n",
       "      <td>41.521068</td>\n",
       "      <td>-113.083282</td>\n",
       "      <td>Bear River, Utah, US</td>\n",
       "      <td>7/27/20</td>\n",
       "      <td>2099</td>\n",
       "      <td>5</td>\n",
       "    </tr>\n",
       "    <tr>\n",
       "      <th>627915</th>\n",
       "      <td>84070016</td>\n",
       "      <td>US</td>\n",
       "      <td>USA</td>\n",
       "      <td>840</td>\n",
       "      <td>NaN</td>\n",
       "      <td>Central Utah</td>\n",
       "      <td>Utah</td>\n",
       "      <td>US</td>\n",
       "      <td>39.372319</td>\n",
       "      <td>-111.575868</td>\n",
       "      <td>Central Utah, Utah, US</td>\n",
       "      <td>7/27/20</td>\n",
       "      <td>347</td>\n",
       "      <td>1</td>\n",
       "    </tr>\n",
       "    <tr>\n",
       "      <th>627916</th>\n",
       "      <td>84070017</td>\n",
       "      <td>US</td>\n",
       "      <td>USA</td>\n",
       "      <td>840</td>\n",
       "      <td>NaN</td>\n",
       "      <td>Southeast Utah</td>\n",
       "      <td>Utah</td>\n",
       "      <td>US</td>\n",
       "      <td>38.996171</td>\n",
       "      <td>-110.701396</td>\n",
       "      <td>Southeast Utah, Utah, US</td>\n",
       "      <td>7/27/20</td>\n",
       "      <td>70</td>\n",
       "      <td>0</td>\n",
       "    </tr>\n",
       "    <tr>\n",
       "      <th>627917</th>\n",
       "      <td>84070018</td>\n",
       "      <td>US</td>\n",
       "      <td>USA</td>\n",
       "      <td>840</td>\n",
       "      <td>NaN</td>\n",
       "      <td>Southwest Utah</td>\n",
       "      <td>Utah</td>\n",
       "      <td>US</td>\n",
       "      <td>37.854472</td>\n",
       "      <td>-111.441876</td>\n",
       "      <td>Southwest Utah, Utah, US</td>\n",
       "      <td>7/27/20</td>\n",
       "      <td>2781</td>\n",
       "      <td>23</td>\n",
       "    </tr>\n",
       "    <tr>\n",
       "      <th>627918</th>\n",
       "      <td>84070019</td>\n",
       "      <td>US</td>\n",
       "      <td>USA</td>\n",
       "      <td>840</td>\n",
       "      <td>NaN</td>\n",
       "      <td>TriCounty</td>\n",
       "      <td>Utah</td>\n",
       "      <td>US</td>\n",
       "      <td>40.124915</td>\n",
       "      <td>-109.517442</td>\n",
       "      <td>TriCounty, Utah, US</td>\n",
       "      <td>7/27/20</td>\n",
       "      <td>142</td>\n",
       "      <td>0</td>\n",
       "    </tr>\n",
       "    <tr>\n",
       "      <th>627919</th>\n",
       "      <td>84070020</td>\n",
       "      <td>US</td>\n",
       "      <td>USA</td>\n",
       "      <td>840</td>\n",
       "      <td>NaN</td>\n",
       "      <td>Weber-Morgan</td>\n",
       "      <td>Utah</td>\n",
       "      <td>US</td>\n",
       "      <td>41.271160</td>\n",
       "      <td>-111.914512</td>\n",
       "      <td>Weber-Morgan, Utah, US</td>\n",
       "      <td>7/27/20</td>\n",
       "      <td>2375</td>\n",
       "      <td>24</td>\n",
       "    </tr>\n",
       "  </tbody>\n",
       "</table>\n",
       "</div>"
      ],
      "text/plain": [
       "             UID iso2 iso3  code3  FIPS  \\\n",
       "627910  84070002   US  USA    840   NaN   \n",
       "627911  84070003   US  USA    840   NaN   \n",
       "627912  84070004   US  USA    840   NaN   \n",
       "627913  84070005   US  USA    840   NaN   \n",
       "627914  84070015   US  USA    840   NaN   \n",
       "627915  84070016   US  USA    840   NaN   \n",
       "627916  84070017   US  USA    840   NaN   \n",
       "627917  84070018   US  USA    840   NaN   \n",
       "627918  84070019   US  USA    840   NaN   \n",
       "627919  84070020   US  USA    840   NaN   \n",
       "\n",
       "                                           Admin2 Province_State  \\\n",
       "627910                        Dukes and Nantucket  Massachusetts   \n",
       "627911                                Kansas City       Missouri   \n",
       "627912  Michigan Department of Corrections (MDOC)       Michigan   \n",
       "627913     Federal Correctional Institution (FCI)       Michigan   \n",
       "627914                                 Bear River           Utah   \n",
       "627915                               Central Utah           Utah   \n",
       "627916                             Southeast Utah           Utah   \n",
       "627917                             Southwest Utah           Utah   \n",
       "627918                                  TriCounty           Utah   \n",
       "627919                               Weber-Morgan           Utah   \n",
       "\n",
       "       Country_Region        Lat       Long_  \\\n",
       "627910             US  41.406747  -70.687635   \n",
       "627911             US  39.099700  -94.578600   \n",
       "627912             US   0.000000    0.000000   \n",
       "627913             US   0.000000    0.000000   \n",
       "627914             US  41.521068 -113.083282   \n",
       "627915             US  39.372319 -111.575868   \n",
       "627916             US  38.996171 -110.701396   \n",
       "627917             US  37.854472 -111.441876   \n",
       "627918             US  40.124915 -109.517442   \n",
       "627919             US  41.271160 -111.914512   \n",
       "\n",
       "                                             Combined_Key     Date  Confirmed  \\\n",
       "627910               Dukes and Nantucket,Massachusetts,US  7/27/20         95   \n",
       "627911                            Kansas City,Missouri,US  7/27/20       4949   \n",
       "627912  Michigan Department of Corrections (MDOC), Mic...  7/27/20       4124   \n",
       "627913  Federal Correctional Institution (FCI), Michig...  7/27/20        192   \n",
       "627914                               Bear River, Utah, US  7/27/20       2099   \n",
       "627915                             Central Utah, Utah, US  7/27/20        347   \n",
       "627916                           Southeast Utah, Utah, US  7/27/20         70   \n",
       "627917                           Southwest Utah, Utah, US  7/27/20       2781   \n",
       "627918                                TriCounty, Utah, US  7/27/20        142   \n",
       "627919                             Weber-Morgan, Utah, US  7/27/20       2375   \n",
       "\n",
       "        Deaths  \n",
       "627910      24  \n",
       "627911       3  \n",
       "627912      68  \n",
       "627913       5  \n",
       "627914       5  \n",
       "627915       1  \n",
       "627916       0  \n",
       "627917      23  \n",
       "627918       0  \n",
       "627919      24  "
      ]
     },
     "execution_count": 22,
     "metadata": {},
     "output_type": "execute_result"
    }
   ],
   "source": [
    "df.tail(10)"
   ]
  },
  {
   "cell_type": "markdown",
   "id": "87bdb33c",
   "metadata": {},
   "source": [
    "# To find datatypes using info - method"
   ]
  },
  {
   "cell_type": "code",
   "execution_count": 5,
   "id": "f1d695ae",
   "metadata": {},
   "outputs": [
    {
     "name": "stdout",
     "output_type": "stream",
     "text": [
      "<class 'pandas.core.frame.DataFrame'>\n",
      "RangeIndex: 627920 entries, 0 to 627919\n",
      "Data columns (total 14 columns):\n",
      " #   Column          Non-Null Count   Dtype  \n",
      "---  ------          --------------   -----  \n",
      " 0   UID             627920 non-null  int64  \n",
      " 1   iso2            627920 non-null  object \n",
      " 2   iso3            627920 non-null  object \n",
      " 3   code3           627920 non-null  int64  \n",
      " 4   FIPS            626040 non-null  float64\n",
      " 5   Admin2          626792 non-null  object \n",
      " 6   Province_State  627920 non-null  object \n",
      " 7   Country_Region  627920 non-null  object \n",
      " 8   Lat             627920 non-null  float64\n",
      " 9   Long_           627920 non-null  float64\n",
      " 10  Combined_Key    627920 non-null  object \n",
      " 11  Date            627920 non-null  object \n",
      " 12  Confirmed       627920 non-null  int64  \n",
      " 13  Deaths          627920 non-null  int64  \n",
      "dtypes: float64(3), int64(4), object(7)\n",
      "memory usage: 67.1+ MB\n"
     ]
    }
   ],
   "source": [
    "df.info()"
   ]
  },
  {
   "cell_type": "markdown",
   "id": "88c6b3f9",
   "metadata": {},
   "source": [
    "# To find datatypes using \"dtypes\" method"
   ]
  },
  {
   "cell_type": "code",
   "execution_count": 6,
   "id": "dc98a70d",
   "metadata": {},
   "outputs": [
    {
     "data": {
      "text/plain": [
       "UID                 int64\n",
       "iso2               object\n",
       "iso3               object\n",
       "code3               int64\n",
       "FIPS              float64\n",
       "Admin2             object\n",
       "Province_State     object\n",
       "Country_Region     object\n",
       "Lat               float64\n",
       "Long_             float64\n",
       "Combined_Key       object\n",
       "Date               object\n",
       "Confirmed           int64\n",
       "Deaths              int64\n",
       "dtype: object"
      ]
     },
     "execution_count": 6,
     "metadata": {},
     "output_type": "execute_result"
    }
   ],
   "source": [
    "df.dtypes"
   ]
  },
  {
   "cell_type": "markdown",
   "id": "42de9137",
   "metadata": {},
   "source": [
    "# To check the number of rows and columns of our dataset"
   ]
  },
  {
   "cell_type": "code",
   "execution_count": 7,
   "id": "406e0a9f",
   "metadata": {},
   "outputs": [
    {
     "data": {
      "text/plain": [
       "(627920, 14)"
      ]
     },
     "execution_count": 7,
     "metadata": {},
     "output_type": "execute_result"
    }
   ],
   "source": [
    "df.shape"
   ]
  },
  {
   "cell_type": "code",
   "execution_count": 8,
   "id": "81fcfa2f",
   "metadata": {},
   "outputs": [
    {
     "data": {
      "text/plain": [
       "8790880"
      ]
     },
     "execution_count": 8,
     "metadata": {},
     "output_type": "execute_result"
    }
   ],
   "source": [
    "df.size"
   ]
  },
  {
   "cell_type": "markdown",
   "id": "7b355c7e",
   "metadata": {},
   "source": [
    "# NUMERIC FEATURES\n",
    " To check the statistical figures\n"
   ]
  },
  {
   "cell_type": "code",
   "execution_count": 9,
   "id": "4b88ff04",
   "metadata": {},
   "outputs": [
    {
     "data": {
      "text/html": [
       "<div>\n",
       "<style scoped>\n",
       "    .dataframe tbody tr th:only-of-type {\n",
       "        vertical-align: middle;\n",
       "    }\n",
       "\n",
       "    .dataframe tbody tr th {\n",
       "        vertical-align: top;\n",
       "    }\n",
       "\n",
       "    .dataframe thead th {\n",
       "        text-align: right;\n",
       "    }\n",
       "</style>\n",
       "<table border=\"1\" class=\"dataframe\">\n",
       "  <thead>\n",
       "    <tr style=\"text-align: right;\">\n",
       "      <th></th>\n",
       "      <th>UID</th>\n",
       "      <th>code3</th>\n",
       "      <th>FIPS</th>\n",
       "      <th>Lat</th>\n",
       "      <th>Long_</th>\n",
       "      <th>Confirmed</th>\n",
       "      <th>Deaths</th>\n",
       "    </tr>\n",
       "  </thead>\n",
       "  <tbody>\n",
       "    <tr>\n",
       "      <th>count</th>\n",
       "      <td>6.279200e+05</td>\n",
       "      <td>627920.000000</td>\n",
       "      <td>626040.000000</td>\n",
       "      <td>627920.000000</td>\n",
       "      <td>627920.000000</td>\n",
       "      <td>627920.000000</td>\n",
       "      <td>627920.000000</td>\n",
       "    </tr>\n",
       "    <tr>\n",
       "      <th>mean</th>\n",
       "      <td>8.342958e+07</td>\n",
       "      <td>834.491617</td>\n",
       "      <td>33061.684685</td>\n",
       "      <td>36.707212</td>\n",
       "      <td>-88.601474</td>\n",
       "      <td>357.284285</td>\n",
       "      <td>17.536328</td>\n",
       "    </tr>\n",
       "    <tr>\n",
       "      <th>std</th>\n",
       "      <td>4.314702e+06</td>\n",
       "      <td>36.492620</td>\n",
       "      <td>18636.156825</td>\n",
       "      <td>9.061572</td>\n",
       "      <td>21.715747</td>\n",
       "      <td>3487.282694</td>\n",
       "      <td>300.991466</td>\n",
       "    </tr>\n",
       "    <tr>\n",
       "      <th>min</th>\n",
       "      <td>1.600000e+01</td>\n",
       "      <td>16.000000</td>\n",
       "      <td>60.000000</td>\n",
       "      <td>-14.271000</td>\n",
       "      <td>-174.159600</td>\n",
       "      <td>0.000000</td>\n",
       "      <td>0.000000</td>\n",
       "    </tr>\n",
       "    <tr>\n",
       "      <th>25%</th>\n",
       "      <td>8.401811e+07</td>\n",
       "      <td>840.000000</td>\n",
       "      <td>19079.000000</td>\n",
       "      <td>33.895587</td>\n",
       "      <td>-97.790204</td>\n",
       "      <td>0.000000</td>\n",
       "      <td>0.000000</td>\n",
       "    </tr>\n",
       "    <tr>\n",
       "      <th>50%</th>\n",
       "      <td>8.402921e+07</td>\n",
       "      <td>840.000000</td>\n",
       "      <td>31014.000000</td>\n",
       "      <td>38.002344</td>\n",
       "      <td>-89.486710</td>\n",
       "      <td>4.000000</td>\n",
       "      <td>0.000000</td>\n",
       "    </tr>\n",
       "    <tr>\n",
       "      <th>75%</th>\n",
       "      <td>8.404612e+07</td>\n",
       "      <td>840.000000</td>\n",
       "      <td>47131.000000</td>\n",
       "      <td>41.573069</td>\n",
       "      <td>-82.311265</td>\n",
       "      <td>63.000000</td>\n",
       "      <td>1.000000</td>\n",
       "    </tr>\n",
       "    <tr>\n",
       "      <th>max</th>\n",
       "      <td>8.410000e+07</td>\n",
       "      <td>850.000000</td>\n",
       "      <td>99999.000000</td>\n",
       "      <td>69.314792</td>\n",
       "      <td>145.673900</td>\n",
       "      <td>224051.000000</td>\n",
       "      <td>23500.000000</td>\n",
       "    </tr>\n",
       "  </tbody>\n",
       "</table>\n",
       "</div>"
      ],
      "text/plain": [
       "                UID          code3           FIPS            Lat  \\\n",
       "count  6.279200e+05  627920.000000  626040.000000  627920.000000   \n",
       "mean   8.342958e+07     834.491617   33061.684685      36.707212   \n",
       "std    4.314702e+06      36.492620   18636.156825       9.061572   \n",
       "min    1.600000e+01      16.000000      60.000000     -14.271000   \n",
       "25%    8.401811e+07     840.000000   19079.000000      33.895587   \n",
       "50%    8.402921e+07     840.000000   31014.000000      38.002344   \n",
       "75%    8.404612e+07     840.000000   47131.000000      41.573069   \n",
       "max    8.410000e+07     850.000000   99999.000000      69.314792   \n",
       "\n",
       "               Long_      Confirmed         Deaths  \n",
       "count  627920.000000  627920.000000  627920.000000  \n",
       "mean      -88.601474     357.284285      17.536328  \n",
       "std        21.715747    3487.282694     300.991466  \n",
       "min      -174.159600       0.000000       0.000000  \n",
       "25%       -97.790204       0.000000       0.000000  \n",
       "50%       -89.486710       4.000000       0.000000  \n",
       "75%       -82.311265      63.000000       1.000000  \n",
       "max       145.673900  224051.000000   23500.000000  "
      ]
     },
     "execution_count": 9,
     "metadata": {},
     "output_type": "execute_result"
    }
   ],
   "source": [
    "df.describe()"
   ]
  },
  {
   "cell_type": "code",
   "execution_count": 10,
   "id": "03e5f701",
   "metadata": {},
   "outputs": [
    {
     "name": "stdout",
     "output_type": "stream",
     "text": [
      "Index(['UID', 'iso2', 'iso3', 'code3', 'FIPS', 'Admin2', 'Province_State',\n",
      "       'Country_Region', 'Lat', 'Long_', 'Combined_Key', 'Date', 'Confirmed',\n",
      "       'Deaths'],\n",
      "      dtype='object')\n"
     ]
    }
   ],
   "source": [
    "print(df.columns)"
   ]
  },
  {
   "cell_type": "markdown",
   "id": "ba088b25",
   "metadata": {},
   "source": [
    "# How to check the null values?"
   ]
  },
  {
   "cell_type": "code",
   "execution_count": 11,
   "id": "8dce6ea2",
   "metadata": {},
   "outputs": [
    {
     "data": {
      "text/plain": [
       "UID                  0\n",
       "iso2                 0\n",
       "iso3                 0\n",
       "code3                0\n",
       "FIPS              1880\n",
       "Admin2            1128\n",
       "Province_State       0\n",
       "Country_Region       0\n",
       "Lat                  0\n",
       "Long_                0\n",
       "Combined_Key         0\n",
       "Date                 0\n",
       "Confirmed            0\n",
       "Deaths               0\n",
       "dtype: int64"
      ]
     },
     "execution_count": 11,
     "metadata": {},
     "output_type": "execute_result"
    }
   ],
   "source": [
    "df.isnull().sum()"
   ]
  },
  {
   "cell_type": "markdown",
   "id": "8098d9b4",
   "metadata": {},
   "source": [
    "There are null values in our dataset, so we need to replace or remove the null values. Instead of removing the null values, Replacing is the best method."
   ]
  },
  {
   "cell_type": "markdown",
   "id": "bba514dc",
   "metadata": {},
   "source": [
    "### REPLACING NULL VALUES UNDECLARED VARIABLE"
   ]
  },
  {
   "cell_type": "code",
   "execution_count": 12,
   "id": "6e31aced",
   "metadata": {},
   "outputs": [],
   "source": [
    "df['Admin2'].replace(np.NaN, 'unknown', inplace=True)"
   ]
  },
  {
   "cell_type": "code",
   "execution_count": 13,
   "id": "539751e3",
   "metadata": {},
   "outputs": [
    {
     "data": {
      "text/plain": [
       "UID                  0\n",
       "iso2                 0\n",
       "iso3                 0\n",
       "code3                0\n",
       "FIPS              1880\n",
       "Admin2               0\n",
       "Province_State       0\n",
       "Country_Region       0\n",
       "Lat                  0\n",
       "Long_                0\n",
       "Combined_Key         0\n",
       "Date                 0\n",
       "Confirmed            0\n",
       "Deaths               0\n",
       "dtype: int64"
      ]
     },
     "execution_count": 13,
     "metadata": {},
     "output_type": "execute_result"
    }
   ],
   "source": [
    "df.isnull().sum()"
   ]
  },
  {
   "cell_type": "markdown",
   "id": "1fdc024c",
   "metadata": {},
   "source": [
    "From the above step, null values are removed from the column \"Admin2\"."
   ]
  },
  {
   "cell_type": "markdown",
   "id": "f0d9cdd3",
   "metadata": {},
   "source": [
    "# Replacing the null values with Mean/ Median/ Mode"
   ]
  },
  {
   "cell_type": "code",
   "execution_count": 14,
   "id": "b6ceb7bf",
   "metadata": {},
   "outputs": [],
   "source": [
    "df['FIPS'].replace(np.NaN,df['FIPS'].mean(),inplace= True)"
   ]
  },
  {
   "cell_type": "code",
   "execution_count": 15,
   "id": "6fc5ac60",
   "metadata": {},
   "outputs": [
    {
     "data": {
      "text/plain": [
       "UID               0\n",
       "iso2              0\n",
       "iso3              0\n",
       "code3             0\n",
       "FIPS              0\n",
       "Admin2            0\n",
       "Province_State    0\n",
       "Country_Region    0\n",
       "Lat               0\n",
       "Long_             0\n",
       "Combined_Key      0\n",
       "Date              0\n",
       "Confirmed         0\n",
       "Deaths            0\n",
       "dtype: int64"
      ]
     },
     "execution_count": 15,
     "metadata": {},
     "output_type": "execute_result"
    }
   ],
   "source": [
    "df.isnull().sum()"
   ]
  },
  {
   "cell_type": "markdown",
   "id": "abea7071",
   "metadata": {},
   "source": [
    "Null values are not present beacuse, they got replaced with the mean value of the column \"FIPS\"."
   ]
  },
  {
   "cell_type": "markdown",
   "id": "c6baee8d",
   "metadata": {},
   "source": [
    "# what are duplicate values and how to check duplicate values?"
   ]
  },
  {
   "cell_type": "markdown",
   "id": "8ee14ca9",
   "metadata": {},
   "source": [
    "Duplicate values are the unique values that are repeated in the column/ identical in the column. How can duplicate values be removed or how to check only unique values?"
   ]
  },
  {
   "cell_type": "code",
   "execution_count": 16,
   "id": "1dacc345",
   "metadata": {},
   "outputs": [
    {
     "data": {
      "text/plain": [
       "UID                3340\n",
       "iso2                  6\n",
       "iso3                  6\n",
       "code3                 6\n",
       "FIPS               3331\n",
       "Admin2             1979\n",
       "Province_State       58\n",
       "Country_Region        1\n",
       "Lat                3226\n",
       "Long_              3226\n",
       "Combined_Key       3340\n",
       "Date                188\n",
       "Confirmed         11091\n",
       "Deaths             2011\n",
       "dtype: int64"
      ]
     },
     "execution_count": 16,
     "metadata": {},
     "output_type": "execute_result"
    }
   ],
   "source": [
    "df.nunique()"
   ]
  },
  {
   "cell_type": "markdown",
   "id": "f8269226",
   "metadata": {},
   "source": [
    "From this method, the COUNT of unique values can be known."
   ]
  },
  {
   "cell_type": "code",
   "execution_count": 17,
   "id": "f32d73a2",
   "metadata": {},
   "outputs": [
    {
     "data": {
      "text/html": [
       "<div>\n",
       "<style scoped>\n",
       "    .dataframe tbody tr th:only-of-type {\n",
       "        vertical-align: middle;\n",
       "    }\n",
       "\n",
       "    .dataframe tbody tr th {\n",
       "        vertical-align: top;\n",
       "    }\n",
       "\n",
       "    .dataframe thead th {\n",
       "        text-align: right;\n",
       "    }\n",
       "</style>\n",
       "<table border=\"1\" class=\"dataframe\">\n",
       "  <thead>\n",
       "    <tr style=\"text-align: right;\">\n",
       "      <th></th>\n",
       "      <th>UID</th>\n",
       "      <th>iso2</th>\n",
       "      <th>iso3</th>\n",
       "      <th>code3</th>\n",
       "      <th>FIPS</th>\n",
       "      <th>Admin2</th>\n",
       "      <th>Province_State</th>\n",
       "      <th>Country_Region</th>\n",
       "      <th>Lat</th>\n",
       "      <th>Long_</th>\n",
       "      <th>Combined_Key</th>\n",
       "      <th>Date</th>\n",
       "      <th>Confirmed</th>\n",
       "      <th>Deaths</th>\n",
       "    </tr>\n",
       "  </thead>\n",
       "  <tbody>\n",
       "    <tr>\n",
       "      <th>0</th>\n",
       "      <td>16</td>\n",
       "      <td>AS</td>\n",
       "      <td>ASM</td>\n",
       "      <td>16</td>\n",
       "      <td>60.0</td>\n",
       "      <td>unknown</td>\n",
       "      <td>American Samoa</td>\n",
       "      <td>US</td>\n",
       "      <td>-14.271</td>\n",
       "      <td>-170.132</td>\n",
       "      <td>American Samoa, US</td>\n",
       "      <td>1/22/20</td>\n",
       "      <td>0</td>\n",
       "      <td>0</td>\n",
       "    </tr>\n",
       "  </tbody>\n",
       "</table>\n",
       "</div>"
      ],
      "text/plain": [
       "   UID iso2 iso3  code3  FIPS   Admin2  Province_State Country_Region     Lat  \\\n",
       "0   16   AS  ASM     16  60.0  unknown  American Samoa             US -14.271   \n",
       "\n",
       "     Long_        Combined_Key     Date  Confirmed  Deaths  \n",
       "0 -170.132  American Samoa, US  1/22/20          0       0  "
      ]
     },
     "execution_count": 17,
     "metadata": {},
     "output_type": "execute_result"
    }
   ],
   "source": [
    "df.drop_duplicates(subset=['Country_Region'])"
   ]
  },
  {
   "cell_type": "markdown",
   "id": "26b79ff5",
   "metadata": {},
   "source": [
    "There is only one \"Country_Region\" from where all the people are from, that is \"US\"."
   ]
  },
  {
   "cell_type": "markdown",
   "id": "09e5ee5b",
   "metadata": {},
   "source": [
    "# What analysis can be done?"
   ]
  },
  {
   "cell_type": "markdown",
   "id": "da550dce",
   "metadata": {},
   "source": [
    "Let us consider a column \"confirmed\" which means the number of confirmed cases. Let us see highest and least number of confirmed cases."
   ]
  },
  {
   "cell_type": "code",
   "execution_count": 18,
   "id": "fc388952",
   "metadata": {},
   "outputs": [
    {
     "data": {
      "text/plain": [
       "224051"
      ]
     },
     "execution_count": 18,
     "metadata": {},
     "output_type": "execute_result"
    }
   ],
   "source": [
    "df['Confirmed'].max()"
   ]
  },
  {
   "cell_type": "code",
   "execution_count": 19,
   "id": "f4533807",
   "metadata": {},
   "outputs": [
    {
     "name": "stdout",
     "output_type": "stream",
     "text": [
      "The highest number of confirmed cases is :224051 \n",
      " They belong to the state:New York\n"
     ]
    }
   ],
   "source": [
    "print('The highest number of confirmed cases is :{}'.format(df['Confirmed'].max()),'\\n','They belong to the state:{}'.format(df.iloc[df['Confirmed'].idxmax()]['Province_State']))"
   ]
  },
  {
   "cell_type": "code",
   "execution_count": 20,
   "id": "d900dccb",
   "metadata": {},
   "outputs": [
    {
     "data": {
      "text/plain": [
       "0"
      ]
     },
     "execution_count": 20,
     "metadata": {},
     "output_type": "execute_result"
    }
   ],
   "source": [
    "df['Confirmed'].min()"
   ]
  },
  {
   "cell_type": "code",
   "execution_count": 21,
   "id": "f65d86d8",
   "metadata": {},
   "outputs": [
    {
     "name": "stdout",
     "output_type": "stream",
     "text": [
      "The least number of confirmed cases is :0 \n",
      " They belong to the state:American Samoa\n"
     ]
    }
   ],
   "source": [
    "print('The least number of confirmed cases is :{}'.format(df['Confirmed'].min()),'\\n','They belong to the state:{}'.format(df.iloc[df['Confirmed'].idxmin()]['Province_State']))"
   ]
  },
  {
   "cell_type": "markdown",
   "id": "12d25f1a",
   "metadata": {},
   "source": [
    "# Boxplot Method to detect the outliers"
   ]
  },
  {
   "cell_type": "code",
   "execution_count": 22,
   "id": "475eefe4",
   "metadata": {},
   "outputs": [
    {
     "data": {
      "text/plain": [
       "<AxesSubplot:xlabel='FIPS'>"
      ]
     },
     "execution_count": 22,
     "metadata": {},
     "output_type": "execute_result"
    },
    {
     "data": {
      "image/png": "[encoded data removed]",
      "text/plain": [
       "<Figure size 432x288 with 1 Axes>"
      ]
     },
     "metadata": {
      "needs_background": "light"
     },
     "output_type": "display_data"
    }
   ],
   "source": [
    "sns.boxplot(x='FIPS', data=df)"
   ]
  },
  {
   "cell_type": "markdown",
   "id": "d50713fb",
   "metadata": {},
   "source": [
    "From the above method outliers can be detected for single column .\n",
    "\n",
    "\n",
    "\n",
    "\n",
    "boxplot method to find outliers for all columns."
   ]
  },
  {
   "cell_type": "code",
   "execution_count": 23,
   "id": "58a8003e",
   "metadata": {},
   "outputs": [
    {
     "data": {
      "image/png": "[encoded data removed]",
      "text/plain": [
       "<Figure size 1152x648 with 7 Axes>"
      ]
     },
     "metadata": {
      "needs_background": "light"
     },
     "output_type": "display_data"
    }
   ],
   "source": [
    "cols = 4\n",
    "rows = 3\n",
    "num_cols = df.select_dtypes(exclude='object').columns\n",
    "fig = plt.figure( figsize=(cols*4, rows*3))\n",
    "for i, col in enumerate(num_cols):\n",
    "#for i in num_cols:    \n",
    "    ax=fig.add_subplot(rows,cols,i+1)\n",
    "    \n",
    "    sns.boxplot(x = df[col], ax = ax)\n",
    "    \n",
    "fig.tight_layout()  \n",
    "plt.show()"
   ]
  },
  {
   "cell_type": "markdown",
   "id": "70eca831",
   "metadata": {},
   "source": [
    "It can be clearly inferred that every numerical column of the datatype \"int\",\"float\" contains outliers. Hence they are detected"
   ]
  },
  {
   "cell_type": "markdown",
   "id": "bce67986",
   "metadata": {},
   "source": [
    "# Method of dropping outliers from the visualised boxplot:\n",
    "Sometimes a dataset can contain extreme values that are outside the range of what is expected and unlike the other data. These are called outliers and often machine learning modeling and model skill in general can be improved by understanding and even dropping these outlier values.\n",
    "\n",
    "This does not mean that the values identified are outliers and should be removed"
   ]
  },
  {
   "cell_type": "markdown",
   "id": "27930423",
   "metadata": {},
   "source": [
    "Detecting The Position of Outliers"
   ]
  },
  {
   "cell_type": "code",
   "execution_count": 24,
   "id": "2fb94a1c",
   "metadata": {},
   "outputs": [
    {
     "name": "stdout",
     "output_type": "stream",
     "text": [
      "(array([     1,      2,   3341,   3342,   6681,   6682,  10021,  10022,\n",
      "        13361,  13362,  16701,  16702,  20041,  20042,  23381,  23382,\n",
      "        26721,  26722,  30061,  30062,  33401,  33402,  36741,  36742,\n",
      "        40081,  40082,  43421,  43422,  46761,  46762,  50101,  50102,\n",
      "        53441,  53442,  56781,  56782,  60121,  60122,  63461,  63462,\n",
      "        66801,  66802,  70141,  70142,  73481,  73482,  76821,  76822,\n",
      "        80161,  80162,  83501,  83502,  86841,  86842,  90181,  90182,\n",
      "        93521,  93522,  96861,  96862, 100201, 100202, 103541, 103542,\n",
      "       106881, 106882, 110221, 110222, 113561, 113562, 116901, 116902,\n",
      "       120241, 120242, 123581, 123582, 126921, 126922, 130261, 130262,\n",
      "       133601, 133602, 136941, 136942, 140281, 140282, 143621, 143622,\n",
      "       146961, 146962, 150301, 150302, 153641, 153642, 156981, 156982,\n",
      "       160321, 160322, 163661, 163662, 167001, 167002, 170341, 170342,\n",
      "       173681, 173682, 177021, 177022, 180361, 180362, 183701, 183702,\n",
      "       187041, 187042, 190381, 190382, 193721, 193722, 197061, 197062,\n",
      "       200401, 200402, 203741, 203742, 207081, 207082, 210421, 210422,\n",
      "       213761, 213762, 217101, 217102, 220441, 220442, 223781, 223782,\n",
      "       227121, 227122, 230461, 230462, 233801, 233802, 237141, 237142,\n",
      "       240481, 240482, 243821, 243822, 247161, 247162, 250501, 250502,\n",
      "       253841, 253842, 257181, 257182, 260521, 260522, 263861, 263862,\n",
      "       267201, 267202, 270541, 270542, 273881, 273882, 277221, 277222,\n",
      "       280561, 280562, 283901, 283902, 287241, 287242, 290581, 290582,\n",
      "       293921, 293922, 297261, 297262, 300601, 300602, 303941, 303942,\n",
      "       307281, 307282, 310621, 310622, 313961, 313962, 317301, 317302,\n",
      "       320641, 320642, 323981, 323982, 327321, 327322, 330661, 330662,\n",
      "       334001, 334002, 337341, 337342, 340681, 340682, 344021, 344022,\n",
      "       347361, 347362, 350701, 350702, 354041, 354042, 357381, 357382,\n",
      "       360721, 360722, 364061, 364062, 367401, 367402, 370741, 370742,\n",
      "       374081, 374082, 377421, 377422, 380761, 380762, 384101, 384102,\n",
      "       387441, 387442, 390781, 390782, 394121, 394122, 397461, 397462,\n",
      "       400801, 400802, 404141, 404142, 407481, 407482, 410821, 410822,\n",
      "       414161, 414162, 417501, 417502, 420841, 420842, 424181, 424182,\n",
      "       427521, 427522, 430861, 430862, 434201, 434202, 437541, 437542,\n",
      "       440881, 440882, 444221, 444222, 447561, 447562, 450901, 450902,\n",
      "       454241, 454242, 457581, 457582, 460921, 460922, 464261, 464262,\n",
      "       467601, 467602, 470941, 470942, 474281, 474282, 477621, 477622,\n",
      "       480961, 480962, 484301, 484302, 487641, 487642, 490981, 490982,\n",
      "       494321, 494322, 497661, 497662, 501001, 501002, 504341, 504342,\n",
      "       507681, 507682, 511021, 511022, 514361, 514362, 517701, 517702,\n",
      "       521041, 521042, 524381, 524382, 527721, 527722, 531061, 531062,\n",
      "       534401, 534402, 537741, 537742, 541081, 541082, 544421, 544422,\n",
      "       547761, 547762, 551101, 551102, 554441, 554442, 557781, 557782,\n",
      "       561121, 561122, 564461, 564462, 567801, 567802, 571141, 571142,\n",
      "       574481, 574482, 577821, 577822, 581161, 581162, 584501, 584502,\n",
      "       587841, 587842, 591181, 591182, 594521, 594522, 597861, 597862,\n",
      "       601201, 601202, 604541, 604542, 607881, 607882, 611221, 611222,\n",
      "       614561, 614562, 617901, 617902, 621241, 621242, 624581, 624582]),)\n"
     ]
    }
   ],
   "source": [
    "print(np.where(df['Long_']>0))"
   ]
  },
  {
   "cell_type": "markdown",
   "id": "c1637219",
   "metadata": {},
   "source": [
    "# detection of outliers using z-score method"
   ]
  },
  {
   "cell_type": "code",
   "execution_count": 25,
   "id": "fce670da",
   "metadata": {},
   "outputs": [
    {
     "name": "stdout",
     "output_type": "stream",
     "text": [
      "0          3.754446\n",
      "1         10.747747\n",
      "2         10.788280\n",
      "3          1.006050\n",
      "4          0.986674\n",
      "            ...    \n",
      "627915     1.057961\n",
      "627916     1.017692\n",
      "627917     1.051791\n",
      "627918     0.963171\n",
      "627919     1.073555\n",
      "Name: Long_, Length: 627920, dtype: float64\n"
     ]
    }
   ],
   "source": [
    "from scipy import stats\n",
    "import numpy as np\n",
    "z=np.abs(stats.zscore(df['Long_']))\n",
    "print(z)"
   ]
  },
  {
   "cell_type": "markdown",
   "id": "7a40435b",
   "metadata": {},
   "source": [
    "# detecting outliers using IQR method"
   ]
  },
  {
   "cell_type": "code",
   "execution_count": 26,
   "id": "35f21637",
   "metadata": {},
   "outputs": [],
   "source": [
    "Q1=np.percentile(df['Long_'],25,interpolation = 'midpoint')\n",
    "Q3=np.percentile(df['Long_'],75,interpolation = 'midpoint')\n",
    "IQR = Q3-Q1"
   ]
  },
  {
   "cell_type": "code",
   "execution_count": 27,
   "id": "91407abc",
   "metadata": {},
   "outputs": [
    {
     "name": "stdout",
     "output_type": "stream",
     "text": [
      "Upper bound: 0         False\n",
      "1          True\n",
      "2          True\n",
      "3         False\n",
      "4         False\n",
      "          ...  \n",
      "627915    False\n",
      "627916    False\n",
      "627917    False\n",
      "627918    False\n",
      "627919    False\n",
      "Name: Long_, Length: 627920, dtype: bool\n",
      "(array([     1,      2,   3224, ..., 627909, 627912, 627913]),)\n",
      "Lower bound: 0          True\n",
      "1         False\n",
      "2         False\n",
      "3         False\n",
      "4         False\n",
      "          ...  \n",
      "627915    False\n",
      "627916    False\n",
      "627917    False\n",
      "627918    False\n",
      "627919    False\n",
      "Name: Long_, Length: 627920, dtype: bool\n",
      "(array([     0,    149,    150, ..., 627648, 627649, 627651]),)\n"
     ]
    }
   ],
   "source": [
    "upper = df['Long_'] >=(Q3+1.5*IQR)\n",
    "print(\"Upper bound:\",upper)\n",
    "print(np.where(upper))\n",
    "\n",
    "lower = df['Long_'] <= (Q1-1.5*IQR)\n",
    "print(\"Lower bound:\",lower)\n",
    "print(np.where(lower))"
   ]
  },
  {
   "cell_type": "markdown",
   "id": "c6284b83",
   "metadata": {},
   "source": [
    "# Dropping Outliers using IQR Method"
   ]
  },
  {
   "cell_type": "code",
   "execution_count": 28,
   "id": "945f6761",
   "metadata": {},
   "outputs": [
    {
     "name": "stdout",
     "output_type": "stream",
     "text": [
      "Old Shape:  (627920, 14)\n",
      "New Shape:  (587500, 14)\n"
     ]
    }
   ],
   "source": [
    "Q1=np.percentile(df['Long_'],25,interpolation = 'midpoint')\n",
    "Q3=np.percentile(df['Long_'],75,interpolation = 'midpoint')\n",
    "IQR = Q3-Q1\n",
    "print(\"Old Shape: \",df.shape)\n",
    "\n",
    "upper = np.where(df['Long_'] >=(Q3+1.5*IQR))\n",
    "\n",
    "lower = np.where(df['Long_'] <= (Q1-1.5*IQR))\n",
    "df.drop(upper[0],inplace=True)\n",
    "df.drop(lower[0],inplace=True)\n",
    "print(\"New Shape: \",df.shape)"
   ]
  },
  {
   "cell_type": "code",
   "execution_count": 29,
   "id": "8c11f39f",
   "metadata": {},
   "outputs": [
    {
     "data": {
      "text/plain": [
       "<AxesSubplot:xlabel='Long_'>"
      ]
     },
     "execution_count": 29,
     "metadata": {},
     "output_type": "execute_result"
    },
    {
     "data": {
      "image/png": "[encoded data removed]",
      "text/plain": [
       "<Figure size 432x288 with 1 Axes>"
      ]
     },
     "metadata": {
      "needs_background": "light"
     },
     "output_type": "display_data"
    }
   ],
   "source": [
    "sns.boxplot(df['Long_'])"
   ]
  },
  {
   "cell_type": "markdown",
   "id": "196e007f",
   "metadata": {},
   "source": [
    "Dropping outliers is called 'Trimming'. An outlier will weaken the correlation making the data more scattered.Therefore removing outlier results in stronger correlation since data will be less scattered. \n",
    "     Hence 40420 outliers are removed."
   ]
  },
  {
   "cell_type": "markdown",
   "id": "4636f1aa",
   "metadata": {},
   "source": [
    "# Univariate Numerical Analysis\n"
   ]
  },
  {
   "cell_type": "markdown",
   "id": "eb0c7f01",
   "metadata": {},
   "source": [
    "Univariate analysis is defined as analysis carried out on only one (“uni”) variable (“variate”) to summarize or describe the variable"
   ]
  },
  {
   "cell_type": "markdown",
   "id": "e909f071",
   "metadata": {},
   "source": [
    "1.HISTPLOT\n",
    "\n"
   ]
  },
  {
   "cell_type": "code",
   "execution_count": 30,
   "id": "c71f6384",
   "metadata": {},
   "outputs": [
    {
     "data": {
      "text/plain": [
       "<AxesSubplot:xlabel='Long_', ylabel='Count'>"
      ]
     },
     "execution_count": 30,
     "metadata": {},
     "output_type": "execute_result"
    },
    {
     "data": {
      "image/png": "[encoded data removed]",
      "text/plain": [
       "<Figure size 432x288 with 1 Axes>"
      ]
     },
     "metadata": {
      "needs_background": "light"
     },
     "output_type": "display_data"
    }
   ],
   "source": [
    "sns.histplot(df['Long_'])"
   ]
  },
  {
   "cell_type": "code",
   "execution_count": 15,
   "id": "dd7353c7",
   "metadata": {
    "scrolled": false
   },
   "outputs": [
    {
     "data": {
      "image/png": "[encoded data removed]",
      "text/plain": [
       "<Figure size 1800x1800 with 7 Axes>"
      ]
     },
     "metadata": {
      "needs_background": "light"
     },
     "output_type": "display_data"
    }
   ],
   "source": [
    "#Importing Matplot library in order to visualise the data in Histplot\n",
    "\n",
    "import matplotlib.pyplot as plt\n",
    "\n",
    "cols = 5\n",
    "rows = 5\n",
    "num_cols = df.select_dtypes(exclude='object').columns\n",
    "fig = plt.figure( figsize=(cols*5, rows*5))\n",
    "for i, col in enumerate(num_cols):\n",
    "#for i in num_cols:    \n",
    "    ax=fig.add_subplot(rows,cols,i+1)\n",
    "    \n",
    "    sns.histplot(x = df[col], ax = ax)\n",
    "    \n",
    "fig.tight_layout()  \n",
    "plt.show()\n",
    "\n",
    "#Here, the numerical columns must be selected in order to visualise the histplot. For that, Datatypes like 'Object'\n",
    "#(i.e, categorical) need to be excluded from the process of importing."
   ]
  },
  {
   "cell_type": "markdown",
   "id": "8fe4bfbf",
   "metadata": {},
   "source": [
    "2.KERNAL DENSITY PLOT"
   ]
  },
  {
   "cell_type": "code",
   "execution_count": 32,
   "id": "3fa785d2",
   "metadata": {
    "scrolled": true
   },
   "outputs": [
    {
     "data": {
      "text/plain": [
       "<AxesSubplot:xlabel='Long_', ylabel='Density'>"
      ]
     },
     "execution_count": 32,
     "metadata": {},
     "output_type": "execute_result"
    },
    {
     "data": {
      "image/png": "[encoded data removed]",
      "text/plain": [
       "<Figure size 432x288 with 1 Axes>"
      ]
     },
     "metadata": {
      "needs_background": "light"
     },
     "output_type": "display_data"
    }
   ],
   "source": [
    "sns.kdeplot(x='Long_',data=df,hue='Country_Region')"
   ]
  },
  {
   "cell_type": "markdown",
   "id": "e3086b0e",
   "metadata": {},
   "source": [
    "Displaying Histplot and kde plot "
   ]
  },
  {
   "cell_type": "code",
   "execution_count": 33,
   "id": "2ff4b475",
   "metadata": {},
   "outputs": [
    {
     "data": {
      "text/plain": [
       "<AxesSubplot:xlabel='Long_', ylabel='Count'>"
      ]
     },
     "execution_count": 33,
     "metadata": {},
     "output_type": "execute_result"
    },
    {
     "data": {
      "image/png": "[encoded data removed]",
      "text/plain": [
       "<Figure size 432x288 with 1 Axes>"
      ]
     },
     "metadata": {
      "needs_background": "light"
     },
     "output_type": "display_data"
    }
   ],
   "source": [
    "sns.histplot(df['Long_'],kde=True)"
   ]
  },
  {
   "cell_type": "markdown",
   "id": "76f7b4c3",
   "metadata": {},
   "source": [
    "3.BOX PLOT"
   ]
  },
  {
   "cell_type": "code",
   "execution_count": 34,
   "id": "6df6f6fd",
   "metadata": {},
   "outputs": [
    {
     "data": {
      "text/plain": [
       "<AxesSubplot:xlabel='Long_'>"
      ]
     },
     "execution_count": 34,
     "metadata": {},
     "output_type": "execute_result"
    },
    {
     "data": {
      "image/png": "[encoded data removed]",
      "text/plain": [
       "<Figure size 432x288 with 1 Axes>"
      ]
     },
     "metadata": {
      "needs_background": "light"
     },
     "output_type": "display_data"
    }
   ],
   "source": [
    "sns.boxplot(x='Long_',data=df)"
   ]
  },
  {
   "cell_type": "markdown",
   "id": "e09ece67",
   "metadata": {},
   "source": [
    "Method of representing two columns in Boxplot at a time"
   ]
  },
  {
   "cell_type": "code",
   "execution_count": 35,
   "id": "008d776e",
   "metadata": {},
   "outputs": [
    {
     "data": {
      "text/plain": [
       "<AxesSubplot:>"
      ]
     },
     "execution_count": 35,
     "metadata": {},
     "output_type": "execute_result"
    },
    {
     "data": {
      "image/png": "[encoded data removed]",
      "text/plain": [
       "<Figure size 432x288 with 1 Axes>"
      ]
     },
     "metadata": {
      "needs_background": "light"
     },
     "output_type": "display_data"
    }
   ],
   "source": [
    "sns.boxplot(data=df.loc[:,['Long_','FIPS']])"
   ]
  },
  {
   "cell_type": "code",
   "execution_count": 36,
   "id": "610542f8",
   "metadata": {},
   "outputs": [
    {
     "data": {
      "image/png": "[encoded data removed]",
      "text/plain": [
       "<Figure size 1800x1800 with 7 Axes>"
      ]
     },
     "metadata": {
      "needs_background": "light"
     },
     "output_type": "display_data"
    }
   ],
   "source": [
    "import matplotlib.pyplot as plt\n",
    "\n",
    "cols = 5\n",
    "rows = 5\n",
    "num_cols = df.select_dtypes(exclude='object').columns\n",
    "fig = plt.figure( figsize=(cols*5, rows*5))\n",
    "for i, col in enumerate(num_cols):\n",
    "#for i in num_cols:    \n",
    "    ax=fig.add_subplot(rows,cols,i+1)\n",
    "    \n",
    "    sns.kdeplot(x = df[col], ax = ax)\n",
    "    \n",
    "fig.tight_layout()  \n",
    "plt.show()\n",
    "\n",
    "#Here, the numerical columns must be selected in order to visualise the histplot. For that, Datatypes like 'Object'\n",
    "#(i.e, categorical) need to be excluded from the process of importing."
   ]
  },
  {
   "cell_type": "markdown",
   "id": "3442abaf",
   "metadata": {},
   "source": [
    "4.VIOLIN PLOT"
   ]
  },
  {
   "cell_type": "code",
   "execution_count": 37,
   "id": "d81a4814",
   "metadata": {},
   "outputs": [
    {
     "data": {
      "text/plain": [
       "<AxesSubplot:xlabel='Long_'>"
      ]
     },
     "execution_count": 37,
     "metadata": {},
     "output_type": "execute_result"
    },
    {
     "data": {
      "image/png": "[encoded data removed]",
      "text/plain": [
       "<Figure size 432x288 with 1 Axes>"
      ]
     },
     "metadata": {
      "needs_background": "light"
     },
     "output_type": "display_data"
    }
   ],
   "source": [
    "sns.violinplot(x='Long_',data=df)"
   ]
  },
  {
   "cell_type": "markdown",
   "id": "ede7e759",
   "metadata": {},
   "source": [
    "5.STRIP PLOT"
   ]
  },
  {
   "cell_type": "code",
   "execution_count": 38,
   "id": "2c3ba2c6",
   "metadata": {},
   "outputs": [
    {
     "data": {
      "text/plain": [
       "<AxesSubplot:xlabel='Long_'>"
      ]
     },
     "execution_count": 38,
     "metadata": {},
     "output_type": "execute_result"
    },
    {
     "data": {
      "image/png": "[encoded data removed]",
      "text/plain": [
       "<Figure size 432x288 with 1 Axes>"
      ]
     },
     "metadata": {
      "needs_background": "light"
     },
     "output_type": "display_data"
    }
   ],
   "source": [
    "sns.stripplot(df['Long_'])"
   ]
  },
  {
   "cell_type": "code",
   "execution_count": 39,
   "id": "86cd0228",
   "metadata": {},
   "outputs": [
    {
     "data": {
      "text/plain": [
       "<AxesSubplot:xlabel='FIPS'>"
      ]
     },
     "execution_count": 39,
     "metadata": {},
     "output_type": "execute_result"
    },
    {
     "data": {
      "image/png": "[encoded data removed]",
      "text/plain": [
       "<Figure size 432x288 with 1 Axes>"
      ]
     },
     "metadata": {
      "needs_background": "light"
     },
     "output_type": "display_data"
    }
   ],
   "source": [
    "sns.stripplot(df['FIPS'])"
   ]
  },
  {
   "cell_type": "markdown",
   "id": "fa5f403d",
   "metadata": {},
   "source": [
    "# Univariate Categorical"
   ]
  },
  {
   "cell_type": "code",
   "execution_count": 40,
   "id": "3517d3e5",
   "metadata": {},
   "outputs": [
    {
     "data": {
      "text/html": [
       "<div>\n",
       "<style scoped>\n",
       "    .dataframe tbody tr th:only-of-type {\n",
       "        vertical-align: middle;\n",
       "    }\n",
       "\n",
       "    .dataframe tbody tr th {\n",
       "        vertical-align: top;\n",
       "    }\n",
       "\n",
       "    .dataframe thead th {\n",
       "        text-align: right;\n",
       "    }\n",
       "</style>\n",
       "<table border=\"1\" class=\"dataframe\">\n",
       "  <thead>\n",
       "    <tr style=\"text-align: right;\">\n",
       "      <th></th>\n",
       "      <th>UID</th>\n",
       "      <th>iso2</th>\n",
       "      <th>iso3</th>\n",
       "      <th>code3</th>\n",
       "      <th>FIPS</th>\n",
       "      <th>Admin2</th>\n",
       "      <th>Province_State</th>\n",
       "      <th>Country_Region</th>\n",
       "      <th>Lat</th>\n",
       "      <th>Long_</th>\n",
       "      <th>Combined_Key</th>\n",
       "      <th>Date</th>\n",
       "      <th>Confirmed</th>\n",
       "      <th>Deaths</th>\n",
       "    </tr>\n",
       "  </thead>\n",
       "  <tbody>\n",
       "    <tr>\n",
       "      <th>0</th>\n",
       "      <td>16</td>\n",
       "      <td>AS</td>\n",
       "      <td>ASM</td>\n",
       "      <td>16</td>\n",
       "      <td>60.0</td>\n",
       "      <td>NaN</td>\n",
       "      <td>American Samoa</td>\n",
       "      <td>US</td>\n",
       "      <td>-14.271000</td>\n",
       "      <td>-170.132000</td>\n",
       "      <td>American Samoa, US</td>\n",
       "      <td>1/22/20</td>\n",
       "      <td>0</td>\n",
       "      <td>0</td>\n",
       "    </tr>\n",
       "    <tr>\n",
       "      <th>1</th>\n",
       "      <td>316</td>\n",
       "      <td>GU</td>\n",
       "      <td>GUM</td>\n",
       "      <td>316</td>\n",
       "      <td>66.0</td>\n",
       "      <td>NaN</td>\n",
       "      <td>Guam</td>\n",
       "      <td>US</td>\n",
       "      <td>13.444300</td>\n",
       "      <td>144.793700</td>\n",
       "      <td>Guam, US</td>\n",
       "      <td>1/22/20</td>\n",
       "      <td>0</td>\n",
       "      <td>0</td>\n",
       "    </tr>\n",
       "    <tr>\n",
       "      <th>2</th>\n",
       "      <td>580</td>\n",
       "      <td>MP</td>\n",
       "      <td>MNP</td>\n",
       "      <td>580</td>\n",
       "      <td>69.0</td>\n",
       "      <td>NaN</td>\n",
       "      <td>Northern Mariana Islands</td>\n",
       "      <td>US</td>\n",
       "      <td>15.097900</td>\n",
       "      <td>145.673900</td>\n",
       "      <td>Northern Mariana Islands, US</td>\n",
       "      <td>1/22/20</td>\n",
       "      <td>0</td>\n",
       "      <td>0</td>\n",
       "    </tr>\n",
       "    <tr>\n",
       "      <th>3</th>\n",
       "      <td>63072001</td>\n",
       "      <td>PR</td>\n",
       "      <td>PRI</td>\n",
       "      <td>630</td>\n",
       "      <td>72001.0</td>\n",
       "      <td>Adjuntas</td>\n",
       "      <td>Puerto Rico</td>\n",
       "      <td>US</td>\n",
       "      <td>18.180117</td>\n",
       "      <td>-66.754367</td>\n",
       "      <td>Adjuntas, Puerto Rico, US</td>\n",
       "      <td>1/22/20</td>\n",
       "      <td>0</td>\n",
       "      <td>0</td>\n",
       "    </tr>\n",
       "    <tr>\n",
       "      <th>4</th>\n",
       "      <td>63072003</td>\n",
       "      <td>PR</td>\n",
       "      <td>PRI</td>\n",
       "      <td>630</td>\n",
       "      <td>72003.0</td>\n",
       "      <td>Aguada</td>\n",
       "      <td>Puerto Rico</td>\n",
       "      <td>US</td>\n",
       "      <td>18.360255</td>\n",
       "      <td>-67.175131</td>\n",
       "      <td>Aguada, Puerto Rico, US</td>\n",
       "      <td>1/22/20</td>\n",
       "      <td>0</td>\n",
       "      <td>0</td>\n",
       "    </tr>\n",
       "    <tr>\n",
       "      <th>...</th>\n",
       "      <td>...</td>\n",
       "      <td>...</td>\n",
       "      <td>...</td>\n",
       "      <td>...</td>\n",
       "      <td>...</td>\n",
       "      <td>...</td>\n",
       "      <td>...</td>\n",
       "      <td>...</td>\n",
       "      <td>...</td>\n",
       "      <td>...</td>\n",
       "      <td>...</td>\n",
       "      <td>...</td>\n",
       "      <td>...</td>\n",
       "      <td>...</td>\n",
       "    </tr>\n",
       "    <tr>\n",
       "      <th>627915</th>\n",
       "      <td>84070016</td>\n",
       "      <td>US</td>\n",
       "      <td>USA</td>\n",
       "      <td>840</td>\n",
       "      <td>NaN</td>\n",
       "      <td>Central Utah</td>\n",
       "      <td>Utah</td>\n",
       "      <td>US</td>\n",
       "      <td>39.372319</td>\n",
       "      <td>-111.575868</td>\n",
       "      <td>Central Utah, Utah, US</td>\n",
       "      <td>7/27/20</td>\n",
       "      <td>347</td>\n",
       "      <td>1</td>\n",
       "    </tr>\n",
       "    <tr>\n",
       "      <th>627916</th>\n",
       "      <td>84070017</td>\n",
       "      <td>US</td>\n",
       "      <td>USA</td>\n",
       "      <td>840</td>\n",
       "      <td>NaN</td>\n",
       "      <td>Southeast Utah</td>\n",
       "      <td>Utah</td>\n",
       "      <td>US</td>\n",
       "      <td>38.996171</td>\n",
       "      <td>-110.701396</td>\n",
       "      <td>Southeast Utah, Utah, US</td>\n",
       "      <td>7/27/20</td>\n",
       "      <td>70</td>\n",
       "      <td>0</td>\n",
       "    </tr>\n",
       "    <tr>\n",
       "      <th>627917</th>\n",
       "      <td>84070018</td>\n",
       "      <td>US</td>\n",
       "      <td>USA</td>\n",
       "      <td>840</td>\n",
       "      <td>NaN</td>\n",
       "      <td>Southwest Utah</td>\n",
       "      <td>Utah</td>\n",
       "      <td>US</td>\n",
       "      <td>37.854472</td>\n",
       "      <td>-111.441876</td>\n",
       "      <td>Southwest Utah, Utah, US</td>\n",
       "      <td>7/27/20</td>\n",
       "      <td>2781</td>\n",
       "      <td>23</td>\n",
       "    </tr>\n",
       "    <tr>\n",
       "      <th>627918</th>\n",
       "      <td>84070019</td>\n",
       "      <td>US</td>\n",
       "      <td>USA</td>\n",
       "      <td>840</td>\n",
       "      <td>NaN</td>\n",
       "      <td>TriCounty</td>\n",
       "      <td>Utah</td>\n",
       "      <td>US</td>\n",
       "      <td>40.124915</td>\n",
       "      <td>-109.517442</td>\n",
       "      <td>TriCounty, Utah, US</td>\n",
       "      <td>7/27/20</td>\n",
       "      <td>142</td>\n",
       "      <td>0</td>\n",
       "    </tr>\n",
       "    <tr>\n",
       "      <th>627919</th>\n",
       "      <td>84070020</td>\n",
       "      <td>US</td>\n",
       "      <td>USA</td>\n",
       "      <td>840</td>\n",
       "      <td>NaN</td>\n",
       "      <td>Weber-Morgan</td>\n",
       "      <td>Utah</td>\n",
       "      <td>US</td>\n",
       "      <td>41.271160</td>\n",
       "      <td>-111.914512</td>\n",
       "      <td>Weber-Morgan, Utah, US</td>\n",
       "      <td>7/27/20</td>\n",
       "      <td>2375</td>\n",
       "      <td>24</td>\n",
       "    </tr>\n",
       "  </tbody>\n",
       "</table>\n",
       "<p>627920 rows × 14 columns</p>\n",
       "</div>"
      ],
      "text/plain": [
       "             UID iso2 iso3  code3     FIPS          Admin2  \\\n",
       "0             16   AS  ASM     16     60.0             NaN   \n",
       "1            316   GU  GUM    316     66.0             NaN   \n",
       "2            580   MP  MNP    580     69.0             NaN   \n",
       "3       63072001   PR  PRI    630  72001.0        Adjuntas   \n",
       "4       63072003   PR  PRI    630  72003.0          Aguada   \n",
       "...          ...  ...  ...    ...      ...             ...   \n",
       "627915  84070016   US  USA    840      NaN    Central Utah   \n",
       "627916  84070017   US  USA    840      NaN  Southeast Utah   \n",
       "627917  84070018   US  USA    840      NaN  Southwest Utah   \n",
       "627918  84070019   US  USA    840      NaN       TriCounty   \n",
       "627919  84070020   US  USA    840      NaN    Weber-Morgan   \n",
       "\n",
       "                  Province_State Country_Region        Lat       Long_  \\\n",
       "0                 American Samoa             US -14.271000 -170.132000   \n",
       "1                           Guam             US  13.444300  144.793700   \n",
       "2       Northern Mariana Islands             US  15.097900  145.673900   \n",
       "3                    Puerto Rico             US  18.180117  -66.754367   \n",
       "4                    Puerto Rico             US  18.360255  -67.175131   \n",
       "...                          ...            ...        ...         ...   \n",
       "627915                      Utah             US  39.372319 -111.575868   \n",
       "627916                      Utah             US  38.996171 -110.701396   \n",
       "627917                      Utah             US  37.854472 -111.441876   \n",
       "627918                      Utah             US  40.124915 -109.517442   \n",
       "627919                      Utah             US  41.271160 -111.914512   \n",
       "\n",
       "                        Combined_Key     Date  Confirmed  Deaths  \n",
       "0                 American Samoa, US  1/22/20          0       0  \n",
       "1                           Guam, US  1/22/20          0       0  \n",
       "2       Northern Mariana Islands, US  1/22/20          0       0  \n",
       "3          Adjuntas, Puerto Rico, US  1/22/20          0       0  \n",
       "4            Aguada, Puerto Rico, US  1/22/20          0       0  \n",
       "...                              ...      ...        ...     ...  \n",
       "627915        Central Utah, Utah, US  7/27/20        347       1  \n",
       "627916      Southeast Utah, Utah, US  7/27/20         70       0  \n",
       "627917      Southwest Utah, Utah, US  7/27/20       2781      23  \n",
       "627918           TriCounty, Utah, US  7/27/20        142       0  \n",
       "627919        Weber-Morgan, Utah, US  7/27/20       2375      24  \n",
       "\n",
       "[627920 rows x 14 columns]"
      ]
     },
     "execution_count": 40,
     "metadata": {},
     "output_type": "execute_result"
    }
   ],
   "source": [
    "df = pd.read_csv(\"/Users/nimithareddy/Downloads/archive/usa_county_wise.csv\")\n",
    "df"
   ]
  },
  {
   "cell_type": "code",
   "execution_count": 6,
   "id": "77a2800c",
   "metadata": {},
   "outputs": [
    {
     "data": {
      "text/html": [
       "<div>\n",
       "<style scoped>\n",
       "    .dataframe tbody tr th:only-of-type {\n",
       "        vertical-align: middle;\n",
       "    }\n",
       "\n",
       "    .dataframe tbody tr th {\n",
       "        vertical-align: top;\n",
       "    }\n",
       "\n",
       "    .dataframe thead th {\n",
       "        text-align: right;\n",
       "    }\n",
       "</style>\n",
       "<table border=\"1\" class=\"dataframe\">\n",
       "  <thead>\n",
       "    <tr style=\"text-align: right;\">\n",
       "      <th></th>\n",
       "      <th>iso2</th>\n",
       "      <th>iso3</th>\n",
       "      <th>Admin2</th>\n",
       "      <th>Province_State</th>\n",
       "      <th>Country_Region</th>\n",
       "      <th>Combined_Key</th>\n",
       "      <th>Date</th>\n",
       "    </tr>\n",
       "  </thead>\n",
       "  <tbody>\n",
       "    <tr>\n",
       "      <th>count</th>\n",
       "      <td>627920</td>\n",
       "      <td>627920</td>\n",
       "      <td>626792</td>\n",
       "      <td>627920</td>\n",
       "      <td>627920</td>\n",
       "      <td>627920</td>\n",
       "      <td>627920</td>\n",
       "    </tr>\n",
       "    <tr>\n",
       "      <th>unique</th>\n",
       "      <td>6</td>\n",
       "      <td>6</td>\n",
       "      <td>1978</td>\n",
       "      <td>58</td>\n",
       "      <td>1</td>\n",
       "      <td>3340</td>\n",
       "      <td>188</td>\n",
       "    </tr>\n",
       "    <tr>\n",
       "      <th>top</th>\n",
       "      <td>US</td>\n",
       "      <td>USA</td>\n",
       "      <td>Unassigned</td>\n",
       "      <td>Texas</td>\n",
       "      <td>US</td>\n",
       "      <td>American Samoa, US</td>\n",
       "      <td>1/22/20</td>\n",
       "    </tr>\n",
       "    <tr>\n",
       "      <th>freq</th>\n",
       "      <td>612128</td>\n",
       "      <td>612128</td>\n",
       "      <td>9776</td>\n",
       "      <td>48128</td>\n",
       "      <td>627920</td>\n",
       "      <td>188</td>\n",
       "      <td>3340</td>\n",
       "    </tr>\n",
       "  </tbody>\n",
       "</table>\n",
       "</div>"
      ],
      "text/plain": [
       "          iso2    iso3      Admin2 Province_State Country_Region  \\\n",
       "count   627920  627920      626792         627920         627920   \n",
       "unique       6       6        1978             58              1   \n",
       "top         US     USA  Unassigned          Texas             US   \n",
       "freq    612128  612128        9776          48128         627920   \n",
       "\n",
       "              Combined_Key     Date  \n",
       "count               627920   627920  \n",
       "unique                3340      188  \n",
       "top     American Samoa, US  1/22/20  \n",
       "freq                   188     3340  "
      ]
     },
     "execution_count": 6,
     "metadata": {},
     "output_type": "execute_result"
    }
   ],
   "source": [
    "df.describe(include='object')"
   ]
  },
  {
   "cell_type": "markdown",
   "id": "c8e2b502",
   "metadata": {},
   "source": [
    "1. COUNT PLOT"
   ]
  },
  {
   "cell_type": "code",
   "execution_count": 8,
   "id": "1432c75f",
   "metadata": {},
   "outputs": [
    {
     "data": {
      "text/plain": [
       "<AxesSubplot:xlabel='iso2', ylabel='count'>"
      ]
     },
     "execution_count": 8,
     "metadata": {},
     "output_type": "execute_result"
    },
    {
     "data": {
      "image/png": "[encoded data removed]",
      "text/plain": [
       "<Figure size 432x288 with 1 Axes>"
      ]
     },
     "metadata": {
      "needs_background": "light"
     },
     "output_type": "display_data"
    }
   ],
   "source": [
    "sns.countplot(df['iso2'])"
   ]
  },
  {
   "cell_type": "code",
   "execution_count": 14,
   "id": "59e7c4ae",
   "metadata": {},
   "outputs": [
    {
     "data": {
      "image/png": "[encoded data removed]",
      "text/plain": [
       "<Figure size 1440x1440 with 7 Axes>"
      ]
     },
     "metadata": {
      "needs_background": "light"
     },
     "output_type": "display_data"
    }
   ],
   "source": [
    "import matplotlib.pyplot as plt\n",
    "cols = 4\n",
    "rows = 4\n",
    "fig = plt.figure(figsize= (20,20))\n",
    "all_categs = df.select_dtypes(include='object')\n",
    "cat_cols = all_categs.columns[all_categs.nunique() < 5000]\n",
    "for i, col in enumerate(cat_cols):\n",
    "    ax=fig.add_subplot(rows, cols, i+1)\n",
    "    sns.countplot(x=df[col], ax=ax)\n",
    "    plt.xticks(rotation=0, ha='right')\n",
    "    \n",
    "fig.tight_layout()  \n",
    "plt.show()"
   ]
  },
  {
   "cell_type": "markdown",
   "id": "aee3be4f",
   "metadata": {},
   "source": [
    "2. PIE CHART"
   ]
  },
  {
   "cell_type": "code",
   "execution_count": 9,
   "id": "a1de43b3",
   "metadata": {},
   "outputs": [
    {
     "data": {
      "text/plain": [
       "([<matplotlib.patches.Wedge at 0x7f9bb07c3c10>,\n",
       "  <matplotlib.patches.Wedge at 0x7f9bb07c74c0>,\n",
       "  <matplotlib.patches.Wedge at 0x7f9bb07c71c0>,\n",
       "  <matplotlib.patches.Wedge at 0x7f9bb07cb340>,\n",
       "  <matplotlib.patches.Wedge at 0x7f9bb07cb2b0>,\n",
       "  <matplotlib.patches.Wedge at 0x7f9bb07ce400>],\n",
       " [Text(-1.096568356074293, 0.08682073747972363, 'US'),\n",
       "  Text(1.0962339419877591, -0.09094583241676647, 'PR'),\n",
       "  Text(1.0999761567593445, -0.0072425521014563635, 'AS'),\n",
       "  Text(1.099987835045718, -0.005173272797222659, 'GU'),\n",
       "  Text(1.099995620599486, -0.0031039751853613132, 'MP'),\n",
       "  Text(1.0999995133930969, -0.0010346665888836372, 'VI')],\n",
       " [Text(-0.5981281942223415, 0.04735676589803107, '97%'),\n",
       "  Text(0.5979457865387776, -0.04960681768187262, '2%'),\n",
       "  Text(0.599986994596006, -0.0039504829644307436, '0%'),\n",
       "  Text(0.5999933645703915, -0.0028217851621214498, '0%'),\n",
       "  Text(0.5999976112360833, -0.0016930773738334434, '0%'),\n",
       "  Text(0.5999997345780528, -0.0005643635939365293, '0%')])"
      ]
     },
     "execution_count": 9,
     "metadata": {},
     "output_type": "execute_result"
    },
    {
     "data": {
      "image/png": "[encoded data removed]",
      "text/plain": [
       "<Figure size 432x288 with 1 Axes>"
      ]
     },
     "metadata": {},
     "output_type": "display_data"
    }
   ],
   "source": [
    "data=df['iso2'].value_counts()\n",
    "plt.pie(data, labels=data.index, autopct=\"%.0f%%\")"
   ]
  },
  {
   "cell_type": "markdown",
   "id": "1b58e459",
   "metadata": {},
   "source": [
    "# Univariate categorical unordered"
   ]
  },
  {
   "cell_type": "code",
   "execution_count": 44,
   "id": "5d0e7a30",
   "metadata": {},
   "outputs": [
    {
     "data": {
      "text/plain": [
       "UID                 int64\n",
       "iso2               object\n",
       "iso3               object\n",
       "code3               int64\n",
       "FIPS              float64\n",
       "Admin2             object\n",
       "Province_State     object\n",
       "Country_Region     object\n",
       "Lat               float64\n",
       "Long_             float64\n",
       "Combined_Key       object\n",
       "Date               object\n",
       "Confirmed           int64\n",
       "Deaths              int64\n",
       "dtype: object"
      ]
     },
     "execution_count": 44,
     "metadata": {},
     "output_type": "execute_result"
    }
   ],
   "source": [
    "df.dtypes"
   ]
  },
  {
   "cell_type": "code",
   "execution_count": 45,
   "id": "da998122",
   "metadata": {},
   "outputs": [
    {
     "data": {
      "text/plain": [
       "US    612128\n",
       "PR     15040\n",
       "AS       188\n",
       "GU       188\n",
       "MP       188\n",
       "VI       188\n",
       "Name: iso2, dtype: int64"
      ]
     },
     "execution_count": 45,
     "metadata": {},
     "output_type": "execute_result"
    }
   ],
   "source": [
    "df['iso2'].value_counts()"
   ]
  },
  {
   "cell_type": "markdown",
   "id": "52493290",
   "metadata": {},
   "source": [
    "PLOTTING BARPLOT"
   ]
  },
  {
   "cell_type": "code",
   "execution_count": 46,
   "id": "de2fca42",
   "metadata": {},
   "outputs": [
    {
     "data": {
      "image/png": "[encoded data removed]",
      "text/plain": [
       "<Figure size 432x288 with 1 Axes>"
      ]
     },
     "metadata": {
      "needs_background": "light"
     },
     "output_type": "display_data"
    }
   ],
   "source": [
    "df['iso2'].value_counts().plot.barh()\n",
    "plt.show()"
   ]
  },
  {
   "cell_type": "markdown",
   "id": "98bcf158",
   "metadata": {},
   "source": [
    "Normalization on a Barchart"
   ]
  },
  {
   "cell_type": "code",
   "execution_count": 47,
   "id": "db4751ef",
   "metadata": {},
   "outputs": [
    {
     "data": {
      "text/plain": [
       "US    0.974850\n",
       "PR    0.023952\n",
       "AS    0.000299\n",
       "GU    0.000299\n",
       "MP    0.000299\n",
       "VI    0.000299\n",
       "Name: iso2, dtype: float64"
      ]
     },
     "execution_count": 47,
     "metadata": {},
     "output_type": "execute_result"
    }
   ],
   "source": [
    "df['iso2'].value_counts(normalize=True)"
   ]
  },
  {
   "cell_type": "code",
   "execution_count": 48,
   "id": "a56be1a7",
   "metadata": {},
   "outputs": [
    {
     "data": {
      "text/plain": [
       "<AxesSubplot:>"
      ]
     },
     "execution_count": 48,
     "metadata": {},
     "output_type": "execute_result"
    },
    {
     "data": {
      "image/png": "[encoded data removed]",
      "text/plain": [
       "<Figure size 432x288 with 1 Axes>"
      ]
     },
     "metadata": {
      "needs_background": "light"
     },
     "output_type": "display_data"
    }
   ],
   "source": [
    "df['iso2'].value_counts(normalize=True).plot.barh()"
   ]
  },
  {
   "cell_type": "markdown",
   "id": "a7490ff2",
   "metadata": {},
   "source": [
    "Normalization on Piechart"
   ]
  },
  {
   "cell_type": "code",
   "execution_count": 49,
   "id": "7a4e2df1",
   "metadata": {},
   "outputs": [
    {
     "data": {
      "text/plain": [
       "USA    612128\n",
       "PRI     15040\n",
       "ASM       188\n",
       "GUM       188\n",
       "MNP       188\n",
       "VIR       188\n",
       "Name: iso3, dtype: int64"
      ]
     },
     "execution_count": 49,
     "metadata": {},
     "output_type": "execute_result"
    }
   ],
   "source": [
    "df['iso3'].value_counts()"
   ]
  },
  {
   "cell_type": "code",
   "execution_count": 50,
   "id": "27885eac",
   "metadata": {},
   "outputs": [
    {
     "data": {
      "text/plain": [
       "<AxesSubplot:ylabel='iso3'>"
      ]
     },
     "execution_count": 50,
     "metadata": {},
     "output_type": "execute_result"
    },
    {
     "data": {
      "image/png": "[encoded data removed]",
      "text/plain": [
       "<Figure size 432x288 with 1 Axes>"
      ]
     },
     "metadata": {},
     "output_type": "display_data"
    }
   ],
   "source": [
    "df['iso3'].value_counts().plot.pie()"
   ]
  },
  {
   "cell_type": "code",
   "execution_count": 51,
   "id": "cdae383c",
   "metadata": {},
   "outputs": [
    {
     "data": {
      "text/plain": [
       "USA    0.974850\n",
       "PRI    0.023952\n",
       "ASM    0.000299\n",
       "GUM    0.000299\n",
       "MNP    0.000299\n",
       "VIR    0.000299\n",
       "Name: iso3, dtype: float64"
      ]
     },
     "execution_count": 51,
     "metadata": {},
     "output_type": "execute_result"
    }
   ],
   "source": [
    "df['iso3'].value_counts(normalize=True)"
   ]
  },
  {
   "cell_type": "code",
   "execution_count": 52,
   "id": "14ca7b1d",
   "metadata": {},
   "outputs": [
    {
     "data": {
      "text/plain": [
       "<AxesSubplot:ylabel='iso3'>"
      ]
     },
     "execution_count": 52,
     "metadata": {},
     "output_type": "execute_result"
    },
    {
     "data": {
      "image/png": "[encoded data removed]",
      "text/plain": [
       "<Figure size 432x288 with 1 Axes>"
      ]
     },
     "metadata": {},
     "output_type": "display_data"
    }
   ],
   "source": [
    "df['iso3'].value_counts(normalize=True).plot.pie()"
   ]
  },
  {
   "cell_type": "code",
   "execution_count": 53,
   "id": "d6686d93",
   "metadata": {},
   "outputs": [
    {
     "data": {
      "image/png": "[encoded data removed]",
      "text/plain": [
       "<Figure size 432x288 with 1 Axes>"
      ]
     },
     "metadata": {
      "needs_background": "light"
     },
     "output_type": "display_data"
    }
   ],
   "source": [
    "df['iso2'].value_counts(normalize=True).plot.bar()\n",
    "plt.show()"
   ]
  },
  {
   "cell_type": "code",
   "execution_count": 11,
   "id": "ce8c443b",
   "metadata": {},
   "outputs": [
    {
     "data": {
      "text/plain": [
       "<AxesSubplot:>"
      ]
     },
     "execution_count": 11,
     "metadata": {},
     "output_type": "execute_result"
    },
    {
     "data": {
      "image/png": "[encoded data removed]",
      "text/plain": [
       "<Figure size 432x288 with 1 Axes>"
      ]
     },
     "metadata": {
      "needs_background": "light"
     },
     "output_type": "display_data"
    }
   ],
   "source": [
    "#removing PR coulum\n",
    "df[~(df['iso2']==\"PR\")].iso2.value_counts().plot.bar()"
   ]
  },
  {
   "cell_type": "markdown",
   "id": "793a3dde",
   "metadata": {},
   "source": [
    "# BIVARIATE ANALYSIS\n"
   ]
  },
  {
   "cell_type": "markdown",
   "id": "6e40e129",
   "metadata": {},
   "source": [
    "Bivariate analysis is an analysis of two variables to determine the relationships between them. They are often reported in quality of life research. It is one of the simplest forms of quantitative (statistical) analysis."
   ]
  },
  {
   "cell_type": "markdown",
   "id": "f96b5e15",
   "metadata": {},
   "source": [
    "1.Numerical and Numerical – In this type, both the variables of bivariate data, independent and dependent, are having numerical values.\n",
    "2.Categorical and Categorical – When both the variables are categorical.\n",
    "3.Numerical and Categorical – When one variable is numerical and one is categorical."
   ]
  },
  {
   "cell_type": "markdown",
   "id": "cb843d05",
   "metadata": {},
   "source": [
    "### FINDING THE RELATIONSHIP BETWEEN TWO COLUMNS USING PAIR PLOT"
   ]
  },
  {
   "cell_type": "markdown",
   "id": "96e638df",
   "metadata": {},
   "source": [
    "A pairplot plot a pairwise relationships in a dataset. The pairplot function creates a grid of Axes such that each variable in data will by shared in the y-axis across a single row and in the x-axis across a single column."
   ]
  },
  {
   "cell_type": "code",
   "execution_count": 16,
   "id": "d2a6bebd",
   "metadata": {},
   "outputs": [
    {
     "data": {
      "image/png": "[encoded data removed]",
      "text/plain": [
       "<Figure size 720x360 with 1 Axes>"
      ]
     },
     "metadata": {
      "needs_background": "light"
     },
     "output_type": "display_data"
    }
   ],
   "source": [
    "import matplotlib.pyplot as plt\n",
    "fig, ax = plt.subplots(figsize = (10,5))\n",
    "ax.scatter(df['Long_'], df['code3'])\n",
    " \n",
    "# x-axis label\n",
    "ax.set_xlabel('Long_')\n",
    " \n",
    "# y-axis labelN\n",
    "ax.set_ylabel('code3')\n",
    "plt.show()"
   ]
  },
  {
   "cell_type": "markdown",
   "id": "472a1bd3",
   "metadata": {},
   "source": [
    "### REPRESENTING TWO COLUMNS ON BAR PLOT"
   ]
  },
  {
   "cell_type": "code",
   "execution_count": 65,
   "id": "b8fe0eba",
   "metadata": {},
   "outputs": [
    {
     "data": {
      "text/plain": [
       "<AxesSubplot:xlabel='Long_', ylabel='code3'>"
      ]
     },
     "execution_count": 65,
     "metadata": {},
     "output_type": "execute_result"
    },
    {
     "data": {
      "image/png": "[encoded data removed]",
      "text/plain": [
       "<Figure size 432x288 with 1 Axes>"
      ]
     },
     "metadata": {
      "needs_background": "light"
     },
     "output_type": "display_data"
    }
   ],
   "source": [
    "sns.barplot(x='Long_',y='code3',data=df)"
   ]
  },
  {
   "cell_type": "markdown",
   "id": "74f9170d",
   "metadata": {},
   "source": [
    "### HEATMAP REPRESENTATION TO FIND CORRELATION"
   ]
  },
  {
   "cell_type": "code",
   "execution_count": 68,
   "id": "377ce556",
   "metadata": {},
   "outputs": [
    {
     "data": {
      "text/plain": [
       "<function matplotlib.pyplot.show(close=None, block=None)>"
      ]
     },
     "execution_count": 68,
     "metadata": {},
     "output_type": "execute_result"
    },
    {
     "data": {
      "image/png": "[encoded data removed]",
      "text/plain": [
       "<Figure size 720x432 with 2 Axes>"
      ]
     },
     "metadata": {
      "needs_background": "light"
     },
     "output_type": "display_data"
    }
   ],
   "source": [
    "corr = df.corr()\n",
    "plt.figure(figsize=(10,6))\n",
    "sns.heatmap(corr,square=True)\n",
    "plt.show"
   ]
  },
  {
   "cell_type": "markdown",
   "id": "9d566828",
   "metadata": {},
   "source": [
    "### LINEPLOT"
   ]
  },
  {
   "cell_type": "code",
   "execution_count": 69,
   "id": "75b4c5c0",
   "metadata": {},
   "outputs": [
    {
     "data": {
      "image/png": "[encoded data removed]",
      "text/plain": [
       "<Figure size 432x288 with 1 Axes>"
      ]
     },
     "metadata": {
      "needs_background": "light"
     },
     "output_type": "display_data"
    }
   ],
   "source": [
    "sns.lineplot(data=df)\n",
    "plt.show()"
   ]
  },
  {
   "cell_type": "markdown",
   "id": "5624da3a",
   "metadata": {},
   "source": [
    "### INFERENTIAL STATISTICS"
   ]
  },
  {
   "cell_type": "code",
   "execution_count": 55,
   "id": "29fbf0bb",
   "metadata": {},
   "outputs": [
    {
     "data": {
      "text/plain": [
       "0    0.0\n",
       "dtype: float64"
      ]
     },
     "execution_count": 55,
     "metadata": {},
     "output_type": "execute_result"
    }
   ],
   "source": [
    "df['Long_'].mode()"
   ]
  },
  {
   "cell_type": "markdown",
   "id": "21fc0617",
   "metadata": {},
   "source": [
    "In the above case, the data type is float because it has decimal places assigned"
   ]
  },
  {
   "cell_type": "code",
   "execution_count": 56,
   "id": "24628da4",
   "metadata": {},
   "outputs": [
    {
     "data": {
      "text/plain": [
       "-88.60147445562131"
      ]
     },
     "execution_count": 56,
     "metadata": {},
     "output_type": "execute_result"
    }
   ],
   "source": [
    "df['Long_'].mean()"
   ]
  },
  {
   "cell_type": "code",
   "execution_count": 57,
   "id": "722b544d",
   "metadata": {},
   "outputs": [
    {
     "data": {
      "text/plain": [
       "-89.48670996999999"
      ]
     },
     "execution_count": 57,
     "metadata": {},
     "output_type": "execute_result"
    }
   ],
   "source": [
    "df['Long_'].median()"
   ]
  },
  {
   "cell_type": "markdown",
   "id": "e51a9536",
   "metadata": {},
   "source": [
    "FINDING MEAN MEDIAN AND MODE SKLEARN METHOD"
   ]
  },
  {
   "cell_type": "code",
   "execution_count": 58,
   "id": "c8ce7385",
   "metadata": {},
   "outputs": [],
   "source": [
    "from sklearn.impute import SimpleImputer"
   ]
  },
  {
   "cell_type": "code",
   "execution_count": 59,
   "id": "00f7c734",
   "metadata": {},
   "outputs": [
    {
     "name": "stdout",
     "output_type": "stream",
     "text": [
      "[[-170.132    ]\n",
      " [ 144.7937   ]\n",
      " [ 145.6739   ]\n",
      " ...\n",
      " [-111.4418764]\n",
      " [-109.5174415]\n",
      " [-111.9145117]]\n"
     ]
    }
   ],
   "source": [
    "impo = SimpleImputer(strategy='mean')\n",
    "x = df[['Long_']]\n",
    "X = impo.fit_transform(x)\n",
    "print(X)"
   ]
  },
  {
   "cell_type": "code",
   "execution_count": 60,
   "id": "da46fab6",
   "metadata": {},
   "outputs": [
    {
     "name": "stdout",
     "output_type": "stream",
     "text": [
      "[[-14.271     ]\n",
      " [ 13.4443    ]\n",
      " [ 15.0979    ]\n",
      " ...\n",
      " [ 37.85447192]\n",
      " [ 40.12491499]\n",
      " [ 41.27116049]]\n"
     ]
    }
   ],
   "source": [
    "impo = SimpleImputer(strategy='median')\n",
    "x = df[['Lat']]\n",
    "X = impo.fit_transform(x)\n",
    "print(X)"
   ]
  },
  {
   "cell_type": "code",
   "execution_count": 61,
   "id": "19a350ba",
   "metadata": {},
   "outputs": [
    {
     "name": "stdout",
     "output_type": "stream",
     "text": [
      "[[60.]\n",
      " [66.]\n",
      " [69.]\n",
      " ...\n",
      " [60.]\n",
      " [60.]\n",
      " [60.]]\n"
     ]
    }
   ],
   "source": [
    "impo = SimpleImputer(strategy='most_frequent')\n",
    "x = df[['FIPS']]\n",
    "X = impo.fit_transform(x)\n",
    "print(X)"
   ]
  },
  {
   "cell_type": "markdown",
   "id": "de6a9915",
   "metadata": {},
   "source": [
    "# Multi - Variate Analysis"
   ]
  },
  {
   "cell_type": "markdown",
   "id": "ff7a9449",
   "metadata": {},
   "source": [
    "Multivariate analysis of variance. In statistics, multivariate analysis of variance ( MANOVA) is a procedure for comparing multivariate sample means. As a multivariate procedure, it is used when there are two or more dependent variables, and is typically followed by significance tests involving individual dependent variables separately.Due to the size and complexity of the underlying data sets, requires much computational effort."
   ]
  },
  {
   "cell_type": "code",
   "execution_count": 5,
   "id": "802ae772",
   "metadata": {},
   "outputs": [
    {
     "data": {
      "text/html": [
       "<div>\n",
       "<style scoped>\n",
       "    .dataframe tbody tr th:only-of-type {\n",
       "        vertical-align: middle;\n",
       "    }\n",
       "\n",
       "    .dataframe tbody tr th {\n",
       "        vertical-align: top;\n",
       "    }\n",
       "\n",
       "    .dataframe thead th {\n",
       "        text-align: right;\n",
       "    }\n",
       "</style>\n",
       "<table border=\"1\" class=\"dataframe\">\n",
       "  <thead>\n",
       "    <tr style=\"text-align: right;\">\n",
       "      <th></th>\n",
       "      <th>UID</th>\n",
       "      <th>iso2</th>\n",
       "      <th>iso3</th>\n",
       "      <th>code3</th>\n",
       "      <th>FIPS</th>\n",
       "      <th>Admin2</th>\n",
       "      <th>Province_State</th>\n",
       "      <th>Country_Region</th>\n",
       "      <th>Lat</th>\n",
       "      <th>Long_</th>\n",
       "      <th>Combined_Key</th>\n",
       "      <th>Date</th>\n",
       "      <th>Confirmed</th>\n",
       "      <th>Deaths</th>\n",
       "    </tr>\n",
       "  </thead>\n",
       "  <tbody>\n",
       "    <tr>\n",
       "      <th>0</th>\n",
       "      <td>16</td>\n",
       "      <td>AS</td>\n",
       "      <td>ASM</td>\n",
       "      <td>16</td>\n",
       "      <td>60.0</td>\n",
       "      <td>NaN</td>\n",
       "      <td>American Samoa</td>\n",
       "      <td>US</td>\n",
       "      <td>-14.271000</td>\n",
       "      <td>-170.132000</td>\n",
       "      <td>American Samoa, US</td>\n",
       "      <td>1/22/20</td>\n",
       "      <td>0</td>\n",
       "      <td>0</td>\n",
       "    </tr>\n",
       "    <tr>\n",
       "      <th>1</th>\n",
       "      <td>316</td>\n",
       "      <td>GU</td>\n",
       "      <td>GUM</td>\n",
       "      <td>316</td>\n",
       "      <td>66.0</td>\n",
       "      <td>NaN</td>\n",
       "      <td>Guam</td>\n",
       "      <td>US</td>\n",
       "      <td>13.444300</td>\n",
       "      <td>144.793700</td>\n",
       "      <td>Guam, US</td>\n",
       "      <td>1/22/20</td>\n",
       "      <td>0</td>\n",
       "      <td>0</td>\n",
       "    </tr>\n",
       "    <tr>\n",
       "      <th>2</th>\n",
       "      <td>580</td>\n",
       "      <td>MP</td>\n",
       "      <td>MNP</td>\n",
       "      <td>580</td>\n",
       "      <td>69.0</td>\n",
       "      <td>NaN</td>\n",
       "      <td>Northern Mariana Islands</td>\n",
       "      <td>US</td>\n",
       "      <td>15.097900</td>\n",
       "      <td>145.673900</td>\n",
       "      <td>Northern Mariana Islands, US</td>\n",
       "      <td>1/22/20</td>\n",
       "      <td>0</td>\n",
       "      <td>0</td>\n",
       "    </tr>\n",
       "    <tr>\n",
       "      <th>3</th>\n",
       "      <td>63072001</td>\n",
       "      <td>PR</td>\n",
       "      <td>PRI</td>\n",
       "      <td>630</td>\n",
       "      <td>72001.0</td>\n",
       "      <td>Adjuntas</td>\n",
       "      <td>Puerto Rico</td>\n",
       "      <td>US</td>\n",
       "      <td>18.180117</td>\n",
       "      <td>-66.754367</td>\n",
       "      <td>Adjuntas, Puerto Rico, US</td>\n",
       "      <td>1/22/20</td>\n",
       "      <td>0</td>\n",
       "      <td>0</td>\n",
       "    </tr>\n",
       "    <tr>\n",
       "      <th>4</th>\n",
       "      <td>63072003</td>\n",
       "      <td>PR</td>\n",
       "      <td>PRI</td>\n",
       "      <td>630</td>\n",
       "      <td>72003.0</td>\n",
       "      <td>Aguada</td>\n",
       "      <td>Puerto Rico</td>\n",
       "      <td>US</td>\n",
       "      <td>18.360255</td>\n",
       "      <td>-67.175131</td>\n",
       "      <td>Aguada, Puerto Rico, US</td>\n",
       "      <td>1/22/20</td>\n",
       "      <td>0</td>\n",
       "      <td>0</td>\n",
       "    </tr>\n",
       "    <tr>\n",
       "      <th>...</th>\n",
       "      <td>...</td>\n",
       "      <td>...</td>\n",
       "      <td>...</td>\n",
       "      <td>...</td>\n",
       "      <td>...</td>\n",
       "      <td>...</td>\n",
       "      <td>...</td>\n",
       "      <td>...</td>\n",
       "      <td>...</td>\n",
       "      <td>...</td>\n",
       "      <td>...</td>\n",
       "      <td>...</td>\n",
       "      <td>...</td>\n",
       "      <td>...</td>\n",
       "    </tr>\n",
       "    <tr>\n",
       "      <th>627915</th>\n",
       "      <td>84070016</td>\n",
       "      <td>US</td>\n",
       "      <td>USA</td>\n",
       "      <td>840</td>\n",
       "      <td>NaN</td>\n",
       "      <td>Central Utah</td>\n",
       "      <td>Utah</td>\n",
       "      <td>US</td>\n",
       "      <td>39.372319</td>\n",
       "      <td>-111.575868</td>\n",
       "      <td>Central Utah, Utah, US</td>\n",
       "      <td>7/27/20</td>\n",
       "      <td>347</td>\n",
       "      <td>1</td>\n",
       "    </tr>\n",
       "    <tr>\n",
       "      <th>627916</th>\n",
       "      <td>84070017</td>\n",
       "      <td>US</td>\n",
       "      <td>USA</td>\n",
       "      <td>840</td>\n",
       "      <td>NaN</td>\n",
       "      <td>Southeast Utah</td>\n",
       "      <td>Utah</td>\n",
       "      <td>US</td>\n",
       "      <td>38.996171</td>\n",
       "      <td>-110.701396</td>\n",
       "      <td>Southeast Utah, Utah, US</td>\n",
       "      <td>7/27/20</td>\n",
       "      <td>70</td>\n",
       "      <td>0</td>\n",
       "    </tr>\n",
       "    <tr>\n",
       "      <th>627917</th>\n",
       "      <td>84070018</td>\n",
       "      <td>US</td>\n",
       "      <td>USA</td>\n",
       "      <td>840</td>\n",
       "      <td>NaN</td>\n",
       "      <td>Southwest Utah</td>\n",
       "      <td>Utah</td>\n",
       "      <td>US</td>\n",
       "      <td>37.854472</td>\n",
       "      <td>-111.441876</td>\n",
       "      <td>Southwest Utah, Utah, US</td>\n",
       "      <td>7/27/20</td>\n",
       "      <td>2781</td>\n",
       "      <td>23</td>\n",
       "    </tr>\n",
       "    <tr>\n",
       "      <th>627918</th>\n",
       "      <td>84070019</td>\n",
       "      <td>US</td>\n",
       "      <td>USA</td>\n",
       "      <td>840</td>\n",
       "      <td>NaN</td>\n",
       "      <td>TriCounty</td>\n",
       "      <td>Utah</td>\n",
       "      <td>US</td>\n",
       "      <td>40.124915</td>\n",
       "      <td>-109.517442</td>\n",
       "      <td>TriCounty, Utah, US</td>\n",
       "      <td>7/27/20</td>\n",
       "      <td>142</td>\n",
       "      <td>0</td>\n",
       "    </tr>\n",
       "    <tr>\n",
       "      <th>627919</th>\n",
       "      <td>84070020</td>\n",
       "      <td>US</td>\n",
       "      <td>USA</td>\n",
       "      <td>840</td>\n",
       "      <td>NaN</td>\n",
       "      <td>Weber-Morgan</td>\n",
       "      <td>Utah</td>\n",
       "      <td>US</td>\n",
       "      <td>41.271160</td>\n",
       "      <td>-111.914512</td>\n",
       "      <td>Weber-Morgan, Utah, US</td>\n",
       "      <td>7/27/20</td>\n",
       "      <td>2375</td>\n",
       "      <td>24</td>\n",
       "    </tr>\n",
       "  </tbody>\n",
       "</table>\n",
       "<p>627920 rows × 14 columns</p>\n",
       "</div>"
      ],
      "text/plain": [
       "             UID iso2 iso3  code3     FIPS          Admin2  \\\n",
       "0             16   AS  ASM     16     60.0             NaN   \n",
       "1            316   GU  GUM    316     66.0             NaN   \n",
       "2            580   MP  MNP    580     69.0             NaN   \n",
       "3       63072001   PR  PRI    630  72001.0        Adjuntas   \n",
       "4       63072003   PR  PRI    630  72003.0          Aguada   \n",
       "...          ...  ...  ...    ...      ...             ...   \n",
       "627915  84070016   US  USA    840      NaN    Central Utah   \n",
       "627916  84070017   US  USA    840      NaN  Southeast Utah   \n",
       "627917  84070018   US  USA    840      NaN  Southwest Utah   \n",
       "627918  84070019   US  USA    840      NaN       TriCounty   \n",
       "627919  84070020   US  USA    840      NaN    Weber-Morgan   \n",
       "\n",
       "                  Province_State Country_Region        Lat       Long_  \\\n",
       "0                 American Samoa             US -14.271000 -170.132000   \n",
       "1                           Guam             US  13.444300  144.793700   \n",
       "2       Northern Mariana Islands             US  15.097900  145.673900   \n",
       "3                    Puerto Rico             US  18.180117  -66.754367   \n",
       "4                    Puerto Rico             US  18.360255  -67.175131   \n",
       "...                          ...            ...        ...         ...   \n",
       "627915                      Utah             US  39.372319 -111.575868   \n",
       "627916                      Utah             US  38.996171 -110.701396   \n",
       "627917                      Utah             US  37.854472 -111.441876   \n",
       "627918                      Utah             US  40.124915 -109.517442   \n",
       "627919                      Utah             US  41.271160 -111.914512   \n",
       "\n",
       "                        Combined_Key     Date  Confirmed  Deaths  \n",
       "0                 American Samoa, US  1/22/20          0       0  \n",
       "1                           Guam, US  1/22/20          0       0  \n",
       "2       Northern Mariana Islands, US  1/22/20          0       0  \n",
       "3          Adjuntas, Puerto Rico, US  1/22/20          0       0  \n",
       "4            Aguada, Puerto Rico, US  1/22/20          0       0  \n",
       "...                              ...      ...        ...     ...  \n",
       "627915        Central Utah, Utah, US  7/27/20        347       1  \n",
       "627916      Southeast Utah, Utah, US  7/27/20         70       0  \n",
       "627917      Southwest Utah, Utah, US  7/27/20       2781      23  \n",
       "627918           TriCounty, Utah, US  7/27/20        142       0  \n",
       "627919        Weber-Morgan, Utah, US  7/27/20       2375      24  \n",
       "\n",
       "[627920 rows x 14 columns]"
      ]
     },
     "execution_count": 5,
     "metadata": {},
     "output_type": "execute_result"
    }
   ],
   "source": [
    "df = pd.read_csv(\"/Users/nimithareddy/Downloads/archive/usa_county_wise.csv\")\n",
    "df"
   ]
  },
  {
   "cell_type": "code",
   "execution_count": 6,
   "id": "90c2c626",
   "metadata": {},
   "outputs": [
    {
     "name": "stdout",
     "output_type": "stream",
     "text": [
      "<class 'pandas.core.frame.DataFrame'>\n",
      "RangeIndex: 627920 entries, 0 to 627919\n",
      "Data columns (total 14 columns):\n",
      " #   Column          Non-Null Count   Dtype  \n",
      "---  ------          --------------   -----  \n",
      " 0   UID             627920 non-null  int64  \n",
      " 1   iso2            627920 non-null  object \n",
      " 2   iso3            627920 non-null  object \n",
      " 3   code3           627920 non-null  int64  \n",
      " 4   FIPS            626040 non-null  float64\n",
      " 5   Admin2          626792 non-null  object \n",
      " 6   Province_State  627920 non-null  object \n",
      " 7   Country_Region  627920 non-null  object \n",
      " 8   Lat             627920 non-null  float64\n",
      " 9   Long_           627920 non-null  float64\n",
      " 10  Combined_Key    627920 non-null  object \n",
      " 11  Date            627920 non-null  object \n",
      " 12  Confirmed       627920 non-null  int64  \n",
      " 13  Deaths          627920 non-null  int64  \n",
      "dtypes: float64(3), int64(4), object(7)\n",
      "memory usage: 67.1+ MB\n"
     ]
    }
   ],
   "source": [
    "df.info()"
   ]
  },
  {
   "cell_type": "markdown",
   "id": "037c6ea5",
   "metadata": {},
   "source": [
    "# PAIR PLOT"
   ]
  },
  {
   "cell_type": "markdown",
   "id": "8a0bbb28",
   "metadata": {},
   "source": [
    "A pairplot plot a pairwise relationships in a dataset. The pairplot function creates a grid of Axes such that each variable in data will by shared in the y-axis across a single row and in the x-axis across a single column.\n",
    "\n"
   ]
  },
  {
   "cell_type": "code",
   "execution_count": 23,
   "id": "11afad2c",
   "metadata": {},
   "outputs": [
    {
     "data": {
      "text/plain": [
       "<seaborn.axisgrid.PairGrid at 0x7fb535a81d00>"
      ]
     },
     "execution_count": 23,
     "metadata": {},
     "output_type": "execute_result"
    },
    {
     "data": {
      "image/png": "[encoded data removed]",
      "text/plain": [
       "<Figure size 1260x1260 with 56 Axes>"
      ]
     },
     "metadata": {
      "needs_background": "light"
     },
     "output_type": "display_data"
    }
   ],
   "source": [
    "sns.pairplot(df)"
   ]
  },
  {
   "cell_type": "markdown",
   "id": "abd2239a",
   "metadata": {},
   "source": [
    "And this is the result we can see and it is so clearly visible and the relation between the variables is clearly seen here and we can easily separate the relation between the variables values from the above graph."
   ]
  },
  {
   "cell_type": "markdown",
   "id": "14e6331b",
   "metadata": {},
   "source": [
    "# SCATTER PLOT\n",
    "Scatter plots are the graphs that present the relationship between two variables in a data-set. It represents data points on a two-dimensional plane or on a Cartesian system. The independent variable or attribute is plotted on the X-axis, while the dependent variable is plotted on the Y-axis. These plots are often called scatter graphs or scatter diagrams."
   ]
  },
  {
   "cell_type": "markdown",
   "id": "1cbd4886",
   "metadata": {},
   "source": [
    "FINDING THE REALTIONSHIP BETWEEN TWO COLUMNS USING SCATTER PLOT"
   ]
  },
  {
   "cell_type": "code",
   "execution_count": 9,
   "id": "a91f6dee",
   "metadata": {},
   "outputs": [
    {
     "data": {
      "image/png": "[encoded data removed]",
      "text/plain": [
       "<Figure size 720x360 with 1 Axes>"
      ]
     },
     "metadata": {
      "needs_background": "light"
     },
     "output_type": "display_data"
    }
   ],
   "source": [
    "import matplotlib.pyplot as plt\n",
    "fig, ax = plt.subplots(figsize = (10,5))\n",
    "ax.scatter(df['Long_'], df['code3'])\n",
    " \n",
    "# x-axis label\n",
    "ax.set_xlabel('Long_')\n",
    " \n",
    "# y-axis labelN\n",
    "ax.set_ylabel('code3')\n",
    "plt.show()"
   ]
  },
  {
   "cell_type": "markdown",
   "id": "8c09b334",
   "metadata": {},
   "source": [
    "# CORRELATION USING HEAT MAP"
   ]
  },
  {
   "cell_type": "markdown",
   "id": "fe3623ad",
   "metadata": {},
   "source": [
    "The values in the cells indicate the strength of\n",
    "the relationship, with positive values indicating a positive relationship and\n",
    "negative values indicating a negative relationship. In addition, correlation plots\n",
    "can be used to identify outliers and to detect linear and nonlinear relationships."
   ]
  },
  {
   "cell_type": "code",
   "execution_count": 12,
   "id": "0d21ce98",
   "metadata": {
    "scrolled": false
   },
   "outputs": [
    {
     "data": {
      "text/plain": [
       "<function matplotlib.pyplot.show(close=None, block=None)>"
      ]
     },
     "execution_count": 12,
     "metadata": {},
     "output_type": "execute_result"
    },
    {
     "data": {
      "image/png": "[encoded data removed]",
      "text/plain": [
       "<Figure size 720x432 with 2 Axes>"
      ]
     },
     "metadata": {
      "needs_background": "light"
     },
     "output_type": "display_data"
    }
   ],
   "source": [
    "plt.figure(figsize=(10,6))\n",
    "plt.title(\"Heatmap corelation for multiple columns\")\n",
    "corr=df.corr()\n",
    "sns.heatmap(data=corr,annot=True)\n",
    "plt.show"
   ]
  },
  {
   "cell_type": "markdown",
   "id": "bb6163f4",
   "metadata": {},
   "source": [
    "# CONCLUSION"
   ]
  },
  {
   "cell_type": "markdown",
   "id": "ba3b2ca3",
   "metadata": {},
   "source": [
    "There are several variables that have no correlation and whose correlation\n",
    "value is near 0.\n",
    "• A correlation heatmap is a graphical representation of a correlation matrix representing the correlation between different variables.\n",
    "• The value of correlation can take any value from -1 to 1."
   ]
  }
 ],
 "metadata": {
  "kernelspec": {
   "display_name": "Python 3 (ipykernel)",
   "language": "python",
   "name": "python3"
  },
  "language_info": {
   "codemirror_mode": {
    "name": "ipython",
    "version": 3
   },
   "file_extension": ".py",
   "mimetype": "text/x-python",
   "name": "python",
   "nbconvert_exporter": "python",
   "pygments_lexer": "ipython3",
   "version": "3.9.7"
  }
 },
 "nbformat": 4,
 "nbformat_minor": 5
}
